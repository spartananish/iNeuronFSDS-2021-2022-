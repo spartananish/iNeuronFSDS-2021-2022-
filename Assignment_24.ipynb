{
 "cells": [
  {
   "cell_type": "markdown",
   "id": "839fbe17",
   "metadata": {},
   "source": [
    "1. What is the relationship between def statements and lambda expressions ?"
   ]
  },
  {
   "cell_type": "markdown",
   "id": "2f93a0bc",
   "metadata": {},
   "source": [
    "Answer - The only difference is that (a) the body of a lambda can consist of only a single expression, the result of which is returned from the function created and (b) a lambda expression is an expression which evaluates to a function object, while a def statement has no value, and creates a function object and binds it."
   ]
  },
  {
   "cell_type": "markdown",
   "id": "2a38063b",
   "metadata": {},
   "source": [
    "2. What is the benefit of lambda?"
   ]
  },
  {
   "cell_type": "markdown",
   "id": "428aad10",
   "metadata": {},
   "source": [
    "Answer - The lambda keyword in Python provides a shortcut for declaring small anonymous functions. Lambda functions behave just like regular functions declared with the def keyword. They can be used whenever function objects are required."
   ]
  },
  {
   "cell_type": "markdown",
   "id": "76ea7ebe",
   "metadata": {},
   "source": [
    "3. Compare and contrast map, filter, and reduce."
   ]
  },
  {
   "cell_type": "markdown",
   "id": "258cc908",
   "metadata": {},
   "source": [
    "Answer -Both map and reduce have as input the array and a function you define. They are in some way complementary: map cannot return one single element for an array of multiple elements, while reduce will always return the accumulator you eventually changed."
   ]
  },
  {
   "cell_type": "markdown",
   "id": "1e63e689",
   "metadata": {},
   "source": [
    "4. What are function annotations, and how are they used?"
   ]
  },
  {
   "cell_type": "markdown",
   "id": "a9487816",
   "metadata": {},
   "source": [
    "Answer - Function annotations are completely optional both for parameters and return value. Function annotations provide a way of associating various parts of a function with arbitrary python expressions at compile time."
   ]
  },
  {
   "cell_type": "markdown",
   "id": "577906ee",
   "metadata": {},
   "source": [
    "5. What are recursive functions, and how are they used?"
   ]
  },
  {
   "cell_type": "markdown",
   "id": "3c549bf9",
   "metadata": {},
   "source": [
    "Answer-A recursive function is a function in code that refers to itself for execution. Recursive functions can be simple or elaborate. They allow for more efficient code writing, for instance, in the listing or compiling of sets of numbers, strings or other variables through a single reiterated process."
   ]
  },
  {
   "cell_type": "markdown",
   "id": "f38fd3c1",
   "metadata": {},
   "source": [
    "6. What are some general design guidelines for coding functions?"
   ]
  },
  {
   "cell_type": "markdown",
   "id": "0a5c534b",
   "metadata": {},
   "source": [
    "Answer-Safe: It can be used without causing harm.\n",
    "Secure: It can't be hacked.\n",
    "Reliable: It functions as it should, every time.\n",
    "Testable: It can be tested at the code level.\n",
    "Maintainable: It can be maintained, even as your codebase grows.\n",
    "Portable: It works the same in every environment.\n"
   ]
  },
  {
   "cell_type": "markdown",
   "id": "cf58205b",
   "metadata": {},
   "source": [
    "7. Name three or more ways that functions can communicate results to a caller."
   ]
  },
  {
   "cell_type": "markdown",
   "id": "2d4ce490",
   "metadata": {},
   "source": [
    "Answer-The three ways are;\n",
    " (a) By Returning the value\n",
    " (b)  By Printng the value \n",
    " (c) By Evaluating the expression"
   ]
  },
  {
   "cell_type": "code",
   "execution_count": null,
   "id": "65944754",
   "metadata": {},
   "outputs": [],
   "source": []
  }
 ],
 "metadata": {
  "kernelspec": {
   "display_name": "Python 3 (ipykernel)",
   "language": "python",
   "name": "python3"
  },
  "language_info": {
   "codemirror_mode": {
    "name": "ipython",
    "version": 3
   },
   "file_extension": ".py",
   "mimetype": "text/x-python",
   "name": "python",
   "nbconvert_exporter": "python",
   "pygments_lexer": "ipython3",
   "version": "3.9.7"
  }
 },
 "nbformat": 4,
 "nbformat_minor": 5
}
