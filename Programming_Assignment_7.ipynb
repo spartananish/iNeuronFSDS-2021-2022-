{
 "cells": [
  {
   "cell_type": "markdown",
   "id": "3a389c19",
   "metadata": {},
   "source": [
    "1.\tWrite a Python Program to find sum of array?"
   ]
  },
  {
   "cell_type": "code",
   "execution_count": null,
   "id": "2ea83db2",
   "metadata": {},
   "outputs": [],
   "source": [
    "def Sum(n):\n",
    "    arr=[]\n",
    "    sum=0\n",
    "    for i in range(n):\n",
    "        ele = int(input(n))\n",
    "        arr.append(ele)\n",
    "    for i in range(n):\n",
    "        sum= sum+arr[i]\n",
    "    return sum\n",
    "        "
   ]
  },
  {
   "cell_type": "markdown",
   "id": "20547ae9",
   "metadata": {},
   "source": [
    "2.\tWrite a Python Program to find largest element in an array?"
   ]
  },
  {
   "cell_type": "code",
   "execution_count": null,
   "id": "a873e9e3",
   "metadata": {},
   "outputs": [],
   "source": [
    "import math\n",
    "    \n",
    "            \n",
    "        \n",
    "    "
   ]
  },
  {
   "cell_type": "code",
   "execution_count": null,
   "id": "20d59e40",
   "metadata": {},
   "outputs": [],
   "source": [
    "\n",
    "def largestSum(n):\n",
    "    arr=[]\n",
    "    num=arr[0]\n",
    "    for i in range(n):\n",
    "        ele = int(input(n))\n",
    "        arr.append(ele)\n",
    "    for i in range(n):\n",
    "        if arr[i]>max:\n",
    "            max=arr[i]\n",
    "    return max\n",
    "        "
   ]
  },
  {
   "cell_type": "markdown",
   "id": "e4e41eb0",
   "metadata": {},
   "source": [
    "3.\tWrite a Python Program for array rotation?"
   ]
  },
  {
   "cell_type": "code",
   "execution_count": null,
   "id": "b2c4c03e",
   "metadata": {},
   "outputs": [],
   "source": [
    "def rotation(a,d):\n",
    "    temp = []\n",
    "    n=len(a)\n",
    "    for i in range(d,n):\n",
    "        temp.append(a[i])\n",
    "    i = 0\n",
    "    for i in range (0,d):\n",
    "        temp.append(a[i])\n",
    "    a=temp.copy()\n",
    "    return a"
   ]
  },
  {
   "cell_type": "markdown",
   "id": "285f86cb",
   "metadata": {},
   "source": [
    "4.\tWrite a Python Program to Split the array and add the first part to the end?"
   ]
  },
  {
   "cell_type": "code",
   "execution_count": null,
   "id": "aa4365dc",
   "metadata": {},
   "outputs": [],
   "source": [
    "def arraySplit(arr, n, k):\n",
    "    for i in range(0, k):\n",
    "        x = arr[0]\n",
    "        for j in range(0, n-1):\n",
    "            arr[j] = arr[j + 1]\n",
    "        arr[n-1] = x\n",
    "arr = [15, 40, 15, 16, 50, 36]\n",
    "n = len(arr)\n",
    "position = 2\n",
    "SplitArray(arr, n, position)\n",
    "for i in range(0, n):\n",
    "    print(arr[i], end = ' ')"
   ]
  },
  {
   "cell_type": "markdown",
   "id": "b66557ef",
   "metadata": {},
   "source": [
    "5.\tWrite a Python Program to check if given array is Monotonic?"
   ]
  },
  {
   "cell_type": "code",
   "execution_count": null,
   "id": "4be01ccf",
   "metadata": {},
   "outputs": [],
   "source": [
    "def ismonotone(a):\n",
    "    n=len(a) \n",
    "    if n==1:\n",
    "        return True\n",
    "    else:\n",
    "        if all(a[i]>=a[i+1] for i in range(0,n-1) or a[i]<=a[i+1] for i in range(0,n-1)):\n",
    "            return True\n",
    "        else:\n",
    "            return False"
   ]
  },
  {
   "cell_type": "code",
   "execution_count": null,
   "id": "0a9ac13c",
   "metadata": {},
   "outputs": [],
   "source": []
  }
 ],
 "metadata": {
  "kernelspec": {
   "display_name": "Python 3 (ipykernel)",
   "language": "python",
   "name": "python3"
  },
  "language_info": {
   "codemirror_mode": {
    "name": "ipython",
    "version": 3
   },
   "file_extension": ".py",
   "mimetype": "text/x-python",
   "name": "python",
   "nbconvert_exporter": "python",
   "pygments_lexer": "ipython3",
   "version": "3.9.7"
  }
 },
 "nbformat": 4,
 "nbformat_minor": 5
}
