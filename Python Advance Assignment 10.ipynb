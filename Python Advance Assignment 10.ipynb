{
 "cells": [
  {
   "cell_type": "markdown",
   "id": "1cd109d7",
   "metadata": {},
   "source": [
    "Q1. What is the difference between __getattr__ and __getattribute__?"
   ]
  },
  {
   "cell_type": "markdown",
   "id": "ce8244be",
   "metadata": {},
   "source": [
    "Answer - getattribute:- Is used to retrieve an attribute from an instance. getattr.\n",
    "         getattr:- Is executed as the last resource when attribute is not found in an object."
   ]
  },
  {
   "cell_type": "markdown",
   "id": "695e1db1",
   "metadata": {},
   "source": [
    "Q2.Is executed as the last resource when attribute is not found in an object."
   ]
  },
  {
   "cell_type": "markdown",
   "id": "6e613e8a",
   "metadata": {},
   "source": [
    "Answer - getAttribute  is excuated when when last resource is not found."
   ]
  },
  {
   "cell_type": "markdown",
   "id": "c1ad6fb9",
   "metadata": {},
   "source": [
    "\n",
    "Q3. What are the key differences in functionality between __getattr__ and __getattribute__, as well as properties and descriptors?\n"
   ]
  },
  {
   "cell_type": "markdown",
   "id": "95126dc9",
   "metadata": {},
   "source": [
    "Answer - (1)getattribute:- (a)getattribute: Is used to retrieve an attribute from an instance.\n",
    "         (b)It captures every attempt to access an instance attribute by using dot notation \n",
    "         \n",
    "         (2)getattr:- (a)getattr() built-in function. \n",
    "                   (b)getattr: Is executed as the last resource when attribute is not found in an object.\n",
    "        "
   ]
  },
  {
   "cell_type": "code",
   "execution_count": null,
   "id": "c558e988",
   "metadata": {},
   "outputs": [],
   "source": []
  }
 ],
 "metadata": {
  "kernelspec": {
   "display_name": "Python 3 (ipykernel)",
   "language": "python",
   "name": "python3"
  },
  "language_info": {
   "codemirror_mode": {
    "name": "ipython",
    "version": 3
   },
   "file_extension": ".py",
   "mimetype": "text/x-python",
   "name": "python",
   "nbconvert_exporter": "python",
   "pygments_lexer": "ipython3",
   "version": "3.9.7"
  }
 },
 "nbformat": 4,
 "nbformat_minor": 5
}
