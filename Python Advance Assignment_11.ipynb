{
 "cells": [
  {
   "cell_type": "markdown",
   "id": "0f9dc242",
   "metadata": {},
   "source": [
    "Q1. What is the concept of a metaclass?"
   ]
  },
  {
   "cell_type": "markdown",
   "id": "7b9c9fbf",
   "metadata": {},
   "source": [
    "Answer - A metaclass in Python is a class of a class that defines how a class behaves. A class is itself an instance of a metaclass. A class in Python defines how the instance of the class will behave."
   ]
  },
  {
   "cell_type": "markdown",
   "id": "a340f9bc",
   "metadata": {},
   "source": [
    "\n",
    "Q2. What is the best way to declare a class's metaclass?\n"
   ]
  },
  {
   "cell_type": "markdown",
   "id": "68f49ee7",
   "metadata": {},
   "source": [
    "Answer - The term metaprogramming refers to the potential for a program to have knowledge of or manipulate itself. Python supports a form of metaprogramming for classes called metaclasses.\n",
    "To Define Meta class in Python :- To create your own metaclass in Python you really just want to subclass type . A metaclass is most commonly used as a class-factory. When you create an object by calling the class, Python creates a new class (when it executes the 'class' statement) by calling the metaclass"
   ]
  },
  {
   "cell_type": "markdown",
   "id": "5d330086",
   "metadata": {},
   "source": [
    "Q3. How do class decorators overlap with metaclasses for handling classes?"
   ]
  },
  {
   "cell_type": "markdown",
   "id": "d38fb5b8",
   "metadata": {},
   "source": [
    "Answer-In this specific case—adding methods to a class when it's created—the choice between metaclasses and decorators is somewhat arbitrary. Decorators can be used to manage both instances and classes, and they intersect with metaclasses in the second of these roles."
   ]
  },
  {
   "cell_type": "markdown",
   "id": "f5cbec70",
   "metadata": {},
   "source": [
    "Q4. How do class decorators overlap with metaclasses for handling instances?"
   ]
  },
  {
   "cell_type": "markdown",
   "id": "6ec850e7",
   "metadata": {},
   "source": [
    "Answer-In this specific case—adding methods to a class when it's created—the choice between metaclasses and decorators is somewhat arbitrary. Decorators can be used to manage both instances and classes, and they intersect with metaclasses in the second of these roles.\n",
    "Note - Both Question are same in Assignment itself."
   ]
  },
  {
   "cell_type": "code",
   "execution_count": null,
   "id": "84bf63a3",
   "metadata": {},
   "outputs": [],
   "source": []
  }
 ],
 "metadata": {
  "kernelspec": {
   "display_name": "Python 3 (ipykernel)",
   "language": "python",
   "name": "python3"
  },
  "language_info": {
   "codemirror_mode": {
    "name": "ipython",
    "version": 3
   },
   "file_extension": ".py",
   "mimetype": "text/x-python",
   "name": "python",
   "nbconvert_exporter": "python",
   "pygments_lexer": "ipython3",
   "version": "3.9.7"
  }
 },
 "nbformat": 4,
 "nbformat_minor": 5
}
