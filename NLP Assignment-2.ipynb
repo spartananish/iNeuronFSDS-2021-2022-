{
 "cells": [
  {
   "cell_type": "markdown",
   "id": "534045a3",
   "metadata": {},
   "source": [
    "1. What are Corpora?"
   ]
  },
  {
   "cell_type": "markdown",
   "id": "8c92ae97",
   "metadata": {},
   "source": [
    "Answer-> A corpus is a large and structured set of machine-readable texts that have been produced in a natural communicative setting. Its plural is corpora. They can be derived in different ways like text that was originally electronic, transcripts of spoken language and optical character recognition, etc."
   ]
  },
  {
   "cell_type": "markdown",
   "id": "bbc05df2",
   "metadata": {},
   "source": [
    "2. What are Tokens?"
   ]
  },
  {
   "cell_type": "markdown",
   "id": "d9f2bf4c",
   "metadata": {},
   "source": [
    "Answer->Tokens are the building blocks of Natural Language. Tokenization is a way of separating a piece of text into smaller units called tokens. Here, tokens can be either words, characters, or subwords. Hence, tokenization can be broadly classified into 3 types – word, character, and subword (n-gram characters) tokenization."
   ]
  },
  {
   "cell_type": "markdown",
   "id": "381e6647",
   "metadata": {},
   "source": [
    "3. What are Unigrams, Bigrams, Trigrams?"
   ]
  },
  {
   "cell_type": "markdown",
   "id": "790747dd",
   "metadata": {},
   "source": [
    "Answer-> In Natural Language Processing n-gram is a contiguous sequence of n items generated from a given sample of text where the items can be characters or words and n can be any numbers like 1,2,3, etc.\n",
    "\n",
    "An n-gram of size 1 is referred to as a unigram size 2 is a bigram size 3 is a trigram. When N>3 this is usually referred to as four grams or five grams and so on."
   ]
  },
  {
   "cell_type": "markdown",
   "id": "331326c1",
   "metadata": {},
   "source": [
    "4. How to generate n-grams from text?"
   ]
  },
  {
   "cell_type": "code",
   "execution_count": 1,
   "id": "d4f751f1",
   "metadata": {},
   "outputs": [
    {
     "name": "stdout",
     "output_type": "stream",
     "text": [
      "------------------------- Unigram -------------------------\n",
      "('Life',),('is',),('either',),('a',),('daring',),('adventure',),('or',),('nothing',),('at',),('all',),\n",
      "------------------------- Bigram -------------------------\n",
      "('Life', 'is'),('is', 'either'),('either', 'a'),('a', 'daring'),('daring', 'adventure'),('adventure', 'or'),('or', 'nothing'),('nothing', 'at'),('at', 'all'),\n",
      "------------------------- Trigram -------------------------\n",
      "('Life', 'is', 'either'),('is', 'either', 'a'),('either', 'a', 'daring'),('a', 'daring', 'adventure'),('daring', 'adventure', 'or'),('adventure', 'or', 'nothing'),('or', 'nothing', 'at'),('nothing', 'at', 'all'),\n",
      "------------------------- Everygram -------------------------\n"
     ]
    }
   ],
   "source": [
    "from nltk.util import ngrams, everygrams\n",
    "\n",
    "def ngram_convertor(sentence,n=3):\n",
    "    ngram_sentence = ngrams(sentence.split(), n)\n",
    "    for item in ngram_sentence:\n",
    "        print(item,end=',')\n",
    "    print()\n",
    "        \n",
    "sentence = \"Life is either a daring adventure or nothing at all\"\n",
    "print('-'*25,'Unigram','-'*25)\n",
    "ngram_convertor(sentence,1)\n",
    "print('-'*25,'Bigram','-'*25)\n",
    "ngram_convertor(sentence,2)\n",
    "print('-'*25,'Trigram','-'*25)\n",
    "ngram_convertor(sentence,3)\n",
    "print('-'*25,'Everygram','-'*25)"
   ]
  },
  {
   "cell_type": "markdown",
   "id": "72fff401",
   "metadata": {},
   "source": [
    "5. Explain Lemmatization"
   ]
  },
  {
   "cell_type": "markdown",
   "id": "9f943e40",
   "metadata": {},
   "source": [
    "Answe: Stemming and Lemmatization are Text Normalization (or sometimes called Word Normalization) techniques in the field of Natural Language Processing that are used to prepare text, words, and documents for further processing.\n",
    "\n",
    "Stemming is the process of reducing inflection in words to their root forms such as mapping a group of words to the same stem even if the stem itself is not a valid word in the Language.\n",
    "\n",
    "Lemmatization, unlike Stemming, reduces the inflected words properly ensuring that the root word belongs to the language. In Lemmatization root word is called Lemma. A lemma (plural lemmas or lemmata) is the canonical form, dictionary form, or citation form of a set of words."
   ]
  },
  {
   "cell_type": "markdown",
   "id": "21ea4d94",
   "metadata": {},
   "source": [
    "6. Explain Stemming"
   ]
  },
  {
   "cell_type": "markdown",
   "id": "8821c59d",
   "metadata": {},
   "source": [
    "Answer: Stemming is the process of reducing a word to its word stem that affixes to suffixes and prefixes or to the roots of words known as a lemma. Stemming is important in natural language understanding (NLU) and natural language processing (NLP)."
   ]
  },
  {
   "cell_type": "markdown",
   "id": "ab2e8417",
   "metadata": {},
   "source": [
    "7. Explain Part-of-speech (POS) tagging ?"
   ]
  },
  {
   "cell_type": "markdown",
   "id": "1c2563b9",
   "metadata": {},
   "source": [
    "Answer:- Part-of-speech (POS) tagging may be defined as the process of converting a sentence in the form of a list of words, into a list of tuples. Here, the tuples are in the form of (word, tag). We can also call POS tagging a process of assigning one of the parts of speech to the given word.\n",
    "\n",
    "In simple words, we can say that POS tagging is a task of labelling each word in a sentence with its appropriate part of speech. We already know that parts of speech include nouns, verb, adverbs, adjectives, pronouns, conjunction and their sub-categories.\n",
    "\n",
    "Most of the POS tagging falls under Rule Base POS tagging, Stochastic POS tagging and Transformation based tagging."
   ]
  },
  {
   "cell_type": "markdown",
   "id": "b7be4ddc",
   "metadata": {},
   "source": [
    "8. Explain Chunking or shallow parsing ?"
   ]
  },
  {
   "cell_type": "markdown",
   "id": "94c0e9b7",
   "metadata": {},
   "source": [
    "Answer->Chunking is somewhere between part of speech (POS) tagging and full language parsing, hence the name shallow parsing. If chunkers are an inbetween stage then why are they relevant? The answer comes down to utility and speed.\n",
    "\n",
    "POS tagging is very fast but often doesn’t provide a ton of utility for information extraction. It’s helpful to know the POS tags, but when we try to derive information about our text we’re still swimming within the unstructured soup of words in a sentence. Knowing that word 1, 4 and 7 in our sentence are nouns won’t often won’t prove useful enough to help us reliably gain knowledge about what our sentence is actually saying; there’s too much room for mistake."
   ]
  },
  {
   "cell_type": "markdown",
   "id": "05eb50cc",
   "metadata": {},
   "source": [
    "9. Explain Noun Phrase (NP) chunking ?"
   ]
  },
  {
   "cell_type": "markdown",
   "id": "072ce603",
   "metadata": {},
   "source": [
    "Answer-> Text chunking is dividing sentences into non-overlapping phrases. Noun phrase chunking deals with extracting the noun phrases from a sentence. While NP chunking is much simpler than parsing, it is still a challenging task to build a accurate and very efficient NP chunker. The importance of NP chunking derives from the fact that it is used in many applications."
   ]
  },
  {
   "cell_type": "markdown",
   "id": "2e399024",
   "metadata": {},
   "source": [
    "10. Explain Named Entity Recognition ?"
   ]
  },
  {
   "cell_type": "markdown",
   "id": "7a6dd8c2",
   "metadata": {},
   "source": [
    "Answer: Named entity recognition (NER) — sometimes referred to as entity chunking, extraction, or identification — is the task of identifying and categorizing key information (entities) in text. An entity can be any word or series of words that consistently refers to the same thing. Every detected entity is classified into a predetermined category. For example, an NER machine learning (ML) model might detect the word “super.AI” in a text and classify it as a “Company”.\n",
    "\n",
    "NER is a form of natural language processing (NLP), a subfield of artificial intelligence. NLP is concerned with computers processing and analyzing natural language, i.e., any language that has developed naturally, rather than artificially, such as with computer coding languages."
   ]
  },
  {
   "cell_type": "code",
   "execution_count": null,
   "id": "fbf9eec5",
   "metadata": {},
   "outputs": [],
   "source": []
  }
 ],
 "metadata": {
  "kernelspec": {
   "display_name": "Python 3 (ipykernel)",
   "language": "python",
   "name": "python3"
  },
  "language_info": {
   "codemirror_mode": {
    "name": "ipython",
    "version": 3
   },
   "file_extension": ".py",
   "mimetype": "text/x-python",
   "name": "python",
   "nbconvert_exporter": "python",
   "pygments_lexer": "ipython3",
   "version": "3.9.7"
  }
 },
 "nbformat": 4,
 "nbformat_minor": 5
}
