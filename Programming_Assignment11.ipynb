{
 "cells": [
  {
   "cell_type": "markdown",
   "id": "f244be08",
   "metadata": {},
   "source": [
    "1.\tWrite a Python program to find words which are greater than given length k?"
   ]
  },
  {
   "cell_type": "code",
   "execution_count": 11,
   "id": "4645c452",
   "metadata": {},
   "outputs": [],
   "source": [
    "def stringlength(st,k):\n",
    "    if(len(st)>k):\n",
    "        print(st)\n",
    "    "
   ]
  },
  {
   "cell_type": "code",
   "execution_count": 12,
   "id": "c363905a",
   "metadata": {},
   "outputs": [
    {
     "name": "stdout",
     "output_type": "stream",
     "text": [
      "dsfadfsd\n"
     ]
    }
   ],
   "source": [
    "stringlength(\"dsfadfsd\",3)"
   ]
  },
  {
   "cell_type": "markdown",
   "id": "eaa505d7",
   "metadata": {},
   "source": [
    "2.\tWrite a Python program for removing i-th character from a string?"
   ]
  },
  {
   "cell_type": "code",
   "execution_count": 15,
   "id": "87833d69",
   "metadata": {},
   "outputs": [],
   "source": [
    "def remove(string,i):\n",
    "    a = string[:i]\n",
    "    b = string[i+1:]\n",
    "    return a+b\n",
    "\n",
    "def finalString(st,k):\n",
    "    print(remove(st,k-1))\n",
    "    "
   ]
  },
  {
   "cell_type": "code",
   "execution_count": 16,
   "id": "6e0bef48",
   "metadata": {},
   "outputs": [
    {
     "name": "stdout",
     "output_type": "stream",
     "text": [
      "sffsdf\n"
     ]
    }
   ],
   "source": [
    "finalString(\"sfdfsdf\",3)"
   ]
  },
  {
   "cell_type": "markdown",
   "id": "f205d348",
   "metadata": {},
   "source": [
    "3.\tWrite a Python program to split and join a string?"
   ]
  },
  {
   "cell_type": "code",
   "execution_count": 17,
   "id": "2059ea84",
   "metadata": {},
   "outputs": [],
   "source": [
    "def splitjoin(str1,str2):\n",
    "    print(str1.split())\n",
    "    print(str1.join(str2))\n",
    "    "
   ]
  },
  {
   "cell_type": "code",
   "execution_count": 18,
   "id": "8a445666",
   "metadata": {},
   "outputs": [
    {
     "name": "stdout",
     "output_type": "stream",
     "text": [
      "['dfgdf']\n",
      "ddfgdfmdfgdfhdfgdfkdfgdfndfgdfm\n"
     ]
    }
   ],
   "source": [
    "st2 = \"dmhknm\"\n",
    "st1 =\"dfgdf\"\n",
    "splitjoin(st1,st2)"
   ]
  },
  {
   "cell_type": "markdown",
   "id": "80ba77a9",
   "metadata": {},
   "source": [
    "4.\tWrite a Python to check if a given string is binary string or not?"
   ]
  },
  {
   "cell_type": "code",
   "execution_count": 19,
   "id": "dfd02137",
   "metadata": {},
   "outputs": [],
   "source": [
    "def bindarystring():\n",
    "    myStr =  input('Enter the binary string : ')\n",
    "    flag = true\n",
    "    for char in myStr:\n",
    "        if(char == '0' or char == 1):\n",
    "            continue\n",
    "        else:\n",
    "            flag = false\n",
    "            print(\"The String is not a binary string\")\n",
    "            break\n",
    "    if(flag):\n",
    "        print(\"The string is binary\")\n"
   ]
  },
  {
   "cell_type": "markdown",
   "id": "df055a19",
   "metadata": {},
   "source": [
    "5.\tWrite a Python program to find uncommon words from two Strings?"
   ]
  },
  {
   "cell_type": "code",
   "execution_count": 25,
   "id": "89f59381",
   "metadata": {},
   "outputs": [],
   "source": [
    "def uncommonwordsstring(s1,s2):\n",
    "     count = {}\n",
    "     for word in s1.split():\n",
    "        count[word] = count.get(word, 0) + 1\n",
    "     for word in s2.split():\n",
    "        count[word] = count.get(word, 0) + 1\n",
    "     return [word for word in count if count[word] == 1]\n",
    "    "
   ]
  },
  {
   "cell_type": "code",
   "execution_count": 26,
   "id": "664613d9",
   "metadata": {},
   "outputs": [
    {
     "name": "stdout",
     "output_type": "stream",
     "text": [
      "['with', 'without']\n"
     ]
    }
   ],
   "source": [
    "s1=\"String with common\"\n",
    "s2=\"String without common\"\n",
    "print(uncommonwordsstring(s1, s2))"
   ]
  },
  {
   "cell_type": "markdown",
   "id": "6d311151",
   "metadata": {},
   "source": [
    "6.\tWrite a Python to find all duplicate characters in string?"
   ]
  },
  {
   "cell_type": "code",
   "execution_count": 27,
   "id": "6ed3cefd",
   "metadata": {},
   "outputs": [],
   "source": [
    "def dublicateCharacter():\n",
    "    for i in range(0, len(string)):  \n",
    "        count = 1;  \n",
    "    for j in range(i+1, len(string)):  \n",
    "        if(string[i] == string[j] and string[i] != ' '):  \n",
    "            count = count + 1;  \n",
    "            string = string[:j] + '0' + string[j+1:];  \n",
    "   \n",
    "    if(count > 1 and string[i] != '0'):  \n",
    "        print(string[i]);  "
   ]
  },
  {
   "cell_type": "markdown",
   "id": "e3ec047d",
   "metadata": {},
   "source": [
    "7.\tWrite a Python Program to check if a string contains any special character?"
   ]
  },
  {
   "cell_type": "code",
   "execution_count": 28,
   "id": "96748020",
   "metadata": {},
   "outputs": [],
   "source": [
    "import re\n",
    "def tocheckspecialchar():\n",
    "    string = input(\"Enter the string\")\n",
    "    special_char = re.compile(\"[@_!#$%^&*()<>?/\\|}{~:]\")\n",
    "    if(special_char.search(string) == None):\n",
    "        print(\"String does not have special character\")\n",
    "    else:\n",
    "        print(\"String have special Character\")\n",
    "\n"
   ]
  },
  {
   "cell_type": "code",
   "execution_count": null,
   "id": "6fc4964b",
   "metadata": {},
   "outputs": [],
   "source": []
  }
 ],
 "metadata": {
  "kernelspec": {
   "display_name": "Python 3 (ipykernel)",
   "language": "python",
   "name": "python3"
  },
  "language_info": {
   "codemirror_mode": {
    "name": "ipython",
    "version": 3
   },
   "file_extension": ".py",
   "mimetype": "text/x-python",
   "name": "python",
   "nbconvert_exporter": "python",
   "pygments_lexer": "ipython3",
   "version": "3.9.7"
  }
 },
 "nbformat": 4,
 "nbformat_minor": 5
}
