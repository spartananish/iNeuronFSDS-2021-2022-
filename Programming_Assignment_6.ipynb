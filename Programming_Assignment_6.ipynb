{
 "cells": [
  {
   "cell_type": "markdown",
   "id": "35f5158a",
   "metadata": {},
   "source": [
    "1.\tWrite a Python Program to Display Fibonacci Sequence Using Recursion?\n"
   ]
  },
  {
   "cell_type": "code",
   "execution_count": 4,
   "id": "cb28be55",
   "metadata": {},
   "outputs": [],
   "source": [
    "def fib(n):\n",
    "    if n<1:\n",
    "        print('Incorrect Input')\n",
    "    elif n==0:\n",
    "        return 0\n",
    "    elif n==1 or n==2:\n",
    "        return 1\n",
    "    else:\n",
    "        return fib(n-1)+fib(n-2)"
   ]
  },
  {
   "cell_type": "markdown",
   "id": "4b1620c9",
   "metadata": {},
   "source": [
    "2.\tWrite a Python Program to Find Factorial of Number Using Recursion?"
   ]
  },
  {
   "cell_type": "code",
   "execution_count": 6,
   "id": "2d858bb9",
   "metadata": {},
   "outputs": [],
   "source": [
    "def fact(n):\n",
    "    if n==0 or n==1:\n",
    "        return 1\n",
    "    else:\n",
    "        return n*fact(n-1)"
   ]
  },
  {
   "cell_type": "markdown",
   "id": "b94eb9d1",
   "metadata": {},
   "source": [
    "3.\tWrite a Python Program to calculate your Body Mass Index?"
   ]
  },
  {
   "cell_type": "code",
   "execution_count": 13,
   "id": "58565b82",
   "metadata": {},
   "outputs": [],
   "source": [
    "def BMI():\n",
    "    height=float(input(\"Enter height in meter\"))\n",
    "    weight=float(input(\"Enter weight in kg\"))\n",
    "    BMI=weight/(height)**2\n",
    "    return BMI"
   ]
  },
  {
   "cell_type": "markdown",
   "id": "4f4af10d",
   "metadata": {},
   "source": [
    "4.\tWrite a Python Program to calculate the natural logarithm of any number"
   ]
  },
  {
   "cell_type": "code",
   "execution_count": 16,
   "id": "75e5da9e",
   "metadata": {},
   "outputs": [],
   "source": [
    "import math\n",
    "def naturalLog(num,base):\n",
    "    return math.log(num,base)\n",
    "    "
   ]
  },
  {
   "cell_type": "markdown",
   "id": "c6d8587a",
   "metadata": {},
   "source": [
    "5.\tWrite a Python Program for cube sum of first n natural numbers"
   ]
  },
  {
   "cell_type": "code",
   "execution_count": 21,
   "id": "ba8039fc",
   "metadata": {},
   "outputs": [],
   "source": [
    "def cubeofNaturalNumber(n):\n",
    "    for i in range(1,n+1):\n",
    "        sum +=i*i*i\n",
    "        return sum\n",
    "        \n",
    "    \n",
    "     "
   ]
  },
  {
   "cell_type": "code",
   "execution_count": null,
   "id": "020daee4",
   "metadata": {},
   "outputs": [],
   "source": []
  }
 ],
 "metadata": {
  "kernelspec": {
   "display_name": "Python 3 (ipykernel)",
   "language": "python",
   "name": "python3"
  },
  "language_info": {
   "codemirror_mode": {
    "name": "ipython",
    "version": 3
   },
   "file_extension": ".py",
   "mimetype": "text/x-python",
   "name": "python",
   "nbconvert_exporter": "python",
   "pygments_lexer": "ipython3",
   "version": "3.9.7"
  }
 },
 "nbformat": 4,
 "nbformat_minor": 5
}
