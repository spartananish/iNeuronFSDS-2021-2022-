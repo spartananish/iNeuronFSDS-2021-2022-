{
 "cells": [
  {
   "cell_type": "markdown",
   "id": "dfde1f4f",
   "metadata": {},
   "source": [
    "1. What exactly is a feature?"
   ]
  },
  {
   "cell_type": "markdown",
   "id": "02e116a4",
   "metadata": {},
   "source": [
    "Answer-> A feature is a measurable property of the object you’re trying to analyze. In datasets, features appear as columns.\n",
    "Each feature, or column, represents a measurable piece of data that can be used for analysis."
   ]
  },
  {
   "cell_type": "markdown",
   "id": "3f9a1a6f",
   "metadata": {},
   "source": [
    "2. For a top edge detector, write out the convolutional kernel matrix."
   ]
  },
  {
   "cell_type": "markdown",
   "id": "d3e92c83",
   "metadata": {},
   "source": [
    "Answer->Edge Detection is when we use matrix math to calculate areas of different intensities of an image. Areas where there are extreme differences in the intensities of the pixel usually indicate an edge of an object. After finding all of the large differences in intensities in a picture, we have discovered all of the edges in the picture. Sobel Edge detection is a widely used algorithm of edge detection in image processing. Along with Canny and Prewitt, Sobel is one of the most popular edge detection algorithms used in today's technology."
   ]
  },
  {
   "cell_type": "markdown",
   "id": "ef924dd1",
   "metadata": {},
   "source": [
    "3. Describe the mathematical operation that a 3x3 kernel performs on a single pixel in an image."
   ]
  },
  {
   "cell_type": "markdown",
   "id": "ea12a308",
   "metadata": {},
   "source": [
    "Answer:- An image kernel is a small matrix used to apply effects like the ones you might find in Photoshop or Gimp, such as blurring, sharpening, outlining or embossing. They're also used in machine learning for 'feature extraction', a technique for determining the most important portions of an image. In this context the process is referred to more generally as \"convolution\""
   ]
  },
  {
   "cell_type": "markdown",
   "id": "3140fe94",
   "metadata": {},
   "source": [
    "4. What is the significance of a convolutional kernel added to a 3x3 matrix of zeroes?"
   ]
  },
  {
   "cell_type": "markdown",
   "id": "8b55a2a6",
   "metadata": {},
   "source": [
    "Answer->The Convolution Matrix filter uses a first matrix which is the Image to be treated. The image is a bi-dimensional collection of pixels in rectangular coordinates. The used kernel depends on the effect you want.\n",
    "\n",
    "GIMP uses 5x5 or 3x3 matrices. We will consider only 3x3 matrices, they are the most used and they are enough for all effects you want. If all border values of a kernel are set to zero, then system will consider it as a 3x3 matrix.\n",
    "\n",
    "The filter studies successively every pixel of the image. For each of them, which we will call the “initial pixel”, it multiplies the value of this pixel and values of the 8 surrounding pixels by the kernel corresponding value. Then it adds the results, and the initial pixel is set to this final result value."
   ]
  },
  {
   "cell_type": "markdown",
   "id": "58e9e91b",
   "metadata": {},
   "source": [
    "5. What exactly is padding?"
   ]
  },
  {
   "cell_type": "markdown",
   "id": "d4936d9a",
   "metadata": {},
   "source": [
    "Answe->Padding is a term relevant to convolutional neural networks as it refers to the amount of pixels added to an image when it is being processed by the kernel of a CNN. For example, if the padding in a CNN is set to zero, then every pixel value that is added will be of value zero. If, however, the zero padding is set to one, there will be a one pixel border added to the image with a pixel value of zero."
   ]
  },
  {
   "cell_type": "markdown",
   "id": "ba3f9787",
   "metadata": {},
   "source": [
    "6. What is the concept of stride?"
   ]
  },
  {
   "cell_type": "markdown",
   "id": "83809390",
   "metadata": {},
   "source": [
    "Answe->Ans: Stride is a component of convolutional neural networks, or neural networks tuned for the compression of images and video data. Stride is a parameter of the neural network's filter that modifies the amount of movement over the image or video. For example, if a neural network's stride is set to 1, the filter will move one pixel, or unit, at a time. The size of the filter affects the encoded output volume, so stride is often set to a whole integer, rather than a fraction or decimal."
   ]
  },
  {
   "cell_type": "markdown",
   "id": "6b078bd5",
   "metadata": {},
   "source": [
    "8. What exactly is a channel?"
   ]
  },
  {
   "cell_type": "markdown",
   "id": "766fa824",
   "metadata": {},
   "source": [
    "Answer->Typically, a \"channel\" refers to a certain component that defines pixel values in a digital image. A color image, for example is an aggregate of three channels (red, green and blue). The color data of an image is stored in three arrays of values, known as channels."
   ]
  },
  {
   "cell_type": "markdown",
   "id": "ef0cb518",
   "metadata": {},
   "source": [
    "9.Explain relationship between matrix multiplication and a convolution?"
   ]
  },
  {
   "cell_type": "markdown",
   "id": "14f32d60",
   "metadata": {},
   "source": [
    "Answer-> Just like any other layer, a convolutional layer receives input, transforms the input in some way, and then outputs the transformed input to the next layer. The inputs to convolutional layers are called input channels, and the outputs are called output channels."
   ]
  },
  {
   "cell_type": "code",
   "execution_count": null,
   "id": "e24a3fc2",
   "metadata": {},
   "outputs": [],
   "source": []
  }
 ],
 "metadata": {
  "kernelspec": {
   "display_name": "Python 3 (ipykernel)",
   "language": "python",
   "name": "python3"
  },
  "language_info": {
   "codemirror_mode": {
    "name": "ipython",
    "version": 3
   },
   "file_extension": ".py",
   "mimetype": "text/x-python",
   "name": "python",
   "nbconvert_exporter": "python",
   "pygments_lexer": "ipython3",
   "version": "3.9.7"
  }
 },
 "nbformat": 4,
 "nbformat_minor": 5
}
