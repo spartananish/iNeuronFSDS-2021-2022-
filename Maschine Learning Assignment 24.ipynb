{
 "cells": [
  {
   "cell_type": "markdown",
   "id": "ccd7667e",
   "metadata": {},
   "source": [
    "1. What is your definition of clustering? What are a few clustering algorithms you might think of?"
   ]
  },
  {
   "cell_type": "markdown",
   "id": "cd14eccd",
   "metadata": {},
   "source": [
    "Answer: Clustering is the task of dividing the population or data points into a number of groups such that data points in the same groups are more similar to other data points in the same group and dissimilar to the data points in other groups."
   ]
  },
  {
   "cell_type": "markdown",
   "id": "ddc1e1d9",
   "metadata": {},
   "source": [
    "2. What are some of the most popular clustering algorithm applications?"
   ]
  },
  {
   "cell_type": "markdown",
   "id": "05d3c2f0",
   "metadata": {},
   "source": [
    "Answer: K-means clustering is the most commonly used clustering algorithm. It's a centroid-based algorithm and the simplest unsupervised learning algorithm. This algorithm tries to minimize the variance of data points within a cluster. It's also how most people are introduced to unsupervised machine learning."
   ]
  },
  {
   "cell_type": "markdown",
   "id": "94d05c0e",
   "metadata": {},
   "source": [
    "3. When using K-Means, describe two strategies for selecting the appropriate number of clusters."
   ]
  },
  {
   "cell_type": "markdown",
   "id": "01afed1b",
   "metadata": {},
   "source": [
    "Answer: K-means clustering algorithm can be significantly improved by using a better initialization technique, and by repeating (re-starting) the algorithm. When the data has overlapping clusters, k-means can improve the results of the initialization technique."
   ]
  },
  {
   "cell_type": "markdown",
   "id": "a74628b4",
   "metadata": {},
   "source": [
    "\n",
    "4. What is mark propagation and how does it work? Why would you do it, and how would you do it?\n"
   ]
  },
  {
   "cell_type": "markdown",
   "id": "9bccf95c",
   "metadata": {},
   "source": [
    "Answer: Backpropagation (backward propagation) is an important mathematical tool for improving the accuracy of predictions in data mining and machine learning. Essentially, backpropagation is an algorithm used to calculate derivatives quickly."
   ]
  },
  {
   "cell_type": "markdown",
   "id": "28bb0174",
   "metadata": {},
   "source": [
    "\n",
    "5. Provide two examples of clustering algorithms that can handle large datasets. And two that look for high-density areas?\n"
   ]
  },
  {
   "cell_type": "markdown",
   "id": "78419d34",
   "metadata": {},
   "source": [
    "Answer: The most commonly used algorithm in clustering are partitioning, hierarchical, grid based, density based, and model based algorithms. A review of clustering and its different techniques in data mining is done considering the criteria's for big data."
   ]
  },
  {
   "cell_type": "markdown",
   "id": "686503cb",
   "metadata": {},
   "source": [
    "6. Can you think of a scenario in which constructive learning will be advantageous? How can you go about putting it into action?"
   ]
  },
  {
   "cell_type": "markdown",
   "id": "54fbfbbb",
   "metadata": {},
   "source": [
    "Answer: In Constructivist learning, the traditional classroom learning procedure is flipped. Instead of a teacher informing a child about a subject and constructing a meaning for them, in constructivist learning, children construct their own meanings. Now, this may not be the best approach for every learning environment, but it can be tremendously helpful at home."
   ]
  },
  {
   "cell_type": "markdown",
   "id": "9f911acb",
   "metadata": {},
   "source": [
    "7. How do you tell the difference between anomaly and novelty detection?"
   ]
  },
  {
   "cell_type": "markdown",
   "id": "a963697d",
   "metadata": {},
   "source": [
    "Answer: In \"novelty detection\", you have a data set that contains only good data, and you're trying to determine whether new observations fit within the existing data set. In \"outlier detection\", the data may contain outliers, which you want to identify."
   ]
  },
  {
   "cell_type": "markdown",
   "id": "18b35a01",
   "metadata": {},
   "source": [
    "8. What is a Gaussian mixture, and how does it work? What are some of the things you can do about it?"
   ]
  },
  {
   "cell_type": "markdown",
   "id": "f12ae916",
   "metadata": {},
   "source": [
    "Answer: A Gaussian Mixture is a function that is comprised of several Gaussians, each identified by k ∈ {1,…, K}, where K is the number of clusters of our dataset. Each Gaussian k in the mixture is comprised of the following parameters: A mean μ that defines its centre. A covariance Σ that defines its width."
   ]
  },
  {
   "cell_type": "markdown",
   "id": "053f2150",
   "metadata": {},
   "source": [
    "\n",
    "9. When using a Gaussian mixture model, can you name two techniques for determining the correct number of clusters?\n"
   ]
  },
  {
   "cell_type": "markdown",
   "id": "459f85fa",
   "metadata": {},
   "source": [
    "Answer: An approach is to find the clusters using soft clustering methods and then see if they are gaussian. If they are then you can apply a GMM model which represents the whole dataset."
   ]
  },
  {
   "cell_type": "code",
   "execution_count": null,
   "id": "88c43f79",
   "metadata": {},
   "outputs": [],
   "source": []
  }
 ],
 "metadata": {
  "kernelspec": {
   "display_name": "Python 3 (ipykernel)",
   "language": "python",
   "name": "python3"
  },
  "language_info": {
   "codemirror_mode": {
    "name": "ipython",
    "version": 3
   },
   "file_extension": ".py",
   "mimetype": "text/x-python",
   "name": "python",
   "nbconvert_exporter": "python",
   "pygments_lexer": "ipython3",
   "version": "3.9.7"
  }
 },
 "nbformat": 4,
 "nbformat_minor": 5
}
