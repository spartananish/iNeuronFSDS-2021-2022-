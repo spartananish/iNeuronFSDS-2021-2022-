{
 "cells": [
  {
   "cell_type": "markdown",
   "id": "adb6b5c4",
   "metadata": {},
   "source": [
    "(Q-1)What is the name of the feature responsible for generating Regex objects?"
   ]
  },
  {
   "cell_type": "markdown",
   "id": "dc568b80",
   "metadata": {},
   "source": [
    "Answeer- The re.compile() is the method resposible for generating Regex Operation."
   ]
  },
  {
   "cell_type": "code",
   "execution_count": 1,
   "id": "2f1a3e20",
   "metadata": {},
   "outputs": [
    {
     "name": "stdout",
     "output_type": "stream",
     "text": [
      "re.compile('Some Random Pattern')\n"
     ]
    }
   ],
   "source": [
    "import re\n",
    "x = re.compile(\"Some Random Pattern\")\n",
    "type(x)\n",
    "print(x)"
   ]
  },
  {
   "cell_type": "markdown",
   "id": "72f06196",
   "metadata": {},
   "source": [
    "2. Why do raw strings often appear in Regex objects?"
   ]
  },
  {
   "cell_type": "markdown",
   "id": "f7481b99",
   "metadata": {},
   "source": [
    "Answer - Regular expressions use the backslash character ('\\') to indicate special forms (Metacharacters) or to allow special characters (speical sequences) to be used without invoking their special meaning. This collides with Python’s usage of the same character for the same purpose in string literals. Hence, Raw strings are used (e.g. r\"\\n\") so that backslashes do not have to be escaped."
   ]
  },
  {
   "cell_type": "markdown",
   "id": "2cd1c7d0",
   "metadata": {},
   "source": [
    "3. What is the return value of the search() method?"
   ]
  },
  {
   "cell_type": "markdown",
   "id": "095f9b67",
   "metadata": {},
   "source": [
    "Answer - The return value of re.search(pattern,string) method is a match object if the pattern is observed in the string else it returns a None."
   ]
  },
  {
   "cell_type": "code",
   "execution_count": 2,
   "id": "20a7f01e",
   "metadata": {},
   "outputs": [
    {
     "name": "stdout",
     "output_type": "stream",
     "text": [
      "Output: <re.Match object; span=(0, 1), match='F'>\n"
     ]
    }
   ],
   "source": [
    "import re\n",
    "match = re.search('F','Full Stack Data Science Course', flags=re.IGNORECASE)\n",
    "print('Output:',match)"
   ]
  },
  {
   "cell_type": "markdown",
   "id": "3a1d1269",
   "metadata": {},
   "source": [
    "4. From a Match item, how do you get the actual strings that match the pattern?"
   ]
  },
  {
   "cell_type": "markdown",
   "id": "2775cb35",
   "metadata": {},
   "source": [
    "Answer -  For Matched items group() methods returns actual strings that match the pattern"
   ]
  },
  {
   "cell_type": "code",
   "execution_count": 4,
   "id": "924167be",
   "metadata": {},
   "outputs": [
    {
     "name": "stdout",
     "output_type": "stream",
     "text": [
      "Output: Full\n"
     ]
    }
   ],
   "source": [
    "import re\n",
    "match = re.search('Full','Full Stack Data Science Course', flags=re.IGNORECASE)\n",
    "print('Output:',match.group())"
   ]
  },
  {
   "cell_type": "markdown",
   "id": "4c13486e",
   "metadata": {},
   "source": [
    "5. In the regex which created from the r'(\\d\\d\\d)-(\\d\\d\\d-\\d\\d\\d\\d)', what does group zero cover? Group 2? Group 1?"
   ]
  },
  {
   "cell_type": "markdown",
   "id": "c252ced1",
   "metadata": {},
   "source": [
    "Answer - In the Regex r'(\\d\\d\\d)-(\\d\\d\\d-\\d\\d\\d\\d)' the zero group covers the entire pattern match where as the first group cover (\\d\\d\\d) and the second group cover (\\d\\d\\d-\\d\\d\\d\\d)"
   ]
  },
  {
   "cell_type": "markdown",
   "id": "78413e6f",
   "metadata": {},
   "source": [
    "6. In standard expression syntax, parentheses and intervals have distinct meanings. How can you tell a regex that you want it to fit real parentheses and periods"
   ]
  },
  {
   "cell_type": "markdown",
   "id": "8b181b24",
   "metadata": {},
   "source": [
    "Answer -The \\. \\( and \\) escape characters in the raw string passed to re.compile() will match actual parenthesis characters."
   ]
  },
  {
   "cell_type": "markdown",
   "id": "ddc5a313",
   "metadata": {},
   "source": [
    "7. The findall() method returns a string list or a list of string tuples. What causes it to return one of the two options?"
   ]
  },
  {
   "cell_type": "markdown",
   "id": "0f04109c",
   "metadata": {},
   "source": [
    "Ans: If the regex pattern has no groups, a list of strings matched is returned. if the regex pattern has groups, a list of tuple of strings is returned."
   ]
  },
  {
   "cell_type": "code",
   "execution_count": 6,
   "id": "d239bc36",
   "metadata": {},
   "outputs": [
    {
     "name": "stdout",
     "output_type": "stream",
     "text": [
      "[('(415)', '555-4242')]\n",
      "['415-555-4242']\n"
     ]
    }
   ],
   "source": [
    "# Example Program\n",
    "import re\n",
    "phoneNumRegex = re.compile(r'(\\(\\d\\d\\d\\)) (\\d\\d\\d-\\d\\d\\d\\d)')\n",
    "mo = phoneNumRegex.findall('My phone number is (415) 555-4242.')\n",
    "print(mo)\n",
    "\n",
    "# Example Program\n",
    "import re\n",
    "phoneNumRegex = re.compile(r'\\d{3}-\\d{3}-\\d{4}')\n",
    "mo = phoneNumRegex.findall('My number is 415-555-4242.')\n",
    "print(mo) # Prints all groups in a tuple format"
   ]
  },
  {
   "cell_type": "markdown",
   "id": "214d5af4",
   "metadata": {},
   "source": [
    "8. In standard expressions, what does the | character mean"
   ]
  },
  {
   "cell_type": "markdown",
   "id": "e7a266a8",
   "metadata": {},
   "source": [
    "Answer-8. In standard expressions, what does the | character mean?\n",
    "Ans: In Standard Expressions | means OR operator."
   ]
  },
  {
   "cell_type": "markdown",
   "id": "43bbe942",
   "metadata": {},
   "source": [
    "9. In regular expressions, what does the ? character stand for?"
   ]
  },
  {
   "cell_type": "markdown",
   "id": "3c3e5e01",
   "metadata": {},
   "source": [
    "Answer: In regular Expressions, ? characters represents zero or one match of the preceeding group."
   ]
  },
  {
   "cell_type": "markdown",
   "id": "1419a8ce",
   "metadata": {},
   "source": [
    "10.In regular expressions, what is the difference between the + and * characters?"
   ]
  },
  {
   "cell_type": "markdown",
   "id": "3474a4ff",
   "metadata": {},
   "source": [
    "Answer-In Regular Expressions, * Represents Zero ore more occurances of the preceeding group, whereas + represents one or more occurances of the preceeding group."
   ]
  },
  {
   "cell_type": "markdown",
   "id": "2082007b",
   "metadata": {},
   "source": [
    "11. What is the difference between {4} and {4,5} in regular expression?"
   ]
  },
  {
   "cell_type": "markdown",
   "id": "b665b98e",
   "metadata": {},
   "source": [
    "Answer -{4} means that its preceeding group should repeat 4 times. where as {4,5} means that its preceeding group should repeat mininum 4 times and maximum 5 times inclusively"
   ]
  },
  {
   "cell_type": "markdown",
   "id": "1b6dc20a",
   "metadata": {},
   "source": [
    "12. What do you mean by the \\d, \\w, and \\s shorthand character classes signify in regular expressions?"
   ]
  },
  {
   "cell_type": "markdown",
   "id": "4fc9b88e",
   "metadata": {},
   "source": [
    "Answer: \\d, \\w and \\s are special sequences in regular expresssions in python:\n",
    "\n",
    "\\w – Matches a word character equivalent to [a-zA-Z0-9_]\n",
    "\\d – Matches digit character equivalent to [0-9]\n",
    "\\s – Matches whitespace character (space, tab, newline, etc.)"
   ]
  },
  {
   "cell_type": "markdown",
   "id": "b5f940e3",
   "metadata": {},
   "source": [
    "13. What do means by \\D, \\W, and \\S shorthand character classes signify in regular expressions?"
   ]
  },
  {
   "cell_type": "markdown",
   "id": "53568fce",
   "metadata": {},
   "source": [
    "Answer: \\D, \\W and \\S are special sequences in regular expresssions in python:\n",
    "\n",
    "\\W – Matches any non-alphanumeric character equivalent to [^a-zA-Z0-9_]\n",
    "\\D – Matches any non-digit character, this is equivalent to the set class [^0-9]\n",
    "\\S – Matches any non-whitespace character"
   ]
  },
  {
   "cell_type": "markdown",
   "id": "2603af56",
   "metadata": {},
   "source": [
    "14. What is the difference between .*? and .*?"
   ]
  },
  {
   "cell_type": "markdown",
   "id": "c62e0605",
   "metadata": {},
   "source": [
    "Answer: .* is a Greedy mode, which returns the longest string that meets the condition. Whereas .*? is a non greedy mode which returns the shortest string that meets the condition."
   ]
  },
  {
   "cell_type": "markdown",
   "id": "50644dbd",
   "metadata": {},
   "source": [
    "15. What is the syntax for matching both numbers and lowercase letters with a character class?"
   ]
  },
  {
   "cell_type": "markdown",
   "id": "4644a0c3",
   "metadata": {},
   "source": [
    "Answer:The Synatax is Either [a-z0-9] or [0-9a-z]"
   ]
  },
  {
   "cell_type": "markdown",
   "id": "5e0d8c42",
   "metadata": {},
   "source": [
    "16. What is the procedure for making a normal expression in regax case insensitive?"
   ]
  },
  {
   "cell_type": "markdown",
   "id": "12cb6807",
   "metadata": {},
   "source": [
    "Ans: We can pass re.IGNORECASE as a flag to make a noraml expression case insensitive"
   ]
  },
  {
   "cell_type": "markdown",
   "id": "d8d3583c",
   "metadata": {},
   "source": [
    "17. What does the . character normally match? What does it match if re.DOTALL is passed as 2nd argument in re.compile()?"
   ]
  },
  {
   "cell_type": "markdown",
   "id": "41a08502",
   "metadata": {},
   "source": [
    "Answer: Dot . character matches everything in input except newline character .. By passing re.DOTALL as a flag to re.compile(), you can make the dot character match all characters, including the newline character."
   ]
  },
  {
   "cell_type": "markdown",
   "id": "b9d3b908",
   "metadata": {},
   "source": [
    "18. If numReg = re.compile(r'\\d+'), what will numRegex.sub('X', '11 drummers, 10 pipers, five rings, 4 hen') return?"
   ]
  },
  {
   "cell_type": "markdown",
   "id": "4e148fc8",
   "metadata": {},
   "source": [
    "Answer: The Ouput will be 'X drummers, X pipers, five rings, X hen'"
   ]
  },
  {
   "cell_type": "markdown",
   "id": "996fef26",
   "metadata": {},
   "source": [
    "19. What does passing re.VERBOSE as the 2nd argument to re.compile() allow to do?\n"
   ]
  },
  {
   "cell_type": "markdown",
   "id": "2ba3b6d8",
   "metadata": {},
   "source": [
    "Answer: re.VERBOSE will allow to add whitespace and comments to string passed to re.compile()."
   ]
  },
  {
   "cell_type": "markdown",
   "id": "3d2450ab",
   "metadata": {},
   "source": [
    "20. How would you write a regex that match a number with comma for every three digits? It must match the given following:"
   ]
  },
  {
   "cell_type": "markdown",
   "id": "9212139a",
   "metadata": {},
   "source": [
    "Answer - '42','1,234', '6,368,745'but not the following: '12,34,567' (which has only two digits between the commas) '1234' (which lacks commas)"
   ]
  },
  {
   "cell_type": "code",
   "execution_count": 7,
   "id": "0ece4eb9",
   "metadata": {},
   "outputs": [
    {
     "name": "stdout",
     "output_type": "stream",
     "text": [
      "Output: 42 -> <re.Match object; span=(0, 2), match='42'>\n",
      "Output: 1,234 -> <re.Match object; span=(0, 5), match='1,234'>\n",
      "Output: 6,368,745 -> <re.Match object; span=(0, 9), match='6,368,745'>\n",
      "Output: 12,34,567 -> None\n",
      "Output: 1234 -> None\n"
     ]
    }
   ],
   "source": [
    "import re\n",
    "pattern = r'^\\d{1,3}(,\\d{3})*$'\n",
    "pagex = re.compile(pattern)\n",
    "for ele in ['42','1,234', '6,368,745','12,34,567','1234']:\n",
    "    print('Output:',ele, '->', pagex.search(ele))"
   ]
  },
  {
   "cell_type": "markdown",
   "id": "4ed75826",
   "metadata": {},
   "source": [
    "21. How would you write a regex that matches the full name of someone whose last name is Watanabe? You can assume that the first name that comes before it will always be one word that begins with a capital letter. The regex must match the following:\n",
    "\n",
    "'Haruto Watanabe'\n",
    "'Alice Watanabe'\n",
    "'RoboCop Watanabe'\n",
    "\n",
    "but not the following:\n",
    "\n",
    "'haruto Watanabe' (where the first name is not capitalized)\n",
    "'Mr. Watanabe' (where the preceding word has a nonletter character)\n",
    "'Watanabe' (which has no first name)\n",
    "'Haruto watanabe' (where Watanabe is not capitalized)"
   ]
  },
  {
   "cell_type": "markdown",
   "id": "5185c204",
   "metadata": {},
   "source": [
    "Answer: pattern = r'[A-Z]{1}[a-z]*\\sWatanabe'"
   ]
  },
  {
   "cell_type": "code",
   "execution_count": 8,
   "id": "3c38aa92",
   "metadata": {},
   "outputs": [
    {
     "name": "stdout",
     "output_type": "stream",
     "text": [
      "Output:  Haruto Watanabe -> <re.Match object; span=(0, 15), match='Haruto Watanabe'>\n",
      "Output:  Alice Watanabe -> <re.Match object; span=(0, 14), match='Alice Watanabe'>\n",
      "Output:  RoboCop Watanabe -> <re.Match object; span=(4, 16), match='Cop Watanabe'>\n",
      "Output:  haruto Watanabe -> None\n",
      "Output:  Mr. Watanabe -> None\n",
      "Output:  Watanabe -> None\n",
      "Output:  Haruto watanabe -> None\n"
     ]
    }
   ],
   "source": [
    "import re\n",
    "pattern = r'[A-Z]{1}[a-z]*\\sWatanabe'\n",
    "namex = re.compile(pattern)\n",
    "for name in ['Haruto Watanabe','Alice Watanabe','RoboCop Watanabe','haruto Watanabe','Mr. Watanabe','Watanabe','Haruto watanabe']:\n",
    "    print('Output: ',name,'->',namex.search(name))"
   ]
  },
  {
   "cell_type": "code",
   "execution_count": null,
   "id": "b0c9dd0e",
   "metadata": {},
   "outputs": [],
   "source": []
  }
 ],
 "metadata": {
  "kernelspec": {
   "display_name": "Python 3 (ipykernel)",
   "language": "python",
   "name": "python3"
  },
  "language_info": {
   "codemirror_mode": {
    "name": "ipython",
    "version": 3
   },
   "file_extension": ".py",
   "mimetype": "text/x-python",
   "name": "python",
   "nbconvert_exporter": "python",
   "pygments_lexer": "ipython3",
   "version": "3.9.7"
  }
 },
 "nbformat": 4,
 "nbformat_minor": 5
}
