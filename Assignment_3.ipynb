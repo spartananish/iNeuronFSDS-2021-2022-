{
 "cells": [
  {
   "cell_type": "markdown",
   "id": "ee0b95a8",
   "metadata": {},
   "source": [
    "(1.) Why are functions advantageous to have in your programs?"
   ]
  },
  {
   "cell_type": "markdown",
   "id": "eccbe186",
   "metadata": {},
   "source": [
    "Answer-> Function helps in reducing the dublicate code, asame function can be called a t many places we requirment is same."
   ]
  },
  {
   "cell_type": "markdown",
   "id": "20634b5e",
   "metadata": {},
   "source": [
    "(2.)When does the code in a function run: when it's specified or when it's called?"
   ]
  },
  {
   "cell_type": "markdown",
   "id": "1f8e8d37",
   "metadata": {},
   "source": [
    "Answer-->A function is called by its name and passing the specified method paramenter.The following example can be used to showcase how the function is called:\n",
    "    finction_name(*args)"
   ]
  },
  {
   "cell_type": "markdown",
   "id": "5030ff35",
   "metadata": {},
   "source": [
    "(3.) What statement creates a function?"
   ]
  },
  {
   "cell_type": "markdown",
   "id": "7019867a",
   "metadata": {},
   "source": [
    "Answer --> The function can be created by def key word the follwoing example can be used to create a function:-\n",
    "    def function_name(*args):"
   ]
  },
  {
   "cell_type": "markdown",
   "id": "551a7326",
   "metadata": {},
   "source": [
    "(4.)What is the difference between a function and a function call?"
   ]
  },
  {
   "cell_type": "markdown",
   "id": "0ce65e99",
   "metadata": {},
   "source": [
    "Answer--> A function is basicaly where we define a function where as calling happens when we want to excute the function."
   ]
  },
  {
   "cell_type": "markdown",
   "id": "ad76f8a9",
   "metadata": {},
   "source": [
    "(5.)How many global scopes are there in a Python program? How many local scopes?"
   ]
  },
  {
   "cell_type": "markdown",
   "id": "e6f7052b",
   "metadata": {},
   "source": [
    "Answer--> There's only one global Python scope per program execution. This scope remains in existence until the program terminates and all its names are forgotten.\n",
    "For local we have only one scope when it is defined inside a method."
   ]
  },
  {
   "cell_type": "markdown",
   "id": "4e2aa52c",
   "metadata": {},
   "source": [
    "(6.)What happens to variables in a local scope when the function call returns?"
   ]
  },
  {
   "cell_type": "markdown",
   "id": "d839120c",
   "metadata": {},
   "source": [
    "Answer-->A local variable retains its value until the next time the function is called A local variable becomes undefined after the function call completes."
   ]
  },
  {
   "cell_type": "markdown",
   "id": "88c5b8e6",
   "metadata": {},
   "source": [
    "What is the concept of a return value? Is it possible to have a return value in an expression?"
   ]
  },
  {
   "cell_type": "markdown",
   "id": "c78d6615",
   "metadata": {},
   "source": [
    "Answer-->A return statement is used to end the execution of the function call and “returns” the result (value of the expression following the return keyword) to the caller.No its not possible a value."
   ]
  },
  {
   "cell_type": "markdown",
   "id": "39d1dab8",
   "metadata": {},
   "source": [
    "(7.)If a function does not have a return statement, what is the return value of a call to that function?"
   ]
  },
  {
   "cell_type": "markdown",
   "id": "cde54f30",
   "metadata": {},
   "source": [
    "Answer-->If no return statement appears in a function definition, control automatically returns to the calling function after the last statement of the called function is executed. In this case the return value of the called function is undefined."
   ]
  },
  {
   "cell_type": "markdown",
   "id": "df9be060",
   "metadata": {},
   "source": [
    "(8.)How do you make a function variable refer to the global variable?"
   ]
  },
  {
   "cell_type": "markdown",
   "id": "85e70747",
   "metadata": {},
   "source": [
    "Answer-->We can use the global keyword to declare which variables are global."
   ]
  },
  {
   "cell_type": "markdown",
   "id": "2111656f",
   "metadata": {},
   "source": [
    "(10.) What is the data type of None?\n"
   ]
  },
  {
   "cell_type": "markdown",
   "id": "440c8d03",
   "metadata": {},
   "source": [
    "Answer-->The None keyword is used to define a null value, or no value at all. None is not the same as 0, False, or an empty string"
   ]
  },
  {
   "cell_type": "markdown",
   "id": "9a779be3",
   "metadata": {},
   "source": [
    "(11.) What does the sentence import areallyourpetsnamederic do?"
   ]
  },
  {
   "cell_type": "markdown",
   "id": "69620f8b",
   "metadata": {},
   "source": [
    "Answer-->That import statement imports a module named areallyourpetsnamederic ."
   ]
  },
  {
   "cell_type": "markdown",
   "id": "b7a1dca5",
   "metadata": {},
   "source": [
    "(12.)If you had a bacon() feature in a spam module, what would you call it after importing spam?"
   ]
  },
  {
   "cell_type": "markdown",
   "id": "4d82e519",
   "metadata": {},
   "source": [
    "Answer-->This function can be called with spam. bacon()."
   ]
  },
  {
   "cell_type": "markdown",
   "id": "5ad1781d",
   "metadata": {},
   "source": [
    "(13.)What can you do to save a programme from crashing if it encounters an error?"
   ]
  },
  {
   "cell_type": "markdown",
   "id": "01935d59",
   "metadata": {},
   "source": [
    "Answer--> Error handling can be used,for example we can use try and except block."
   ]
  },
  {
   "cell_type": "markdown",
   "id": "ffb40289",
   "metadata": {},
   "source": [
    "(14.)What is the purpose of the try clause? What is the purpose of the except clause?"
   ]
  },
  {
   "cell_type": "markdown",
   "id": "5ef407c0",
   "metadata": {},
   "source": [
    "Answer-->The try block allows you to test a block of code for errors. The except block enables you to handle the error with a user-defined response"
   ]
  },
  {
   "cell_type": "code",
   "execution_count": null,
   "id": "3e594975",
   "metadata": {},
   "outputs": [],
   "source": []
  }
 ],
 "metadata": {
  "kernelspec": {
   "display_name": "Python 3 (ipykernel)",
   "language": "python",
   "name": "python3"
  },
  "language_info": {
   "codemirror_mode": {
    "name": "ipython",
    "version": 3
   },
   "file_extension": ".py",
   "mimetype": "text/x-python",
   "name": "python",
   "nbconvert_exporter": "python",
   "pygments_lexer": "ipython3",
   "version": "3.9.7"
  }
 },
 "nbformat": 4,
 "nbformat_minor": 5
}
