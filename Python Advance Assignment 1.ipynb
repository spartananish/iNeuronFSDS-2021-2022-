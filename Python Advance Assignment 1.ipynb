{
 "cells": [
  {
   "cell_type": "markdown",
   "id": "71e7cdcc",
   "metadata": {},
   "source": [
    "Q1. What is the purpose of Python's OOP?"
   ]
  },
  {
   "cell_type": "markdown",
   "id": "e2b91058",
   "metadata": {},
   "source": [
    "Answer- Object Oriented Programming help us to organise our code as well as it hellp us to reuse the code,provide abstraction ,code encapsulation,reasuability, and inheritance."
   ]
  },
  {
   "cell_type": "markdown",
   "id": "7d885072",
   "metadata": {},
   "source": [
    "Q2. Where does an inheritance search look for an attribute?"
   ]
  },
  {
   "cell_type": "markdown",
   "id": "258d1907",
   "metadata": {},
   "source": [
    "Answer-In Python, inheritance happens when an object is qualified, and involves searching an attribute definition tree (one or more namespaces). ... attr where object is an instance or class object, Python searches the namespace tree at and above object , for the first attr it can find"
   ]
  },
  {
   "cell_type": "markdown",
   "id": "d9d28baf",
   "metadata": {},
   "source": [
    "Q3. How do you distinguish between a class object and an instance object?"
   ]
  },
  {
   "cell_type": "markdown",
   "id": "435b42c9",
   "metadata": {},
   "source": [
    "Answer-Everything in Python is an object such as integers, lists, dictionaries, functions and so on. Every object has a type and the object types are created using classes. Instance is an object that belongs to a class."
   ]
  },
  {
   "cell_type": "markdown",
   "id": "2dbadcd3",
   "metadata": {},
   "source": [
    "Q4. What makes the first argument in a class’s method function special?"
   ]
  },
  {
   "cell_type": "markdown",
   "id": "21fd03dc",
   "metadata": {},
   "source": [
    "Answer-The first argument of every class method, including init, is always a reference to the current instance of the class. "
   ]
  },
  {
   "cell_type": "markdown",
   "id": "b8dbf8c3",
   "metadata": {},
   "source": [
    "Q5.What is the purpose of the __init__ method?"
   ]
  },
  {
   "cell_type": "markdown",
   "id": "2eb75acd",
   "metadata": {},
   "source": [
    "Answer- Init method is similiar to the constructor in java, it is used in order to intilize the class variable."
   ]
  },
  {
   "cell_type": "markdown",
   "id": "86045e78",
   "metadata": {},
   "source": [
    "\n",
    "Q6. What is the process for creating a class instance?\n"
   ]
  },
  {
   "cell_type": "markdown",
   "id": "b62cbbaf",
   "metadata": {},
   "source": [
    "Answer:- object = ClassName(var1,var2)"
   ]
  },
  {
   "cell_type": "markdown",
   "id": "1436e54e",
   "metadata": {},
   "source": [
    "Q7.What is the process for creating a class?"
   ]
  },
  {
   "cell_type": "markdown",
   "id": "e12c6bca",
   "metadata": {},
   "source": [
    "Answer:- class ClassName:"
   ]
  },
  {
   "cell_type": "markdown",
   "id": "3edfa0eb",
   "metadata": {},
   "source": [
    "Q8.How would you define the superclasses of a class?"
   ]
  },
  {
   "cell_type": "markdown",
   "id": "7e4a5989",
   "metadata": {},
   "source": [
    "Answer:- Superclass isthe class in the python whose properties are inherited by child class\n",
    "    for example we declair in the following way class T1:\n",
    "                                                class T2(T1): in the example T2 is child class where as T1 is parent or superclasss"
   ]
  },
  {
   "cell_type": "code",
   "execution_count": null,
   "id": "f7624cda",
   "metadata": {},
   "outputs": [],
   "source": []
  }
 ],
 "metadata": {
  "kernelspec": {
   "display_name": "Python 3 (ipykernel)",
   "language": "python",
   "name": "python3"
  },
  "language_info": {
   "codemirror_mode": {
    "name": "ipython",
    "version": 3
   },
   "file_extension": ".py",
   "mimetype": "text/x-python",
   "name": "python",
   "nbconvert_exporter": "python",
   "pygments_lexer": "ipython3",
   "version": "3.9.7"
  }
 },
 "nbformat": 4,
 "nbformat_minor": 5
}
