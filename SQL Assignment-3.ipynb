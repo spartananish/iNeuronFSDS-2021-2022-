{
 "cells": [
  {
   "cell_type": "markdown",
   "id": "f1b19233",
   "metadata": {},
   "source": [
    " Q-1. Write an SQL query to print the FIRST_NAME from Worker table after removing white spaces from the right side."
   ]
  },
  {
   "cell_type": "markdown",
   "id": "c8bb87e1",
   "metadata": {},
   "source": [
    "Answer ->SELECT RTRIM(FIRST_NAME) FROM Worker;"
   ]
  },
  {
   "cell_type": "markdown",
   "id": "67c99e14",
   "metadata": {},
   "source": [
    "Q-2. Write an SQL query that fetches the unique values of DEPARTMENT from Worker table and prints its length."
   ]
  },
  {
   "cell_type": "markdown",
   "id": "e7cd6576",
   "metadata": {},
   "source": [
    "Answer-> SELECT DISTINCT(DEPARTMENT),LEN(DEPARTMENT) FROM Worker;"
   ]
  },
  {
   "cell_type": "markdown",
   "id": "024f28f7",
   "metadata": {},
   "source": [
    "Q-3. Write an SQL query to fetch nth max salaries from a table."
   ]
  },
  {
   "cell_type": "markdown",
   "id": "56accca6",
   "metadata": {},
   "source": [
    "Answer->SELECT DISTINCT(Salary) FROM Worker ORDER BY Salary DESC LIMIT 1 OFFSET n"
   ]
  },
  {
   "cell_type": "code",
   "execution_count": null,
   "id": "10ff0b70",
   "metadata": {},
   "outputs": [],
   "source": []
  }
 ],
 "metadata": {
  "kernelspec": {
   "display_name": "Python 3 (ipykernel)",
   "language": "python",
   "name": "python3"
  },
  "language_info": {
   "codemirror_mode": {
    "name": "ipython",
    "version": 3
   },
   "file_extension": ".py",
   "mimetype": "text/x-python",
   "name": "python",
   "nbconvert_exporter": "python",
   "pygments_lexer": "ipython3",
   "version": "3.9.7"
  }
 },
 "nbformat": 4,
 "nbformat_minor": 5
}
