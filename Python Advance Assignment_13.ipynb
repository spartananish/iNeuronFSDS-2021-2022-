{
 "cells": [
  {
   "cell_type": "markdown",
   "id": "dc5c1e22",
   "metadata": {},
   "source": [
    "Q1. Can you create a programme or function that employs both positive and negative indexing? Is there any repercussion if you do so?"
   ]
  },
  {
   "cell_type": "markdown",
   "id": "eaf61cfc",
   "metadata": {},
   "source": [
    "Answer - Yes we can have function with both positive and negative indexing , and it have no repercussion."
   ]
  },
  {
   "cell_type": "markdown",
   "id": "a22046b2",
   "metadata": {},
   "source": [
    "\n",
    "Q2. What is the most effective way of starting with 1,000 elements in a Python list? Assume that all elements should be set to the same value.\n"
   ]
  },
  {
   "cell_type": "markdown",
   "id": "b5f4478b",
   "metadata": {},
   "source": [
    "Answer - The best way of doing this is :\n",
    "    test = \"my_list = [0] * 50\"\n",
    "    timeit(test)"
   ]
  },
  {
   "cell_type": "markdown",
   "id": "e60fcf10",
   "metadata": {},
   "source": [
    "\n",
    "\n",
    "Q3. How do you slice a list to get any other part while missing the rest? (For example, suppose you want to make a new list with the elements first, third, fifth, seventh, and so on.)\n"
   ]
  },
  {
   "cell_type": "code",
   "execution_count": 1,
   "id": "0b7b9a82",
   "metadata": {},
   "outputs": [
    {
     "ename": "SyntaxError",
     "evalue": "invalid syntax (Temp/ipykernel_11168/1748858770.py, line 1)",
     "output_type": "error",
     "traceback": [
      "\u001b[1;36m  File \u001b[1;32m\"C:\\Users\\DELL\\AppData\\Local\\Temp/ipykernel_11168/1748858770.py\"\u001b[1;36m, line \u001b[1;32m1\u001b[0m\n\u001b[1;33m    Answer - We can do it in the following way :\u001b[0m\n\u001b[1;37m                ^\u001b[0m\n\u001b[1;31mSyntaxError\u001b[0m\u001b[1;31m:\u001b[0m invalid syntax\n"
     ]
    }
   ],
   "source": [
    "Answer - We can do it in the following way :\n",
    "    list1 =[1,2,3,4,5,6,7,8,9]\n",
    "    list2 = [::2]"
   ]
  },
  {
   "cell_type": "code",
   "execution_count": 4,
   "id": "14bb800b",
   "metadata": {},
   "outputs": [],
   "source": [
    "list1 =[1,2,3,4,5,6,7,8,9]\n",
    "list2 = list1[::2]"
   ]
  },
  {
   "cell_type": "code",
   "execution_count": 5,
   "id": "d7fd827d",
   "metadata": {},
   "outputs": [
    {
     "name": "stdout",
     "output_type": "stream",
     "text": [
      "[1, 3, 5, 7, 9]\n"
     ]
    }
   ],
   "source": [
    "print(list2)"
   ]
  },
  {
   "cell_type": "markdown",
   "id": "56d837de",
   "metadata": {},
   "source": [
    "\n",
    "\n",
    "Q4. Explain the distinctions between indexing and slicing.\n"
   ]
  },
  {
   "cell_type": "markdown",
   "id": "cf950978",
   "metadata": {},
   "source": [
    "Answer - “Indexing” means referring to an element of an iterable by its position within the iterable. “Slicing” means getting a subset of elements from an iterable based on their indices."
   ]
  },
  {
   "cell_type": "markdown",
   "id": "c5fcb6de",
   "metadata": {},
   "source": [
    "Q5. What happens if one of the slicing expression's indexes is out of range?"
   ]
  },
  {
   "cell_type": "markdown",
   "id": "45b1d5c0",
   "metadata": {},
   "source": [
    "Answer:- It might be surprising at first, but it makes sense when you think about it. Indexing returns a single item, but slicing returns a subsequence of items. So when you try to index a nonexistent value, there's nothing to return. But when you slice a sequence outside of bounds, you can still return an empty sequence."
   ]
  },
  {
   "cell_type": "markdown",
   "id": "65f55a12",
   "metadata": {},
   "source": [
    "\n",
    "Q6. If you pass a list to a function, and if you want the function to be able to change the values of the list—so that the list is different after the function returns—what action should you avoid?\n"
   ]
  },
  {
   "cell_type": "markdown",
   "id": "74dae877",
   "metadata": {},
   "source": [
    "Answer - We can perform any sort of action over the list and we should check for index,that we should not reach index out of bound."
   ]
  },
  {
   "cell_type": "markdown",
   "id": "1fa81232",
   "metadata": {},
   "source": [
    "\n",
    "\n",
    "Q7. What is the concept of an unbalanced matrix?\n"
   ]
  },
  {
   "cell_type": "markdown",
   "id": "022be219",
   "metadata": {},
   "source": [
    "Answer:-Whenever the cost matrix of an assignment problem is not a square matrix, that is, whenever the number of sources is not equal to the number of destinations, the assignment problem is called an unbalanced assignment problem."
   ]
  },
  {
   "cell_type": "markdown",
   "id": "bb6e4fde",
   "metadata": {},
   "source": [
    "Q8. Why is it necessary to use either list comprehension or a loop to create arbitrarily large matrices?"
   ]
  },
  {
   "cell_type": "markdown",
   "id": "3ad1ba98",
   "metadata": {},
   "source": [
    "Answer -Python features functional programming tools like map and filter for mapping operations over sequences and collecting results.\n",
    "Since this is such a common task in Python coding, Python made a new expression: the list comprehension which is more flexible than map and filter. List comprehensions apply an arbitrary expression to items in an iterable rather than applying function. It provides a compact way of mapping a list into another list by applying a function to each of the elements of the list.\n",
    "\n"
   ]
  },
  {
   "cell_type": "code",
   "execution_count": null,
   "id": "2955daae",
   "metadata": {},
   "outputs": [],
   "source": []
  }
 ],
 "metadata": {
  "kernelspec": {
   "display_name": "Python 3 (ipykernel)",
   "language": "python",
   "name": "python3"
  },
  "language_info": {
   "codemirror_mode": {
    "name": "ipython",
    "version": 3
   },
   "file_extension": ".py",
   "mimetype": "text/x-python",
   "name": "python",
   "nbconvert_exporter": "python",
   "pygments_lexer": "ipython3",
   "version": "3.9.7"
  }
 },
 "nbformat": 4,
 "nbformat_minor": 5
}
