{
 "cells": [
  {
   "cell_type": "markdown",
   "id": "215813f4",
   "metadata": {},
   "source": [
    "1.\tWrite a Python program to find sum of elements in list?"
   ]
  },
  {
   "cell_type": "code",
   "execution_count": 8,
   "id": "840c71f0",
   "metadata": {},
   "outputs": [],
   "source": [
    "def listsum(li):\n",
    "    i=0\n",
    "    sum =0\n",
    "    for i in li:\n",
    "        sum = sum + i\n",
    "    return sum\n",
    "    "
   ]
  },
  {
   "cell_type": "code",
   "execution_count": 9,
   "id": "1f8cd284",
   "metadata": {},
   "outputs": [
    {
     "data": {
      "text/plain": [
       "55"
      ]
     },
     "execution_count": 9,
     "metadata": {},
     "output_type": "execute_result"
    }
   ],
   "source": [
    "li = [1,2,3,44,5]\n",
    "listsum(li)"
   ]
  },
  {
   "cell_type": "markdown",
   "id": "51c996c5",
   "metadata": {},
   "source": [
    "2.\tWrite a Python program to  Multiply all numbers in the list?"
   ]
  },
  {
   "cell_type": "code",
   "execution_count": 12,
   "id": "32982cda",
   "metadata": {},
   "outputs": [],
   "source": [
    "def listsum(li):\n",
    "    i=0\n",
    "    sum =1\n",
    "    for i in li:\n",
    "        sum = sum * i\n",
    "    return sum"
   ]
  },
  {
   "cell_type": "code",
   "execution_count": 13,
   "id": "112fd70a",
   "metadata": {},
   "outputs": [
    {
     "data": {
      "text/plain": [
       "1320"
      ]
     },
     "execution_count": 13,
     "metadata": {},
     "output_type": "execute_result"
    }
   ],
   "source": [
    "li = [1,2,3,44,5]\n",
    "listsum(li)"
   ]
  },
  {
   "cell_type": "markdown",
   "id": "7436926e",
   "metadata": {},
   "source": [
    "3.\tWrite a Python program to find smallest number in a list?"
   ]
  },
  {
   "cell_type": "code",
   "execution_count": 14,
   "id": "5d313e0c",
   "metadata": {},
   "outputs": [],
   "source": [
    "def smallestnum(li):\n",
    "    li.sort()\n",
    "    print(li[0])"
   ]
  },
  {
   "cell_type": "code",
   "execution_count": 16,
   "id": "bf42bc3d",
   "metadata": {},
   "outputs": [
    {
     "name": "stdout",
     "output_type": "stream",
     "text": [
      "1\n"
     ]
    }
   ],
   "source": [
    "li = [88,1,2,3,44,5]\n",
    "smallestnum(li)"
   ]
  },
  {
   "cell_type": "markdown",
   "id": "d1956fbe",
   "metadata": {},
   "source": [
    "4.\tWrite a Python program to find largest number in a list?"
   ]
  },
  {
   "cell_type": "code",
   "execution_count": 18,
   "id": "b132da0a",
   "metadata": {},
   "outputs": [],
   "source": [
    "def largesttnum(li):\n",
    "    print(max(li))"
   ]
  },
  {
   "cell_type": "code",
   "execution_count": 20,
   "id": "ce4401b2",
   "metadata": {},
   "outputs": [
    {
     "name": "stdout",
     "output_type": "stream",
     "text": [
      "88\n"
     ]
    }
   ],
   "source": [
    "li = [2,3,88,1,2,3,44,5]\n",
    "largesttnum(li)"
   ]
  },
  {
   "cell_type": "markdown",
   "id": "a146008b",
   "metadata": {},
   "source": [
    "5.\tWrite a Python program to find second largest number in a list?"
   ]
  },
  {
   "cell_type": "code",
   "execution_count": 21,
   "id": "9c0d3848",
   "metadata": {},
   "outputs": [],
   "source": [
    "def secondlargesttnum(li):\n",
    "    li.sort()\n",
    "    print(li[-2])"
   ]
  },
  {
   "cell_type": "code",
   "execution_count": 22,
   "id": "45bc107d",
   "metadata": {},
   "outputs": [
    {
     "name": "stdout",
     "output_type": "stream",
     "text": [
      "44\n"
     ]
    }
   ],
   "source": [
    "li = [2,3,88,1,2,3,44,5]\n",
    "secondlargesttnum(li)"
   ]
  },
  {
   "cell_type": "markdown",
   "id": "5c3e15bd",
   "metadata": {},
   "source": [
    "6.\tWrite a Python program to find N largest elements from a list?"
   ]
  },
  {
   "cell_type": "code",
   "execution_count": 29,
   "id": "94e1e663",
   "metadata": {},
   "outputs": [],
   "source": [
    "def largesttnum(li,n):\n",
    "    li.sort(reverse=True)\n",
    "    for i in range(n):\n",
    "        print(li[i])\n",
    "    "
   ]
  },
  {
   "cell_type": "code",
   "execution_count": 30,
   "id": "3aa29445",
   "metadata": {},
   "outputs": [
    {
     "name": "stdout",
     "output_type": "stream",
     "text": [
      "88\n",
      "44\n",
      "5\n",
      "3\n"
     ]
    }
   ],
   "source": [
    "li = [2,3,88,1,2,3,44,5]\n",
    "n=4\n",
    "largesttnum(li,n)"
   ]
  },
  {
   "cell_type": "markdown",
   "id": "6efe00c0",
   "metadata": {},
   "source": [
    "7.\tWrite a Python program to print even numbers in a list?"
   ]
  },
  {
   "cell_type": "code",
   "execution_count": 31,
   "id": "121ae878",
   "metadata": {},
   "outputs": [],
   "source": [
    "def even(li):\n",
    "    for i in li:\n",
    "        if(i%2 == 0):\n",
    "            print(i)"
   ]
  },
  {
   "cell_type": "code",
   "execution_count": 32,
   "id": "5dcf7719",
   "metadata": {},
   "outputs": [
    {
     "name": "stdout",
     "output_type": "stream",
     "text": [
      "2\n",
      "88\n",
      "2\n",
      "44\n"
     ]
    }
   ],
   "source": [
    "li = [2,3,88,1,2,3,44,5]\n",
    "even(li)"
   ]
  },
  {
   "cell_type": "markdown",
   "id": "d707ded8",
   "metadata": {},
   "source": [
    "8.\tWrite a Python program to print odd numbers in a List?"
   ]
  },
  {
   "cell_type": "code",
   "execution_count": 36,
   "id": "ef56c9af",
   "metadata": {},
   "outputs": [],
   "source": [
    "def odd(li):\n",
    "    for i in li:\n",
    "        if(i%2 != 0):\n",
    "            print(i)"
   ]
  },
  {
   "cell_type": "code",
   "execution_count": 37,
   "id": "1504ebc5",
   "metadata": {},
   "outputs": [
    {
     "name": "stdout",
     "output_type": "stream",
     "text": [
      "3\n",
      "1\n",
      "3\n",
      "5\n"
     ]
    }
   ],
   "source": [
    "li = [2,3,88,1,2,3,44,5]\n",
    "odd(li)"
   ]
  },
  {
   "cell_type": "markdown",
   "id": "aee42adc",
   "metadata": {},
   "source": [
    "10.\tWrite a Python program to Cloning or Copying a list?"
   ]
  },
  {
   "cell_type": "code",
   "execution_count": 42,
   "id": "220197af",
   "metadata": {},
   "outputs": [],
   "source": [
    "def cloning(li):\n",
    "    licopy = []\n",
    "    licopy = li\n",
    "    print(licopy)"
   ]
  },
  {
   "cell_type": "markdown",
   "id": "5a39ab47",
   "metadata": {},
   "source": [
    "li = [2,3,88,1,2,3,44,5]\n",
    "cloning(li)"
   ]
  },
  {
   "cell_type": "code",
   "execution_count": 43,
   "id": "e1aa3545",
   "metadata": {},
   "outputs": [
    {
     "name": "stdout",
     "output_type": "stream",
     "text": [
      "[2, 3, 88, 1, 2, 3, 44, 5]\n"
     ]
    }
   ],
   "source": [
    "li = [2,3,88,1,2,3,44,5]\n",
    "cloning(li)"
   ]
  },
  {
   "cell_type": "markdown",
   "id": "e7dd68c9",
   "metadata": {},
   "source": [
    "11.\tWrite a Python program to Count occurrences of an element in a list?"
   ]
  },
  {
   "cell_type": "code",
   "execution_count": 44,
   "id": "bce39ec9",
   "metadata": {},
   "outputs": [],
   "source": [
    "def countX(lst, x):\n",
    "    count = 0\n",
    "    for ele in lst:\n",
    "        if (ele == x):\n",
    "            count = count + 1\n",
    "    return count\n",
    " "
   ]
  },
  {
   "cell_type": "markdown",
   "id": "35ed27d7",
   "metadata": {},
   "source": [
    "9.\tWrite a Python program to Remove empty List from List?"
   ]
  },
  {
   "cell_type": "code",
   "execution_count": 45,
   "id": "f77a8e5f",
   "metadata": {},
   "outputs": [],
   "source": [
    "def removingemptylist():\n",
    "    test_list = [5, 6, [], 3, [], [], 9]\n",
    "    print(\"The original list is : \" + str(test_list))\n",
    "    res = list(filter(None, test_list))\n",
    "    print (\"List after empty list removal : \" + str(res))"
   ]
  },
  {
   "cell_type": "code",
   "execution_count": null,
   "id": "e89d5573",
   "metadata": {},
   "outputs": [],
   "source": []
  }
 ],
 "metadata": {
  "kernelspec": {
   "display_name": "Python 3 (ipykernel)",
   "language": "python",
   "name": "python3"
  },
  "language_info": {
   "codemirror_mode": {
    "name": "ipython",
    "version": 3
   },
   "file_extension": ".py",
   "mimetype": "text/x-python",
   "name": "python",
   "nbconvert_exporter": "python",
   "pygments_lexer": "ipython3",
   "version": "3.9.7"
  }
 },
 "nbformat": 4,
 "nbformat_minor": 5
}
