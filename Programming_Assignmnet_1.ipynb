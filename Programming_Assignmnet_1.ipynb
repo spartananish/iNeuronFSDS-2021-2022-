{
 "cells": [
  {
   "cell_type": "markdown",
   "id": "09d48b5f",
   "metadata": {},
   "source": [
    "(1.)\tWrite a Python program to print \"Hello Python\"?"
   ]
  },
  {
   "cell_type": "code",
   "execution_count": 5,
   "id": "4e1be415",
   "metadata": {},
   "outputs": [],
   "source": [
    "def solution1():\n",
    "    print('Hello Python')"
   ]
  },
  {
   "cell_type": "code",
   "execution_count": 6,
   "id": "6ee4eddb",
   "metadata": {},
   "outputs": [
    {
     "name": "stdout",
     "output_type": "stream",
     "text": [
      "Hello Python\n"
     ]
    }
   ],
   "source": [
    "solution1()"
   ]
  },
  {
   "cell_type": "markdown",
   "id": "ba378b6c",
   "metadata": {},
   "source": [
    "(2.)\tWrite a Python program to do arithmetical operations addition and division.?"
   ]
  },
  {
   "cell_type": "code",
   "execution_count": 7,
   "id": "d719e26c",
   "metadata": {},
   "outputs": [],
   "source": [
    "def solution2(*args):\n",
    "    #Addition\n",
    "    add = args[0] + args[1]\n",
    "    print(add)\n",
    "    #Division\n",
    "    div = args[0] / args[1]\n",
    "    print(div)\n",
    "    "
   ]
  },
  {
   "cell_type": "code",
   "execution_count": 8,
   "id": "9803d682",
   "metadata": {},
   "outputs": [
    {
     "name": "stdout",
     "output_type": "stream",
     "text": [
      "7\n",
      "0.75\n"
     ]
    }
   ],
   "source": [
    "solution2(3,4)"
   ]
  },
  {
   "cell_type": "markdown",
   "id": "34419c91",
   "metadata": {},
   "source": [
    "(3.)\tWrite a Python program to find the area of a triangle?"
   ]
  },
  {
   "cell_type": "code",
   "execution_count": 10,
   "id": "29005b26",
   "metadata": {},
   "outputs": [],
   "source": [
    "def solution3():\n",
    "    a = float(input())  \n",
    "    b = float(input()) \n",
    "    c = float(input())  \n",
    "    # Half perimeter \n",
    "    hp = (a + b + c) / 2  \n",
    "    # calculate the area  \n",
    "    area = (hp*(hp-a)*(hp-b)*(hp-c)) ** 0.5  \n",
    "    print(area)"
   ]
  },
  {
   "cell_type": "code",
   "execution_count": 11,
   "id": "a2591c3d",
   "metadata": {},
   "outputs": [
    {
     "name": "stdout",
     "output_type": "stream",
     "text": [
      "2\n",
      "2\n",
      "2\n",
      "1.7320508075688772\n"
     ]
    }
   ],
   "source": [
    "solution3()"
   ]
  },
  {
   "cell_type": "markdown",
   "id": "6fc43ca2",
   "metadata": {},
   "source": [
    "(4.)Write a Python program to swap two variables?"
   ]
  },
  {
   "cell_type": "code",
   "execution_count": 17,
   "id": "e2d4c2fd",
   "metadata": {},
   "outputs": [],
   "source": [
    "def solution4():\n",
    "    a = float(input())  \n",
    "    b = float(input()) \n",
    "    print('Before swap',a,b)\n",
    "    temp = a\n",
    "    a=b\n",
    "    b=temp\n",
    "    print('After swap',a,b)\n",
    "    "
   ]
  },
  {
   "cell_type": "code",
   "execution_count": 18,
   "id": "d0aba4d0",
   "metadata": {},
   "outputs": [
    {
     "name": "stdout",
     "output_type": "stream",
     "text": [
      "4\n",
      "8\n",
      "Before swap 4.0 8.0\n",
      "After swap 8.0 4.0\n"
     ]
    }
   ],
   "source": [
    "solution4()"
   ]
  },
  {
   "cell_type": "markdown",
   "id": "a5f07d6f",
   "metadata": {},
   "source": [
    "(5.)Write a Python program to generate a random number?"
   ]
  },
  {
   "cell_type": "code",
   "execution_count": 24,
   "id": "ef7d6083",
   "metadata": {},
   "outputs": [],
   "source": [
    "import random as rd\n",
    "def solution5():\n",
    "    print(rd.randint(0,10))\n",
    "    \n",
    "    "
   ]
  },
  {
   "cell_type": "code",
   "execution_count": 27,
   "id": "5419c819",
   "metadata": {},
   "outputs": [
    {
     "name": "stdout",
     "output_type": "stream",
     "text": [
      "8\n"
     ]
    }
   ],
   "source": [
    "solution5()\n"
   ]
  },
  {
   "cell_type": "code",
   "execution_count": null,
   "id": "6c47d8b0",
   "metadata": {},
   "outputs": [],
   "source": []
  }
 ],
 "metadata": {
  "kernelspec": {
   "display_name": "Python 3 (ipykernel)",
   "language": "python",
   "name": "python3"
  },
  "language_info": {
   "codemirror_mode": {
    "name": "ipython",
    "version": 3
   },
   "file_extension": ".py",
   "mimetype": "text/x-python",
   "name": "python",
   "nbconvert_exporter": "python",
   "pygments_lexer": "ipython3",
   "version": "3.9.7"
  }
 },
 "nbformat": 4,
 "nbformat_minor": 5
}
