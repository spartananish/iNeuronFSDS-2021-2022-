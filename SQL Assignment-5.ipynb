{
 "cells": [
  {
   "cell_type": "markdown",
   "id": "3603b83a",
   "metadata": {},
   "source": [
    "Q-1. Write an SQL query to print details of workers excluding first names, “Vipul” and “Satish” from Worker table."
   ]
  },
  {
   "cell_type": "markdown",
   "id": "47bb162b",
   "metadata": {},
   "source": [
    "ANswer-> SELECT * FROM Worker WHERE FIRST_NAME NOT IN ('Vipul','Satish');"
   ]
  },
  {
   "cell_type": "markdown",
   "id": "35debed2",
   "metadata": {},
   "source": [
    "Q-2. Write an SQL query to print details of the Workers whose FIRST_NAME ends with ‘h’ and contains six alphabets."
   ]
  },
  {
   "cell_type": "markdown",
   "id": "998cbcc9",
   "metadata": {},
   "source": [
    "Answer-> ELECT * FROM Worker WHERE FIRST_NAME LIKE '______h';"
   ]
  },
  {
   "cell_type": "markdown",
   "id": "035bb8ad",
   "metadata": {},
   "source": [
    "Q-3. Write a query to validate Email of Employee."
   ]
  },
  {
   "cell_type": "markdown",
   "id": "989433cd",
   "metadata": {},
   "source": [
    "Answer-> SELECT * FROM Worker WHERE email LIKE \"_%@_%._%\""
   ]
  },
  {
   "cell_type": "code",
   "execution_count": null,
   "id": "cd03b31d",
   "metadata": {},
   "outputs": [],
   "source": []
  }
 ],
 "metadata": {
  "kernelspec": {
   "display_name": "Python 3 (ipykernel)",
   "language": "python",
   "name": "python3"
  },
  "language_info": {
   "codemirror_mode": {
    "name": "ipython",
    "version": 3
   },
   "file_extension": ".py",
   "mimetype": "text/x-python",
   "name": "python",
   "nbconvert_exporter": "python",
   "pygments_lexer": "ipython3",
   "version": "3.9.7"
  }
 },
 "nbformat": 4,
 "nbformat_minor": 5
}
