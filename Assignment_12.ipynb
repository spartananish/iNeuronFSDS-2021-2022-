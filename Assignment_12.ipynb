{
 "cells": [
  {
   "cell_type": "markdown",
   "id": "65594107",
   "metadata": {},
   "source": [
    "1. In what modes should the PdfFileReader() and PdfFileWriter() File objects will be opened?"
   ]
  },
  {
   "cell_type": "markdown",
   "id": "b40c18f5",
   "metadata": {},
   "source": [
    "Answer-PdfFileReader() needs to be opened in read-binary mode by passing 'rb' as the second argument to open(). Likewise, the File object passed to PyPDF2. PdfFileWriter() needs to be opened in write-binary mode with 'wb'."
   ]
  },
  {
   "cell_type": "markdown",
   "id": "21b98f14",
   "metadata": {},
   "source": [
    "2. From a PdfFileReader object, how do you get a Page object for page 5?"
   ]
  },
  {
   "cell_type": "markdown",
   "id": "3cc9dcdd",
   "metadata": {},
   "source": [
    "Answer-To extract text from a page, you need to get a Page object, which represents a single page of a PDF, from a PdfFileReader object. You can get a Page object by calling the getPage() method on a PdfFileReader object and passing it the page number which is required"
   ]
  },
  {
   "cell_type": "markdown",
   "id": "f5af4d8f",
   "metadata": {},
   "source": [
    "3. What PdfFileReader variable stores the number of pages in the PDF document?"
   ]
  },
  {
   "cell_type": "markdown",
   "id": "3f1972f2",
   "metadata": {},
   "source": [
    "Answer - The total number of pages in the document is stored in the numPages attribute of a PdfFileReader object."
   ]
  },
  {
   "cell_type": "markdown",
   "id": "47d21828",
   "metadata": {},
   "source": [
    "4. If a PdfFileReader object’s PDF is encrypted with the password swordfish, what must you do before you can obtain Page objects from it?"
   ]
  },
  {
   "cell_type": "markdown",
   "id": "5f2097c6",
   "metadata": {},
   "source": [
    "Answer-To read an encrypted PDF, call the decrypt() function and pass the password as a string . After you call decrypt() with the correct password, you’ll see that calling getPage() no longer causes an error. If given the wrong password, the decrypt() function will return 0 and getPage() will continue to fail. Note that the decrypt() method decrypts only the PdfFileReader object, not the actual PDF file. After your program terminates, the file on your hard drive remains encrypted. "
   ]
  },
  {
   "cell_type": "markdown",
   "id": "c9edb9b2",
   "metadata": {},
   "source": [
    "5. What methods do you use to rotate a page?"
   ]
  },
  {
   "cell_type": "markdown",
   "id": "760ebca0",
   "metadata": {},
   "source": [
    "Answer-We can rotate a page clockwise or counter-clockwise by an angle. The PdfFileWriter is used to write the PDF file from the source PDF. We are using rotateClockwise(90) method to rotate the page clockwise by 90-degrees. We are adding the rotated pages to the PdfFileWriter instance."
   ]
  },
  {
   "cell_type": "markdown",
   "id": "f9b76d91",
   "metadata": {},
   "source": [
    "6. What is the difference between a Run object and a Paragraph object?"
   ]
  },
  {
   "cell_type": "markdown",
   "id": "0ffeb073",
   "metadata": {},
   "source": [
    "Answer - Each Paragraph object also has a runs attribute that is a list of Run objects. Run objects also have a text attribute, containing just the text in that particular run."
   ]
  },
  {
   "cell_type": "markdown",
   "id": "4b7c0524",
   "metadata": {},
   "source": [
    "7. How do you obtain a list of Paragraph objects for a Document object that’s stored in a variable named doc?"
   ]
  },
  {
   "cell_type": "markdown",
   "id": "0a00dce1",
   "metadata": {},
   "source": [
    "Answer- docx.Document(docx=None),Return a Document object loaded from docx, where docx can be either a path to a .docx file (a string) or a file-like object. If docx is missing or None, the built-in default document “template” is loaded."
   ]
  },
  {
   "cell_type": "markdown",
   "id": "2196eb03",
   "metadata": {},
   "source": [
    "8. What type of object has bold, underline, italic, strike, and outline variables?"
   ]
  },
  {
   "cell_type": "markdown",
   "id": "3e1b70c2",
   "metadata": {},
   "source": [
    "Answer - A doc File object can have the above specified variables as properties."
   ]
  },
  {
   "cell_type": "markdown",
   "id": "e91c35bd",
   "metadata": {},
   "source": [
    "9. What is the difference between False, True, and None for the bold variable?"
   ]
  },
  {
   "cell_type": "markdown",
   "id": "2f6a954c",
   "metadata": {},
   "source": [
    "Answer - True / False are used where the field takes a boolean value. None is used where the field takes an Optional."
   ]
  },
  {
   "cell_type": "markdown",
   "id": "0677bea0",
   "metadata": {},
   "source": [
    "10. How do you create a Document object for a new Word document?"
   ]
  },
  {
   "cell_type": "markdown",
   "id": "7cd29886",
   "metadata": {},
   "source": [
    "Answer :- Following step can be used\n",
    "    f = open('foobar.docx', 'rb')\n",
    "document = Document(f)\n",
    "f.close()"
   ]
  },
  {
   "cell_type": "markdown",
   "id": "828e8e14",
   "metadata": {},
   "source": [
    "11. How do you add a paragraph with the text 'Hello, there!' to a Document object stored in a variable named doc?"
   ]
  },
  {
   "cell_type": "markdown",
   "id": "73bd0737",
   "metadata": {},
   "source": [
    "Answer - We can use the following below step :\n",
    "    import docx\n",
    "    doc = Document('Path of Doc file where Hellow There need to be written')\n",
    "    doc.add_heading('Add Heading', 0)\n",
    "    doc_para = doc.add_paragraph('Hello There, ')\n",
    "  "
   ]
  },
  {
   "cell_type": "markdown",
   "id": "06b33f45",
   "metadata": {},
   "source": [
    "12. What integers represent the levels of headings available in Word documents?"
   ]
  },
  {
   "cell_type": "markdown",
   "id": "a51fe18f",
   "metadata": {},
   "source": [
    "Answer :-We can number headings so that top-level headings (Heading 1) are numbered 1, 2, 3, for example, and second-level headings (Heading 2) are numbered 1.1, 1.2, 1.3. Open your document that uses built-in heading styles, and select the first Heading 1. On the Home tab, in the Paragraph group, choose Multilevel List."
   ]
  },
  {
   "cell_type": "code",
   "execution_count": null,
   "id": "069efc30",
   "metadata": {},
   "outputs": [],
   "source": []
  }
 ],
 "metadata": {
  "kernelspec": {
   "display_name": "Python 3 (ipykernel)",
   "language": "python",
   "name": "python3"
  },
  "language_info": {
   "codemirror_mode": {
    "name": "ipython",
    "version": 3
   },
   "file_extension": ".py",
   "mimetype": "text/x-python",
   "name": "python",
   "nbconvert_exporter": "python",
   "pygments_lexer": "ipython3",
   "version": "3.9.7"
  }
 },
 "nbformat": 4,
 "nbformat_minor": 5
}
