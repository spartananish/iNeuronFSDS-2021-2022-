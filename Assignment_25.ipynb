{
 "cells": [
  {
   "cell_type": "markdown",
   "id": "fdadebb3",
   "metadata": {},
   "source": [
    "1) . What is the difference between enclosing a list comprehension in square brackets and parentheses?"
   ]
  },
  {
   "cell_type": "markdown",
   "id": "f5dea5af",
   "metadata": {},
   "source": [
    "Enclosing a list comprehension in square brackets returns a list.but where as enclosing a list comprehension in parentheses returns a generator object"
   ]
  },
  {
   "cell_type": "code",
   "execution_count": 5,
   "id": "a417810a",
   "metadata": {},
   "outputs": [
    {
     "name": "stdout",
     "output_type": "stream",
     "text": [
      "[0, 1, 2, 3, 4, 5, 6, 7, 8, 9] <class 'list'>\n",
      "<generator object <genexpr> at 0x00000283141F6200> <class 'generator'>\n"
     ]
    }
   ],
   "source": [
    "lst = [li for li in range(10)]\n",
    "print(lst, type(lst))\n",
    "gen = (gen for gen in range(10))\n",
    "print(gen, type(gen))"
   ]
  },
  {
   "cell_type": "markdown",
   "id": "fe38f4f5",
   "metadata": {},
   "source": [
    "\n",
    "2) What is the relationship between generators and iterators?\n"
   ]
  },
  {
   "cell_type": "markdown",
   "id": "0f74d628",
   "metadata": {},
   "source": [
    " An iterator is an object which contains a countable number of values and it is used to iterate over iterable objects like list, tuples, sets, etc. Iterators are implemented using a class. It follows lazy evaluation where the evaluation of the expression will be on hold and stored in the memory until the item is called specifically which helps us to avoid repeated evaluation. As lazy evaluation is implemented, it requires only 1 memory location to process the value and when we are using a large dataset then, wastage of RAM space will be reduced.\n",
    " \n",
    " Similarly Generators are an another way of creating iterators in a simple way where it uses the keyword yield statement instead of return statement in a defined function.Generators are implemented using a function. Just as iterators, generators also follow lazy evaluation. Here, the yield function returns the data without affecting or exiting the function."
   ]
  },
  {
   "cell_type": "code",
   "execution_count": 9,
   "id": "7b0455db",
   "metadata": {},
   "outputs": [
    {
     "name": "stdout",
     "output_type": "stream",
     "text": [
      "<class 'list_iterator'>\n",
      "iNeuron\n",
      "Full\n",
      "Stack\n",
      "Data Science\n",
      "<list_iterator object at 0x00000283141FFBB0>\n",
      "0\n",
      "1\n",
      "4\n",
      "9\n",
      "16\n"
     ]
    }
   ],
   "source": [
    "# Iterartor\n",
    "itrString = iter(['iNeuron','Full','Stack','Data Science'])\n",
    "print(type(itrString))\n",
    "print(next(itrString))\n",
    "print(next(itrString))\n",
    "print(next(itrString))\n",
    "print(next(itrString))\n",
    "print(itrString) \n",
    "\n",
    "# Generator\n",
    "def square_numbers(nums):\n",
    "    for num in range(nums+1):\n",
    "        yield num**2\n",
    "\n",
    "output = square_numbers(4)\n",
    "print(next(output))\n",
    "print(next(output))\n",
    "print(next(output))\n",
    "print(next(output))\n",
    "print(next(output))"
   ]
  },
  {
   "cell_type": "markdown",
   "id": "17f98ab1",
   "metadata": {},
   "source": [
    "3) What are the signs that a function is a generator function?"
   ]
  },
  {
   "cell_type": "markdown",
   "id": "cee84c3f",
   "metadata": {},
   "source": [
    "A generator function uses a yield statement instead of a return statement. A generator function will always return a iterable object called generator. where as a normal function can return a string,list,tuple etc."
   ]
  },
  {
   "cell_type": "markdown",
   "id": "19dd7693",
   "metadata": {},
   "source": [
    "4) What is the purpose of a yield statement?"
   ]
  },
  {
   "cell_type": "markdown",
   "id": "e8b9a12e",
   "metadata": {},
   "source": [
    " The yield statement suspends function’s execution and sends a value back to the caller, but retains enough state to enable function to resume where it is left off. When resumed, the function continues execution immediately after the last yield run"
   ]
  },
  {
   "cell_type": "markdown",
   "id": "eb5064bb",
   "metadata": {},
   "source": [
    "5) What is the relationship between map calls and list comprehensions? Make a comparison and contrast between the two."
   ]
  },
  {
   "cell_type": "markdown",
   "id": "e68720bb",
   "metadata": {},
   "source": [
    "The main differences between map calls and list comprehensiosn are as follows:\n",
    "\n",
    "List comprehension is more concise and easier to read as compared to map.\n",
    "List comprehension allows filtering. In map, we have no such facility. For example, to print all odd numbers in range of 50, we can write [n for n in range(50) if n%2 != 0]. There is no alternate for it in map\n",
    "List comprehension are used when a list of results is required as final output.but map only returns a map object. it needs to be explicitly coverted to desired datatype.\n",
    "List comprehension is faster than map when we need to evaluate expressions that are too long or complicated to express"
   ]
  }
 ],
 "metadata": {
  "kernelspec": {
   "display_name": "Python 3 (ipykernel)",
   "language": "python",
   "name": "python3"
  },
  "language_info": {
   "codemirror_mode": {
    "name": "ipython",
    "version": 3
   },
   "file_extension": ".py",
   "mimetype": "text/x-python",
   "name": "python",
   "nbconvert_exporter": "python",
   "pygments_lexer": "ipython3",
   "version": "3.9.7"
  }
 },
 "nbformat": 4,
 "nbformat_minor": 5
}
