{
 "cells": [
  {
   "cell_type": "markdown",
   "id": "8714a6c7",
   "metadata": {},
   "source": [
    "(1.)\tWrite a Python Program to Check if a Number is Positive, Negative or Zero?"
   ]
  },
  {
   "cell_type": "code",
   "execution_count": 1,
   "id": "fc2b538d",
   "metadata": {},
   "outputs": [],
   "source": [
    "def check(n):\n",
    "    if(n==0):\n",
    "        print('Zero')\n",
    "    if(n<0):\n",
    "        print('Negative')\n",
    "    else:\n",
    "        print('Positive')\n",
    "    "
   ]
  },
  {
   "cell_type": "code",
   "execution_count": 2,
   "id": "7dc26643",
   "metadata": {},
   "outputs": [
    {
     "name": "stdout",
     "output_type": "stream",
     "text": [
      "Positive\n"
     ]
    }
   ],
   "source": [
    "check(4)\n"
   ]
  },
  {
   "cell_type": "markdown",
   "id": "571e97ed",
   "metadata": {},
   "source": [
    "(2.)\tWrite a Python Program to Check if a Number is Odd or Even?"
   ]
  },
  {
   "cell_type": "code",
   "execution_count": 3,
   "id": "accf2ac7",
   "metadata": {},
   "outputs": [],
   "source": [
    "def oddEven(n):\n",
    "    if(n%2 == 0):\n",
    "        print('Even')\n",
    "    else:\n",
    "        print('Odd')"
   ]
  },
  {
   "cell_type": "code",
   "execution_count": 4,
   "id": "c8597e6c",
   "metadata": {},
   "outputs": [
    {
     "name": "stdout",
     "output_type": "stream",
     "text": [
      "Even\n"
     ]
    }
   ],
   "source": [
    "oddEven(4)"
   ]
  },
  {
   "cell_type": "markdown",
   "id": "3a09aaa1",
   "metadata": {},
   "source": [
    "(3.)\tWrite a Python Program to Check Leap Year?"
   ]
  },
  {
   "cell_type": "code",
   "execution_count": 9,
   "id": "94f3fc5f",
   "metadata": {},
   "outputs": [],
   "source": [
    "def checkLeapYear(n):\n",
    "    if(n%4 )== 0:\n",
    "        if(n%100) == 0:\n",
    "            if(n%400) == 0:\n",
    "                print('{0}Its a leap Year'.format(n))\n",
    "            else:\n",
    "                print('{0}Its not a leap Year'.format(n))\n",
    "        else:\n",
    "            print('{0} Its a leap year'.format(n))\n",
    "    else:\n",
    "        print('{0} Its not a leap year'.format(n))"
   ]
  },
  {
   "cell_type": "code",
   "execution_count": 12,
   "id": "c0a3a432",
   "metadata": {},
   "outputs": [
    {
     "name": "stdout",
     "output_type": "stream",
     "text": [
      "2001 Its not a leap year\n"
     ]
    }
   ],
   "source": [
    "checkLeapYear(2001)"
   ]
  },
  {
   "cell_type": "markdown",
   "id": "185274c8",
   "metadata": {},
   "source": [
    "4.\tWrite a Python Program to Check Prime Number?"
   ]
  },
  {
   "cell_type": "code",
   "execution_count": 20,
   "id": "2db63564",
   "metadata": {},
   "outputs": [],
   "source": [
    "def primeNumber(n):\n",
    "    if n > 1:\n",
    "        for i in range(2, int(n/2)+1):\n",
    "            if (n % i) == 0:\n",
    "                print(n, \"it is ot a Prime Number\")\n",
    "                break\n",
    "        else:\n",
    "            print(n, \"It is a prime number\")\n",
    "    else:\n",
    "        print(n, \"It is not a prime number\")"
   ]
  },
  {
   "cell_type": "code",
   "execution_count": 21,
   "id": "ea96c769",
   "metadata": {},
   "outputs": [
    {
     "name": "stdout",
     "output_type": "stream",
     "text": [
      "7 It is a prime number\n"
     ]
    }
   ],
   "source": [
    "primeNumber(7)"
   ]
  },
  {
   "cell_type": "markdown",
   "id": "26ee3cf5",
   "metadata": {},
   "source": [
    "(5.)\tWrite a Python Program to Print all Prime Numbers in an Interval of 1-10000?"
   ]
  },
  {
   "cell_type": "code",
   "execution_count": null,
   "id": "e9af19a8",
   "metadata": {},
   "outputs": [],
   "source": [
    "def checkPrimeInterval():\n",
    "    lb=1\n",
    "    ub=10000\n",
    "    for num in range(lb,ub+1):\n",
    "        if num >1:\n",
    "            for i in range(2,num):\n",
    "                if(num%i)==0:\n",
    "                    break\n",
    "            else:\n",
    "                print(num)\n",
    "    "
   ]
  },
  {
   "cell_type": "code",
   "execution_count": null,
   "id": "787c197e",
   "metadata": {},
   "outputs": [],
   "source": [
    "checkPrimeInterval()"
   ]
  },
  {
   "cell_type": "code",
   "execution_count": null,
   "id": "574a67c3",
   "metadata": {},
   "outputs": [],
   "source": []
  }
 ],
 "metadata": {
  "kernelspec": {
   "display_name": "Python 3 (ipykernel)",
   "language": "python",
   "name": "python3"
  },
  "language_info": {
   "codemirror_mode": {
    "name": "ipython",
    "version": 3
   },
   "file_extension": ".py",
   "mimetype": "text/x-python",
   "name": "python",
   "nbconvert_exporter": "python",
   "pygments_lexer": "ipython3",
   "version": "3.9.7"
  }
 },
 "nbformat": 4,
 "nbformat_minor": 5
}
