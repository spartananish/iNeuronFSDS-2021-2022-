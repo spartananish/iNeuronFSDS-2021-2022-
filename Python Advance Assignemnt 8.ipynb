{
 "cells": [
  {
   "cell_type": "markdown",
   "id": "026298d1",
   "metadata": {},
   "source": [
    "Q1. What are the two latest user-defined exception constraints in Python 3.X?"
   ]
  },
  {
   "cell_type": "markdown",
   "id": "e51e61b2",
   "metadata": {},
   "source": [
    "Answer - User defined exception is cannot be off any type it is basically the exception defined by user as per custome code requirment."
   ]
  },
  {
   "cell_type": "markdown",
   "id": "0d2c913d",
   "metadata": {},
   "source": [
    "Q2. How are class-based exceptions that have been raised matched to handlers?"
   ]
  },
  {
   "cell_type": "markdown",
   "id": "8df8f8aa",
   "metadata": {},
   "source": [
    "Answer - These exceptions are defined by exception classes, from which an exception object can be created when an exception is raised if a handler uses the addition into in catch. A class-based exception can either cancel the current context or allow for a resume. Exceptions are raised using the statement raise exception and handled using catch in a try control structure. Class-based exceptions can be raised in any procedures and can be further propagated by any procedures."
   ]
  },
  {
   "cell_type": "markdown",
   "id": "b6867a8f",
   "metadata": {},
   "source": [
    "\n",
    "Q3. Describe two methods for attaching context information to exception artefacts.\n",
    "\n"
   ]
  },
  {
   "cell_type": "markdown",
   "id": "045d56ac",
   "metadata": {},
   "source": [
    "Answer - Two methods to to check exception artefacts  are (a) with_ traceback (b) __cause__"
   ]
  },
  {
   "cell_type": "markdown",
   "id": "00525d3f",
   "metadata": {},
   "source": [
    "Q4. Describe two methods for specifying the text of an exception object's error message?"
   ]
  },
  {
   "cell_type": "markdown",
   "id": "98bbd026",
   "metadata": {},
   "source": [
    "Answer - Two methods to to check exception artefacts are (a) with_ traceback (b) cause"
   ]
  },
  {
   "cell_type": "markdown",
   "id": "fde15a58",
   "metadata": {},
   "source": [
    "\n",
    "Q5. Why do you no longer use string-based exceptions?\n"
   ]
  },
  {
   "cell_type": "markdown",
   "id": "3f9c0930",
   "metadata": {},
   "source": [
    "Answer :- String based exception dosent stop the program where as its very rare and again defining it created extra overhead."
   ]
  },
  {
   "cell_type": "code",
   "execution_count": null,
   "id": "43267635",
   "metadata": {},
   "outputs": [],
   "source": []
  }
 ],
 "metadata": {
  "kernelspec": {
   "display_name": "Python 3 (ipykernel)",
   "language": "python",
   "name": "python3"
  },
  "language_info": {
   "codemirror_mode": {
    "name": "ipython",
    "version": 3
   },
   "file_extension": ".py",
   "mimetype": "text/x-python",
   "name": "python",
   "nbconvert_exporter": "python",
   "pygments_lexer": "ipython3",
   "version": "3.9.7"
  }
 },
 "nbformat": 4,
 "nbformat_minor": 5
}
