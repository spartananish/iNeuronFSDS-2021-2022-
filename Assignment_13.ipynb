{
 "cells": [
  {
   "cell_type": "markdown",
   "id": "6a28e106",
   "metadata": {},
   "source": [
    "1. What advantages do Excel spreadsheets have over CSV spreadsheets?"
   ]
  },
  {
   "cell_type": "markdown",
   "id": "1f576c61",
   "metadata": {},
   "source": [
    "Answer - Excel is more superior when compared with the CSV file format; thus, CSV consumes less amount of file size when the user is importing data; it is a much faster format compared to excel. CSV does not manipulate data and stores it as-is. Excel also allows the user the add-in feature"
   ]
  },
  {
   "cell_type": "markdown",
   "id": "cc3ece93",
   "metadata": {},
   "source": [
    "2.What do you pass to csv.reader() and csv.writer() to create reader and writer objects?"
   ]
  },
  {
   "cell_type": "markdown",
   "id": "d4a8aa28",
   "metadata": {},
   "source": [
    "Answer - We pass the object of the file which we have open or on wich file operation needs to be performed.mfro examle\n",
    "    open(filename, 'r') as csvfile:\n",
    "    # creating a csv reader object\n",
    "    csvreader = csv.reader(csvfile)\n",
    "      "
   ]
  },
  {
   "cell_type": "markdown",
   "id": "937eeeab",
   "metadata": {},
   "source": [
    "3. What modes do File objects for reader and writer objects need to be opened in?"
   ]
  },
  {
   "cell_type": "markdown",
   "id": "81a24b6d",
   "metadata": {},
   "source": [
    "Answer- The reader and writerr can be opened in the following modes :- \n",
    "    ‘r’\tOpen a file for reading. (default)\n",
    "    ‘w’\tOpen a file for writing. Creates a new file if it does not exist or truncates the file if it exists.\n",
    "    ‘x’\tOpen a file for exclusive creation. If the file already exists, the operation fails.\n",
    "    ‘a’\tOpen for appending at the end of the file without truncating it. Creates a new file if it does not exist.\n",
    "    ‘t’\tOpen in text mode. (default)\n",
    "    ‘b’\tOpen in binary mode.\n",
    "    ‘+’\tOpen a file for updating (reading and writing)"
   ]
  },
  {
   "cell_type": "raw",
   "id": "a9967780",
   "metadata": {},
   "source": [
    "4. What method takes a list argument and writes it to a CSV file?"
   ]
  },
  {
   "cell_type": "markdown",
   "id": "3b569e4a",
   "metadata": {},
   "source": [
    "Answer -The csv. writer writerow method takes an iterable as an argument. The result set has to be a list (rows) of lists (columns)"
   ]
  },
  {
   "cell_type": "markdown",
   "id": "d6885549",
   "metadata": {},
   "source": [
    "5. What do the keyword arguments delimiter and line terminator do?"
   ]
  },
  {
   "cell_type": "markdown",
   "id": "302a3c7a",
   "metadata": {},
   "source": [
    "The line terminator is the character that comes at the end of a row. By default, the line terminator is a newline. You can change characters to different values by using the delimiter and lineterminator keyword arguments with csv. writer() "
   ]
  },
  {
   "cell_type": "markdown",
   "id": "64d75649",
   "metadata": {},
   "source": [
    "6. What function takes a string of JSON data and returns a Python data structure?"
   ]
  },
  {
   "cell_type": "markdown",
   "id": "78a31607",
   "metadata": {},
   "source": [
    "Answer - dump() method return Python data structure of JSON string or data."
   ]
  },
  {
   "cell_type": "markdown",
   "id": "ffb14543",
   "metadata": {},
   "source": [
    "7. What function takes a Python data structure and returns a string of JSON data?"
   ]
  },
  {
   "cell_type": "markdown",
   "id": "e095587a",
   "metadata": {},
   "source": [
    "Answer - loads() method return Python data structure of JSON string or data."
   ]
  },
  {
   "cell_type": "code",
   "execution_count": null,
   "id": "1229864d",
   "metadata": {},
   "outputs": [],
   "source": []
  }
 ],
 "metadata": {
  "kernelspec": {
   "display_name": "Python 3 (ipykernel)",
   "language": "python",
   "name": "python3"
  },
  "language_info": {
   "codemirror_mode": {
    "name": "ipython",
    "version": 3
   },
   "file_extension": ".py",
   "mimetype": "text/x-python",
   "name": "python",
   "nbconvert_exporter": "python",
   "pygments_lexer": "ipython3",
   "version": "3.9.7"
  }
 },
 "nbformat": 4,
 "nbformat_minor": 5
}
