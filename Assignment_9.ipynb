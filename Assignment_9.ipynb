{
 "cells": [
  {
   "cell_type": "markdown",
   "id": "0feb7e2f",
   "metadata": {},
   "source": [
    "1. To what does a relative path refer?"
   ]
  },
  {
   "cell_type": "markdown",
   "id": "7768b987",
   "metadata": {},
   "source": [
    "Answer-A relative path refers to a location that is relative to a current directory."
   ]
  },
  {
   "cell_type": "markdown",
   "id": "d21c0237",
   "metadata": {},
   "source": [
    "2.What does an absolute path start with your operating system?"
   ]
  },
  {
   "cell_type": "markdown",
   "id": "c1bfc36e",
   "metadata": {},
   "source": [
    "Answer-Absolute path is a complete path from start of actual file system from / directory."
   ]
  },
  {
   "cell_type": "markdown",
   "id": "d2604463",
   "metadata": {},
   "source": [
    "3.What do the functions os.getcwd() and os.chdir() do?"
   ]
  },
  {
   "cell_type": "markdown",
   "id": "9c2a0f1d",
   "metadata": {},
   "source": [
    "Answer- os.getcwd() -- it gives current working dictionary, os.chdir() -- It is used in order to change the directory."
   ]
  },
  {
   "cell_type": "markdown",
   "id": "5a06ca42",
   "metadata": {},
   "source": [
    "4.What are the . and .. folders?"
   ]
  },
  {
   "cell_type": "markdown",
   "id": "6d8fc439",
   "metadata": {},
   "source": [
    "Answer - .. It is used in order to go back one folder, .  will keep us in the same folder."
   ]
  },
  {
   "cell_type": "markdown",
   "id": "977232a2",
   "metadata": {},
   "source": [
    "5.In C:\\bacon\\eggs\\spam.txt, which part is the dir name, and which part is the base name?"
   ]
  },
  {
   "cell_type": "markdown",
   "id": "b4ef6581",
   "metadata": {},
   "source": [
    "Answer-Till  here we have C:\\bacon\\eggs\\ different directory spam.txt is the file name which er are trying to access."
   ]
  },
  {
   "cell_type": "markdown",
   "id": "0d065741",
   "metadata": {},
   "source": [
    "6.What are the three “mode” arguments that can be passed to the open() function?"
   ]
  },
  {
   "cell_type": "markdown",
   "id": "6a9a162e",
   "metadata": {},
   "source": [
    "Answer-Different modes are as follows :- r,w,r+,w+,wb,wb+,a,ab,ab+"
   ]
  },
  {
   "cell_type": "markdown",
   "id": "d9c2c539",
   "metadata": {},
   "source": [
    "7.What happens if an existing file is opened in write mode?"
   ]
  },
  {
   "cell_type": "markdown",
   "id": "e3e415ca",
   "metadata": {},
   "source": [
    "Answer-The pointer is placed at the beginning of the file and this will overwrite any existing file with the same name."
   ]
  },
  {
   "cell_type": "markdown",
   "id": "7a89fcf8",
   "metadata": {},
   "source": [
    "8.How do you tell the difference between read() and readlines()?"
   ]
  },
  {
   "cell_type": "markdown",
   "id": "c5a109ac",
   "metadata": {},
   "source": [
    "Answer-read() -- it read all the file content, readlines() -- It read just one line in a file."
   ]
  },
  {
   "cell_type": "markdown",
   "id": "1d877072",
   "metadata": {},
   "source": [
    "9.What data structure does a shelf value resemble?"
   ]
  },
  {
   "cell_type": "markdown",
   "id": "af5f297a",
   "metadata": {},
   "source": [
    "Answer-- A shelf value resembles a dictionary value; it has keys and values, along with keys() and values() methods that work similarly to the dictionary methods of the same names"
   ]
  },
  {
   "cell_type": "code",
   "execution_count": null,
   "id": "1ad8a467",
   "metadata": {},
   "outputs": [],
   "source": []
  }
 ],
 "metadata": {
  "kernelspec": {
   "display_name": "Python 3 (ipykernel)",
   "language": "python",
   "name": "python3"
  },
  "language_info": {
   "codemirror_mode": {
    "name": "ipython",
    "version": 3
   },
   "file_extension": ".py",
   "mimetype": "text/x-python",
   "name": "python",
   "nbconvert_exporter": "python",
   "pygments_lexer": "ipython3",
   "version": "3.9.7"
  }
 },
 "nbformat": 4,
 "nbformat_minor": 5
}
