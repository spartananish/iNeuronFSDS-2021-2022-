{
 "cells": [
  {
   "cell_type": "markdown",
   "id": "32d8a237",
   "metadata": {},
   "source": [
    "1. What does RGBA stand for?"
   ]
  },
  {
   "cell_type": "markdown",
   "id": "9a1d828a",
   "metadata": {},
   "source": [
    "Answer - It stands for Red-Green-Blue-Alpha."
   ]
  },
  {
   "cell_type": "markdown",
   "id": "66120527",
   "metadata": {},
   "source": [
    "2. From the Pillow module, how do you get the RGBA value of any images?"
   ]
  },
  {
   "cell_type": "markdown",
   "id": "1966e7b2",
   "metadata": {},
   "source": [
    "Answer - Following steps need tobe followed :-\n",
    "    pip install Pillow\n",
    "    from PIL import Image\n",
    "    img = Image.open(‘image.png’)\n",
    "    rgba = img.convert(“RGBA”)\n",
    "    datas = rgba.getdata()"
   ]
  },
  {
   "cell_type": "markdown",
   "id": "1655e4b0",
   "metadata": {},
   "source": [
    "3. What is a box tuple, and how does it work?"
   ]
  },
  {
   "cell_type": "markdown",
   "id": "3ff80f33",
   "metadata": {},
   "source": [
    "Answer-The box.tuple submodule provides read-only access for the tuple userdata type. It allows, for a single tuple: selective retrieval of the field contents, retrieval of information about size, iteration over all the fields, and conversion.\n",
    "       We can use it in the following way:-\n",
    "            tuple = box.tuple.new({scalar1, scalar2, ... scalar_n}) \n",
    "            lua_table = {tuple:unpack()}                            \n",
    "            lua_table = tuple:totable()                            \n",
    "            scalar1, scalar2, ... scalar_n = tuple:unpack()        \n",
    "            tuple = box.tuple.new(lua_table)  "
   ]
  },
  {
   "cell_type": "markdown",
   "id": "b7dc1b1c",
   "metadata": {},
   "source": [
    "4. Use your image and load in notebook then, How can you find out the width and height of an Image object?"
   ]
  },
  {
   "cell_type": "markdown",
   "id": "ebee5334",
   "metadata": {},
   "source": [
    "Answer :- We could use the Image class of IPython.display to load and , we can vary the width and height to adjust the image size."
   ]
  },
  {
   "cell_type": "markdown",
   "id": "49686ca3",
   "metadata": {},
   "source": [
    "5. What method would you call to get Image object for a 100×100 image, excluding the lower-left quarter of it?"
   ]
  },
  {
   "cell_type": "markdown",
   "id": "0f48fd44",
   "metadata": {},
   "source": [
    "Answer:- We can do that in the following way:-\n",
    "        from PIL import Image\n",
    "        im = Image.open('data/src/astronaut_rect.bmp')\n",
    "        im_crop = im.crop((60, 20, 200, 200))\n",
    "        im_crop.save('data/dst/astronaut_pillow_crop.jpg', quality=95)"
   ]
  },
  {
   "cell_type": "markdown",
   "id": "c4e9eaaa",
   "metadata": {},
   "source": [
    "6. After making changes to an Image object, how could you save it as an image file?"
   ]
  },
  {
   "cell_type": "markdown",
   "id": "8965d437",
   "metadata": {},
   "source": [
    "Answer-We can do it on the following way :\n",
    "    from PIL import Image \n",
    "    import PIL \n",
    "    im1 = Image.open(r\"C:\\Users\\System-Pc\\Desktop\\flower1.jpg\") \n",
    "    im1 = im1.save(\"geeks.jpg\")\n",
    "  "
   ]
  },
  {
   "cell_type": "markdown",
   "id": "b7d9c1b7",
   "metadata": {},
   "source": [
    "7. What module contains Pillow’s shape-drawing code?"
   ]
  },
  {
   "cell_type": "markdown",
   "id": "8c848ef0",
   "metadata": {},
   "source": [
    "Answer - Pillow provides a drawing module called ImageDraw that you can use to create simple 2D graphics on your Image objects."
   ]
  },
  {
   "cell_type": "markdown",
   "id": "93e92149",
   "metadata": {},
   "source": [
    "8. Image objects do not have drawing methods. What kind of object does? How do you get this kind of object?"
   ]
  },
  {
   "cell_type": "markdown",
   "id": "95d8a868",
   "metadata": {},
   "source": [
    "Answer- We cas us turtle graphisc in orde to get drwaing methods."
   ]
  },
  {
   "cell_type": "code",
   "execution_count": null,
   "id": "bd1b465b",
   "metadata": {},
   "outputs": [],
   "source": []
  }
 ],
 "metadata": {
  "kernelspec": {
   "display_name": "Python 3 (ipykernel)",
   "language": "python",
   "name": "python3"
  },
  "language_info": {
   "codemirror_mode": {
    "name": "ipython",
    "version": 3
   },
   "file_extension": ".py",
   "mimetype": "text/x-python",
   "name": "python",
   "nbconvert_exporter": "python",
   "pygments_lexer": "ipython3",
   "version": "3.9.7"
  }
 },
 "nbformat": 4,
 "nbformat_minor": 5
}
