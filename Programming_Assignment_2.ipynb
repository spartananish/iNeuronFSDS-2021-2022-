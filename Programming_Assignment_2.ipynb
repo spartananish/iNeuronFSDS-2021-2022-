{
 "cells": [
  {
   "cell_type": "markdown",
   "id": "8a55e5ef",
   "metadata": {},
   "source": [
    "(1.)Write a Python program to convert kilometers to miles?"
   ]
  },
  {
   "cell_type": "code",
   "execution_count": 1,
   "id": "680bf6a7",
   "metadata": {},
   "outputs": [],
   "source": [
    "def milesKmConverter(km):\n",
    "    mile = 0.621371\n",
    "    return km*mile"
   ]
  },
  {
   "cell_type": "code",
   "execution_count": 2,
   "id": "11345101",
   "metadata": {},
   "outputs": [
    {
     "data": {
      "text/plain": [
       "2.1747985"
      ]
     },
     "execution_count": 2,
     "metadata": {},
     "output_type": "execute_result"
    }
   ],
   "source": [
    "milesKmConverter(3.5)"
   ]
  },
  {
   "cell_type": "markdown",
   "id": "b941ed43",
   "metadata": {},
   "source": [
    "(2.)Write a Python program to convert Celsius to Fahrenheit?"
   ]
  },
  {
   "cell_type": "code",
   "execution_count": 3,
   "id": "570daf7a",
   "metadata": {},
   "outputs": [],
   "source": [
    "def fahrenheit(cel):\n",
    "    return (cel * 1.8) + 32\n",
    "    "
   ]
  },
  {
   "cell_type": "code",
   "execution_count": 4,
   "id": "bff66c13",
   "metadata": {},
   "outputs": [
    {
     "data": {
      "text/plain": [
       "194.0"
      ]
     },
     "execution_count": 4,
     "metadata": {},
     "output_type": "execute_result"
    }
   ],
   "source": [
    "fahrenheit(90)"
   ]
  },
  {
   "cell_type": "markdown",
   "id": "1353144d",
   "metadata": {},
   "source": [
    "(3) Write a Python program to display calendar?"
   ]
  },
  {
   "cell_type": "code",
   "execution_count": 5,
   "id": "0988e1dc",
   "metadata": {},
   "outputs": [],
   "source": [
    "import calendar\n",
    "def calender(yy,mm):\n",
    "    print(calendar.month(yy,mm))\n",
    " # Note utilizing Calendar module   "
   ]
  },
  {
   "cell_type": "code",
   "execution_count": 7,
   "id": "01c80004",
   "metadata": {},
   "outputs": [
    {
     "name": "stdout",
     "output_type": "stream",
     "text": [
      "     March 2012\n",
      "Mo Tu We Th Fr Sa Su\n",
      "          1  2  3  4\n",
      " 5  6  7  8  9 10 11\n",
      "12 13 14 15 16 17 18\n",
      "19 20 21 22 23 24 25\n",
      "26 27 28 29 30 31\n",
      "\n"
     ]
    }
   ],
   "source": [
    "calender(2012,3)"
   ]
  },
  {
   "cell_type": "markdown",
   "id": "81b4e329",
   "metadata": {},
   "source": [
    "(4.)Write a Python program to solve quadratic equation?"
   ]
  },
  {
   "cell_type": "code",
   "execution_count": 8,
   "id": "0166dc5f",
   "metadata": {},
   "outputs": [],
   "source": [
    "import cmath\n",
    "def quadraticEquation(a,b,c):\n",
    "    d = (b**2) - (4*a*c)\n",
    "    # Two solution for quadratic equation\n",
    "    ans1 = (-b-cmath.sqrt(d))/(2*a)\n",
    "    ans2 = (-b+cmath.sqrt(d))/(2*a)\n",
    "    print('The solution are{0},{1}'.format(ans1,ans2))\n",
    "    \n",
    "    "
   ]
  },
  {
   "cell_type": "code",
   "execution_count": 9,
   "id": "62f333cd",
   "metadata": {},
   "outputs": [
    {
     "name": "stdout",
     "output_type": "stream",
     "text": [
      "The solution are(-1-0.7071067811865476j),(-1+0.7071067811865476j)\n"
     ]
    }
   ],
   "source": [
    "quadraticEquation(2,4,3)"
   ]
  },
  {
   "cell_type": "markdown",
   "id": "2b6e424c",
   "metadata": {},
   "source": [
    "(5.)Write a Python program to swap two variables without temp variable?"
   ]
  },
  {
   "cell_type": "code",
   "execution_count": 10,
   "id": "120c7bd6",
   "metadata": {},
   "outputs": [],
   "source": [
    "def swapWithoutTemp(a,b):\n",
    "    print('Before Swap',a,b)\n",
    "    a=a+b\n",
    "    b=a-b\n",
    "    a=a-b\n",
    "    print('after swap',a,b)"
   ]
  },
  {
   "cell_type": "code",
   "execution_count": 11,
   "id": "10072106",
   "metadata": {},
   "outputs": [
    {
     "name": "stdout",
     "output_type": "stream",
     "text": [
      "Before Swap 2 8\n",
      "after swap 8 2\n"
     ]
    }
   ],
   "source": [
    "swapWithoutTemp(2,8)"
   ]
  },
  {
   "cell_type": "code",
   "execution_count": null,
   "id": "13e089fd",
   "metadata": {},
   "outputs": [],
   "source": []
  }
 ],
 "metadata": {
  "kernelspec": {
   "display_name": "Python 3 (ipykernel)",
   "language": "python",
   "name": "python3"
  },
  "language_info": {
   "codemirror_mode": {
    "name": "ipython",
    "version": 3
   },
   "file_extension": ".py",
   "mimetype": "text/x-python",
   "name": "python",
   "nbconvert_exporter": "python",
   "pygments_lexer": "ipython3",
   "version": "3.9.7"
  }
 },
 "nbformat": 4,
 "nbformat_minor": 5
}
