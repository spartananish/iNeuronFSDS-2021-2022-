{
 "cells": [
  {
   "cell_type": "markdown",
   "id": "db68dc79",
   "metadata": {},
   "source": [
    "1. How do you distinguish between shutil.copy() and shutil.copytree()?"
   ]
  },
  {
   "cell_type": "markdown",
   "id": "b821d5a1",
   "metadata": {},
   "source": [
    "Answer--shutil.copy() will copy a single file where as shutil.copytree() will copy entire folder."
   ]
  },
  {
   "cell_type": "markdown",
   "id": "01024636",
   "metadata": {},
   "source": [
    "2. What function is used to rename files?"
   ]
  },
  {
   "cell_type": "markdown",
   "id": "7d400e36",
   "metadata": {},
   "source": [
    "Answer-os.rename() method can be used."
   ]
  },
  {
   "cell_type": "markdown",
   "id": "6eb193cc",
   "metadata": {},
   "source": [
    "3.What is the difference between the delete functions in the send2trash and shutil modules?"
   ]
  },
  {
   "cell_type": "markdown",
   "id": "e41f47d7",
   "metadata": {},
   "source": [
    "Answer-send2trash() will delete but after delete file will go to recycle bin where as delete() will permanently delete the file."
   ]
  },
  {
   "cell_type": "markdown",
   "id": "d4b9d276",
   "metadata": {},
   "source": [
    "4.ZipFile objects have a close() method just like File objects’ close() method. What ZipFile method is equivalent to File objects’ open() method?"
   ]
  },
  {
   "cell_type": "markdown",
   "id": "6331bd59",
   "metadata": {},
   "source": [
    "Answer.We can use extract or extractAll() method"
   ]
  },
  {
   "cell_type": "markdown",
   "id": "1d2da2f2",
   "metadata": {},
   "source": [
    "5.Create a programme that searches a folder tree for files with a certain file extension (such as .pdf or .jpg). Copy these files from whatever location they are in to a new folder."
   ]
  },
  {
   "cell_type": "code",
   "execution_count": 1,
   "id": "4cb25311",
   "metadata": {},
   "outputs": [],
   "source": [
    "import os,shutil\n",
    "def changeLocation(folder,filetype,destination):\n",
    "    for foldername,filenames in os.walk():\n",
    "        for filename in filenames:\n",
    "            if fileName.endsWith(filetype):\n",
    "                shutil.copy(os.path.join(foldername,filename),destination)\n",
    "            \n",
    "        \n",
    "    "
   ]
  },
  {
   "cell_type": "code",
   "execution_count": null,
   "id": "08c58024",
   "metadata": {},
   "outputs": [],
   "source": []
  },
  {
   "cell_type": "code",
   "execution_count": null,
   "id": "dc5f1576",
   "metadata": {},
   "outputs": [],
   "source": []
  }
 ],
 "metadata": {
  "kernelspec": {
   "display_name": "Python 3 (ipykernel)",
   "language": "python",
   "name": "python3"
  },
  "language_info": {
   "codemirror_mode": {
    "name": "ipython",
    "version": 3
   },
   "file_extension": ".py",
   "mimetype": "text/x-python",
   "name": "python",
   "nbconvert_exporter": "python",
   "pygments_lexer": "ipython3",
   "version": "3.9.7"
  }
 },
 "nbformat": 4,
 "nbformat_minor": 5
}
