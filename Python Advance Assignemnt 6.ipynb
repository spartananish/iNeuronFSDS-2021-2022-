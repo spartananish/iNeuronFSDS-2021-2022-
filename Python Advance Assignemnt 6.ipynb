{
 "cells": [
  {
   "cell_type": "markdown",
   "id": "2c451fa4",
   "metadata": {},
   "source": [
    "Q1. Describe three applications for exception processing."
   ]
  },
  {
   "cell_type": "markdown",
   "id": "870c4301",
   "metadata": {},
   "source": [
    "Answer - The three methods are as Follws :-\n",
    "    (1)try -- > Block of code which might throw Exception\n",
    "    (2)Except --> It catches the exception \n",
    "    (3)Finally --> Block of code which will always be exceuated even after exception is thrown."
   ]
  },
  {
   "cell_type": "markdown",
   "id": "f9119b4e",
   "metadata": {},
   "source": [
    "Q2. What happens if you don't do something extra to treat an exception?"
   ]
  },
  {
   "cell_type": "markdown",
   "id": "99ee3845",
   "metadata": {},
   "source": [
    "Answer - If dont use exception handling, then in that scenario if exception will be thrown then application will stop compleately and no further processing will be done."
   ]
  },
  {
   "cell_type": "markdown",
   "id": "dbd89b26",
   "metadata": {},
   "source": [
    "\n",
    "Q3. What are your options for recovering from an exception in your script?\n"
   ]
  },
  {
   "cell_type": "markdown",
   "id": "7a085e3e",
   "metadata": {},
   "source": [
    "Answer - We can put our code in try and except Block something like below in order to recover from the exception :\n",
    "    try:\n",
    "     ## piece of code\n",
    "    except Exception e:\n",
    "        print(e.with_traceback)"
   ]
  },
  {
   "cell_type": "markdown",
   "id": "f081fd03",
   "metadata": {},
   "source": [
    "Q4. Describe two methods for triggering exceptions in your script."
   ]
  },
  {
   "cell_type": "code",
   "execution_count": 2,
   "id": "7f116ab3",
   "metadata": {},
   "outputs": [],
   "source": [
    "# Answer of Q4\n",
    "# Without Exception Handling\n",
    "#Example 1\n",
    "def ans():\n",
    "    a = int(input())\n",
    "    ans = a/0\n",
    "    print(a)\n",
    "# Example 2\n",
    "def ans1():\n",
    "    a= 5+\"dfda\"\n",
    "    "
   ]
  },
  {
   "cell_type": "code",
   "execution_count": null,
   "id": "9c691675",
   "metadata": {},
   "outputs": [],
   "source": [
    "ans()\n",
    "ans1()"
   ]
  },
  {
   "cell_type": "code",
   "execution_count": 5,
   "id": "236976fc",
   "metadata": {},
   "outputs": [],
   "source": [
    "# With Exception Handling\n",
    "#Example 1\n",
    "def ans():\n",
    "    try:\n",
    "        a = int(input())\n",
    "        ans = a/0\n",
    "        print(a)\n",
    "    except Exception as e:\n",
    "        print(e.with_traceback)\n",
    "#Example 2\n",
    "def ans1():\n",
    "    try:\n",
    "        a= 5+\"dfda\"\n",
    "    except Exception as e:\n",
    "        print(e.with_traceback)\n",
    "    "
   ]
  },
  {
   "cell_type": "markdown",
   "id": "1edb4aef",
   "metadata": {},
   "source": [
    "Q5. Identify two methods for specifying actions to be executed at termination time, regardless of whether or not an exception exists."
   ]
  },
  {
   "cell_type": "markdown",
   "id": "4d4b2b86",
   "metadata": {},
   "source": [
    "#Question not clear\n",
    "Answer:- One example can be finally block."
   ]
  },
  {
   "cell_type": "code",
   "execution_count": null,
   "id": "ff82d121",
   "metadata": {},
   "outputs": [],
   "source": []
  },
  {
   "cell_type": "code",
   "execution_count": null,
   "id": "810871b0",
   "metadata": {},
   "outputs": [],
   "source": []
  }
 ],
 "metadata": {
  "kernelspec": {
   "display_name": "Python 3 (ipykernel)",
   "language": "python",
   "name": "python3"
  },
  "language_info": {
   "codemirror_mode": {
    "name": "ipython",
    "version": 3
   },
   "file_extension": ".py",
   "mimetype": "text/x-python",
   "name": "python",
   "nbconvert_exporter": "python",
   "pygments_lexer": "ipython3",
   "version": "3.9.7"
  }
 },
 "nbformat": 4,
 "nbformat_minor": 5
}
