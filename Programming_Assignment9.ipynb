{
 "cells": [
  {
   "cell_type": "markdown",
   "id": "f11268b6",
   "metadata": {},
   "source": [
    "1.\tWrite a Python program to check if the given number is a Disarium Number?"
   ]
  },
  {
   "cell_type": "code",
   "execution_count": 11,
   "id": "3afebcf4",
   "metadata": {},
   "outputs": [],
   "source": [
    "def numberLength(num):\n",
    "    count = 0\n",
    "    while(num>0):\n",
    "        count = count+1;\n",
    "        num = num//10\n",
    "    return count\n",
    "    \n",
    "def disarium(num):\n",
    "    count = numberLength(num)\n",
    "    #print(count)\n",
    "    temp = num\n",
    "    sum =0\n",
    "    while(temp!=0):\n",
    "        rem = temp%10\n",
    "        sum = sum + int(rem**count)\n",
    "        temp = temp //10\n",
    "        count = count-1\n",
    "    if sum == num:\n",
    "        print('Its a Disarium Number')\n",
    "    else:\n",
    "        print('Its not a Disarium Number')\n",
    "       \n",
    "    \n",
    "    "
   ]
  },
  {
   "cell_type": "code",
   "execution_count": 12,
   "id": "f14dc133",
   "metadata": {},
   "outputs": [
    {
     "name": "stdout",
     "output_type": "stream",
     "text": [
      "Its not a Disarium Number\n"
     ]
    }
   ],
   "source": [
    "disarium(324)"
   ]
  },
  {
   "cell_type": "markdown",
   "id": "7458e346",
   "metadata": {},
   "source": [
    "2.\tWrite a Python program to print all disarium numbers between 1 to 100?"
   ]
  },
  {
   "cell_type": "code",
   "execution_count": 15,
   "id": "7d56aab7",
   "metadata": {},
   "outputs": [],
   "source": [
    "def numberLength(num):\n",
    "    count = 0\n",
    "    while(num>0):\n",
    "        count = count+1;\n",
    "        num = num//10\n",
    "    return count\n",
    "    \n",
    "def disarium(num):\n",
    "    count = numberLength(num)\n",
    "    #print(count)\n",
    "    disariumlist = []\n",
    "    i =0\n",
    "    temp = num\n",
    "    sum =0\n",
    "    while(temp>0):\n",
    "        rem = temp%10\n",
    "        sum = sum + int(rem**count)\n",
    "        temp = temp //10\n",
    "        count = count-1\n",
    "    if num == sum:\n",
    "        disariumlist.append(sum)\n",
    "    return disariumlist\n",
    "\n",
    "def num1to100():\n",
    "    for i in range(1, 100):\n",
    "        numberlist = disarium(i)\n",
    "    for i in numberlist:\n",
    "        print(i)"
   ]
  },
  {
   "cell_type": "code",
   "execution_count": 16,
   "id": "066aac4a",
   "metadata": {},
   "outputs": [],
   "source": [
    "num1to100()"
   ]
  },
  {
   "cell_type": "markdown",
   "id": "18289f8d",
   "metadata": {},
   "source": [
    "3.\tWrite a Python program to check if the given number is Happy Number?"
   ]
  },
  {
   "cell_type": "code",
   "execution_count": 12,
   "id": "b9b1d7b5",
   "metadata": {},
   "outputs": [],
   "source": [
    "def happynumber(num):\n",
    "    rem =0\n",
    "    sum =0\n",
    "    while(num>0):\n",
    "        rem = num%10\n",
    "        sum = sum + (rem*rem)\n",
    "        num = num//10;\n",
    "    return sum\n",
    "\n",
    "def checkresult(num):\n",
    "    result = num\n",
    "    while(result != 1 and result != 4):    \n",
    "        result = happynumber(result);  \n",
    "    if(result == 1):    \n",
    "        print(str(num) + \" is a happy number\");    \n",
    "    elif(result == 4):    \n",
    "        print(str(num) + \" is not a happy number\");   \n",
    "        "
   ]
  },
  {
   "cell_type": "code",
   "execution_count": 14,
   "id": "18a4ad2a",
   "metadata": {},
   "outputs": [
    {
     "name": "stdout",
     "output_type": "stream",
     "text": [
      "45 is not a happy number\n"
     ]
    }
   ],
   "source": [
    "checkresult(45)"
   ]
  },
  {
   "cell_type": "markdown",
   "id": "3be9a91a",
   "metadata": {},
   "source": [
    "4.\tWrite a Python program to print all happy numbers between 1 and 100?"
   ]
  },
  {
   "cell_type": "code",
   "execution_count": 17,
   "id": "b8243f3b",
   "metadata": {},
   "outputs": [],
   "source": [
    "def happynumber(num):\n",
    "    rem =0\n",
    "    sum =0\n",
    "    while(num>0):\n",
    "        rem = num%10\n",
    "        sum = sum + (rem*rem)\n",
    "        num = num//10\n",
    "    return sum\n",
    "\n",
    "def checkresult(num):\n",
    "    result = num\n",
    "    while(result != 1 and result != 4):    \n",
    "        result = happynumber(result);  \n",
    "    if(result == 1):    \n",
    "        print(str(num) + \" is a happy number\");    \n",
    "    elif(result == 4):    \n",
    "        print(str(num) + \" is not a happy number\");  \n",
    "    \n",
    "def rangeNumber():\n",
    "    for i in range(1, 100):\n",
    "        checkresult(i)\n",
    "    \n",
    "        "
   ]
  },
  {
   "cell_type": "code",
   "execution_count": 18,
   "id": "7f641129",
   "metadata": {},
   "outputs": [
    {
     "name": "stdout",
     "output_type": "stream",
     "text": [
      "1 is a happy number\n",
      "2 is not a happy number\n",
      "3 is not a happy number\n",
      "4 is not a happy number\n",
      "5 is not a happy number\n",
      "6 is not a happy number\n",
      "7 is a happy number\n",
      "8 is not a happy number\n",
      "9 is not a happy number\n",
      "10 is a happy number\n",
      "11 is not a happy number\n",
      "12 is not a happy number\n",
      "13 is a happy number\n",
      "14 is not a happy number\n",
      "15 is not a happy number\n",
      "16 is not a happy number\n",
      "17 is not a happy number\n",
      "18 is not a happy number\n",
      "19 is a happy number\n",
      "20 is not a happy number\n",
      "21 is not a happy number\n",
      "22 is not a happy number\n",
      "23 is a happy number\n",
      "24 is not a happy number\n",
      "25 is not a happy number\n",
      "26 is not a happy number\n",
      "27 is not a happy number\n",
      "28 is a happy number\n",
      "29 is not a happy number\n",
      "30 is not a happy number\n",
      "31 is a happy number\n",
      "32 is a happy number\n",
      "33 is not a happy number\n",
      "34 is not a happy number\n",
      "35 is not a happy number\n",
      "36 is not a happy number\n",
      "37 is not a happy number\n",
      "38 is not a happy number\n",
      "39 is not a happy number\n",
      "40 is not a happy number\n",
      "41 is not a happy number\n",
      "42 is not a happy number\n",
      "43 is not a happy number\n",
      "44 is a happy number\n",
      "45 is not a happy number\n",
      "46 is not a happy number\n",
      "47 is not a happy number\n",
      "48 is not a happy number\n",
      "49 is a happy number\n",
      "50 is not a happy number\n",
      "51 is not a happy number\n",
      "52 is not a happy number\n",
      "53 is not a happy number\n",
      "54 is not a happy number\n",
      "55 is not a happy number\n",
      "56 is not a happy number\n",
      "57 is not a happy number\n",
      "58 is not a happy number\n",
      "59 is not a happy number\n",
      "60 is not a happy number\n",
      "61 is not a happy number\n",
      "62 is not a happy number\n",
      "63 is not a happy number\n",
      "64 is not a happy number\n",
      "65 is not a happy number\n",
      "66 is not a happy number\n",
      "67 is not a happy number\n",
      "68 is a happy number\n",
      "69 is not a happy number\n",
      "70 is a happy number\n",
      "71 is not a happy number\n",
      "72 is not a happy number\n",
      "73 is not a happy number\n",
      "74 is not a happy number\n",
      "75 is not a happy number\n",
      "76 is not a happy number\n",
      "77 is not a happy number\n",
      "78 is not a happy number\n",
      "79 is a happy number\n",
      "80 is not a happy number\n",
      "81 is not a happy number\n",
      "82 is a happy number\n",
      "83 is not a happy number\n",
      "84 is not a happy number\n",
      "85 is not a happy number\n",
      "86 is a happy number\n",
      "87 is not a happy number\n",
      "88 is not a happy number\n",
      "89 is not a happy number\n",
      "90 is not a happy number\n",
      "91 is a happy number\n",
      "92 is not a happy number\n",
      "93 is not a happy number\n",
      "94 is a happy number\n",
      "95 is not a happy number\n",
      "96 is not a happy number\n",
      "97 is a happy number\n",
      "98 is not a happy number\n",
      "99 is not a happy number\n"
     ]
    }
   ],
   "source": [
    "rangeNumber()"
   ]
  },
  {
   "cell_type": "markdown",
   "id": "d879f8a1",
   "metadata": {},
   "source": [
    "5.\tWrite a Python program to determine whether the given number is a Harshad Number?"
   ]
  },
  {
   "cell_type": "code",
   "execution_count": 21,
   "id": "1439d3a5",
   "metadata": {},
   "outputs": [],
   "source": [
    "def summ(num):\n",
    "    rem =0\n",
    "    sum =0\n",
    "    while(num>0):\n",
    "        rem = num%10\n",
    "        sum = sum + rem\n",
    "        num = num//10\n",
    "    return sum\n",
    "    \n",
    "def harshadNumber(num):\n",
    "    sum = summ(num)\n",
    "    if(num%sum == 0):\n",
    "        print(\"Its a harshad Number\")\n",
    "    else:\n",
    "        print(\"Its not a harshad Number\")\n",
    "    \n",
    "    "
   ]
  },
  {
   "cell_type": "code",
   "execution_count": 22,
   "id": "90a65abd",
   "metadata": {},
   "outputs": [
    {
     "name": "stdout",
     "output_type": "stream",
     "text": [
      "Its not a harshad Number\n"
     ]
    }
   ],
   "source": [
    "harshadNumber(34)"
   ]
  },
  {
   "cell_type": "markdown",
   "id": "b984ff69",
   "metadata": {},
   "source": [
    "6.\tWrite a Python program to print all pronic numbers between 1 and 100?"
   ]
  },
  {
   "cell_type": "code",
   "execution_count": 25,
   "id": "340dc01a",
   "metadata": {},
   "outputs": [
    {
     "name": "stdout",
     "output_type": "stream",
     "text": [
      "Pronic numbers between 1 and 100: \n",
      "2\n",
      " \n",
      "6\n",
      " \n",
      "12\n",
      " \n",
      "20\n",
      " \n",
      "30\n",
      " \n",
      "42\n",
      " \n",
      "56\n",
      " \n",
      "72\n",
      " \n",
      "90\n",
      " \n"
     ]
    }
   ],
   "source": [
    "def isPronicNumber(num):    \n",
    "    flag = False;    \n",
    "        \n",
    "    for j in range(1, num+1):       \n",
    "        if((j*(j+1)) == num):    \n",
    "            flag = True;    \n",
    "            break;    \n",
    "    return flag;    \n",
    "     \n",
    " \n",
    "print(\"Pronic numbers between 1 and 100: \");    \n",
    "for i in range(1, 101):    \n",
    "    if(isPronicNumber(i)):    \n",
    "        print(i),    \n",
    "        print(\" \"), "
   ]
  },
  {
   "cell_type": "code",
   "execution_count": null,
   "id": "2613ad30",
   "metadata": {},
   "outputs": [],
   "source": []
  }
 ],
 "metadata": {
  "kernelspec": {
   "display_name": "Python 3 (ipykernel)",
   "language": "python",
   "name": "python3"
  },
  "language_info": {
   "codemirror_mode": {
    "name": "ipython",
    "version": 3
   },
   "file_extension": ".py",
   "mimetype": "text/x-python",
   "name": "python",
   "nbconvert_exporter": "python",
   "pygments_lexer": "ipython3",
   "version": "3.9.7"
  }
 },
 "nbformat": 4,
 "nbformat_minor": 5
}
