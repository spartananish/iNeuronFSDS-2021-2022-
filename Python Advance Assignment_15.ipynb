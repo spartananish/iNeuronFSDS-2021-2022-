{
 "cells": [
  {
   "cell_type": "markdown",
   "id": "a3140f5d",
   "metadata": {},
   "source": [
    "1.\tWhat are the new features added in Python 3.8 version?"
   ]
  },
  {
   "cell_type": "markdown",
   "id": "61f3318b",
   "metadata": {},
   "source": [
    "Answer-The New Feature are as follows :-\n",
    "    1. The walrus operator\n",
    "    2. Positional-only arguments\n",
    "    3. f-strings now support \"=\"\n",
    "    4. reversed() now works with dict\n",
    "    5. Simplified iterable unpacking for return and yield\n",
    "    6. New syntax warnings    \n",
    "    7. Performance improvements"
   ]
  },
  {
   "cell_type": "markdown",
   "id": "f3675539",
   "metadata": {},
   "source": [
    "2.\tWhat is monkey patching in Python?"
   ]
  },
  {
   "cell_type": "markdown",
   "id": "55cd12d4",
   "metadata": {},
   "source": [
    "Answer - In Python, the term monkey patch only refers to dynamic modifications of a class or module at runtime, which means monkey patch is a piece of Python code that extends or modifies other code at runtime. ... It is often used to replace or extends a method on the module or class level with a custom implementation."
   ]
  },
  {
   "cell_type": "markdown",
   "id": "91699d1e",
   "metadata": {},
   "source": [
    "3.\tWhat is the difference between a shallow copy and deep copy?"
   ]
  },
  {
   "cell_type": "markdown",
   "id": "5b62b55d",
   "metadata": {},
   "source": [
    "Answer- Shallow Copy stores the references of objects to the original memory address. Deep copy stores copies of the object's value. ... Deep copy doesn't reflect changes made to the new/copied object in the original object. Shallow Copy stores the copy of the original object and points the references to the objects."
   ]
  },
  {
   "cell_type": "markdown",
   "id": "102952d8",
   "metadata": {},
   "source": [
    "4.\tWhat is the maximum possible length of an identifier?"
   ]
  },
  {
   "cell_type": "markdown",
   "id": "adcbb343",
   "metadata": {},
   "source": [
    "Answer- In Python, the highest possible length of an identifier is 79 characters."
   ]
  },
  {
   "cell_type": "markdown",
   "id": "cb73fc26",
   "metadata": {},
   "source": [
    "5.\tWhat is generator comprehension?"
   ]
  },
  {
   "cell_type": "markdown",
   "id": "af4fd95c",
   "metadata": {},
   "source": [
    "Answer- A generator comprehension is a single-line specification for defining a generator in Python. It is absolutely essential to learn this syntax in order to write simple and readable code"
   ]
  },
  {
   "cell_type": "code",
   "execution_count": null,
   "id": "eab5b6f7",
   "metadata": {},
   "outputs": [],
   "source": []
  }
 ],
 "metadata": {
  "kernelspec": {
   "display_name": "Python 3 (ipykernel)",
   "language": "python",
   "name": "python3"
  },
  "language_info": {
   "codemirror_mode": {
    "name": "ipython",
    "version": 3
   },
   "file_extension": ".py",
   "mimetype": "text/x-python",
   "name": "python",
   "nbconvert_exporter": "python",
   "pygments_lexer": "ipython3",
   "version": "3.9.7"
  }
 },
 "nbformat": 4,
 "nbformat_minor": 5
}
