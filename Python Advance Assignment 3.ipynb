{
 "cells": [
  {
   "cell_type": "markdown",
   "id": "78aa1cb2",
   "metadata": {},
   "source": [
    "1. What is the concept of an abstract superclass?"
   ]
  },
  {
   "cell_type": "markdown",
   "id": "01e5b291",
   "metadata": {},
   "source": [
    "Answer - A class is called an Abstract class if it contains one or more abstract methods. An abstract method is a method that is declared, but contains no implementation. Abstract classes may not be instantiated, and its abstract methods must be implemented by its subclasses."
   ]
  },
  {
   "cell_type": "markdown",
   "id": "9411622b",
   "metadata": {},
   "source": [
    "\n",
    "2. What happens when a class statement's top level contains a basic assignment statement?\n"
   ]
  },
  {
   "cell_type": "markdown",
   "id": "a03c796e",
   "metadata": {},
   "source": [
    "Answer-It will evalute the expression."
   ]
  },
  {
   "cell_type": "markdown",
   "id": "90469817",
   "metadata": {},
   "source": [
    "\n",
    "3. Why does a class need to manually call a superclass's __init__ method?\n"
   ]
  },
  {
   "cell_type": "markdown",
   "id": "27449a6f",
   "metadata": {},
   "source": [
    "Answer-It is done in order the intilize superclass variable."
   ]
  },
  {
   "cell_type": "markdown",
   "id": "e5b10123",
   "metadata": {},
   "source": [
    "4.How can you augment, instead of completely replacing, an inherited method?"
   ]
  },
  {
   "cell_type": "markdown",
   "id": "30dc8bb2",
   "metadata": {},
   "source": [
    "Answer- We can use method overriding in this scenario."
   ]
  },
  {
   "cell_type": "markdown",
   "id": "e6fcc0c5",
   "metadata": {},
   "source": [
    "5. How is the local scope of a class different from that of a function?"
   ]
  },
  {
   "cell_type": "markdown",
   "id": "de7e19b4",
   "metadata": {},
   "source": [
    "Answer- Declaring a variable in a class all memeber of class can acees it where as in method it can only be utilize locally.The variable in the method will be going to be local for that method itself and can not be used by any other."
   ]
  },
  {
   "cell_type": "code",
   "execution_count": null,
   "id": "8a8975b6",
   "metadata": {},
   "outputs": [],
   "source": []
  }
 ],
 "metadata": {
  "kernelspec": {
   "display_name": "Python 3 (ipykernel)",
   "language": "python",
   "name": "python3"
  },
  "language_info": {
   "codemirror_mode": {
    "name": "ipython",
    "version": 3
   },
   "file_extension": ".py",
   "mimetype": "text/x-python",
   "name": "python",
   "nbconvert_exporter": "python",
   "pygments_lexer": "ipython3",
   "version": "3.9.7"
  }
 },
 "nbformat": 4,
 "nbformat_minor": 5
}
