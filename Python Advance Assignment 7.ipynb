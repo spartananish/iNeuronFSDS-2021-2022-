{
 "cells": [
  {
   "cell_type": "markdown",
   "id": "ede81392",
   "metadata": {},
   "source": [
    "Q1. What is the purpose of the try statement?"
   ]
  },
  {
   "cell_type": "markdown",
   "id": "5929ba9e",
   "metadata": {},
   "source": [
    "Answer- The purpose of try statement is to define a block of code to be tested for errors while it is being executed. "
   ]
  },
  {
   "cell_type": "markdown",
   "id": "b5ea5575",
   "metadata": {},
   "source": [
    "Q2. What are the two most popular try statement variations?"
   ]
  },
  {
   "cell_type": "markdown",
   "id": "8baa3977",
   "metadata": {},
   "source": [
    "Answer- The two most popular try statement variation are as follows:-\n",
    "    Type(1)- try:\n",
    "        # Do some work\n",
    "            except Exception as e:\n",
    "        # print error\n",
    "    Type(2) - try:\n",
    "         # Do some work\n",
    "               finally :\n",
    "         # Do some code which \n",
    "                    \n",
    "              \n",
    "         "
   ]
  },
  {
   "cell_type": "markdown",
   "id": "c24c20e7",
   "metadata": {},
   "source": [
    "Q3. What is the purpose of the raise statement?\n",
    "  "
   ]
  },
  {
   "cell_type": "markdown",
   "id": "fb28c389",
   "metadata": {},
   "source": [
    "Answer - The raise keyword is used to raise an exception. You can define what kind of error to raise, and the text to print to the user.\n",
    "Example :- def ans():\n",
    "                a =-1\n",
    "                if a<0:\n",
    "                   raise Exception(\"exception\")"
   ]
  },
  {
   "cell_type": "markdown",
   "id": "eccae33b",
   "metadata": {},
   "source": [
    "\n",
    "Q4. What does the assert statement do, and what other statement is it like?\n"
   ]
  },
  {
   "cell_type": "markdown",
   "id": "29bc3a1e",
   "metadata": {},
   "source": [
    "Answer - assert statement takes an expression and optional message. assert statement is used to check types, values of argument and the output of the function. assert statement is used as debugging tool as it halts the program at the point where an error occurs.\n"
   ]
  },
  {
   "cell_type": "markdown",
   "id": "af03782e",
   "metadata": {},
   "source": [
    "Q5. What is the purpose of the with/as argument, and what other statement is it like?"
   ]
  },
  {
   "cell_type": "markdown",
   "id": "f4095444",
   "metadata": {},
   "source": [
    "Answer - With statement in Python is used in exception handling to make the code cleaner and much more readable. It simplifies the management of common resources like file streams. Observe the following code example on how the use of with statement makes code cleaner"
   ]
  },
  {
   "cell_type": "code",
   "execution_count": null,
   "id": "fc512d52",
   "metadata": {},
   "outputs": [],
   "source": []
  }
 ],
 "metadata": {
  "kernelspec": {
   "display_name": "Python 3 (ipykernel)",
   "language": "python",
   "name": "python3"
  },
  "language_info": {
   "codemirror_mode": {
    "name": "ipython",
    "version": 3
   },
   "file_extension": ".py",
   "mimetype": "text/x-python",
   "name": "python",
   "nbconvert_exporter": "python",
   "pygments_lexer": "ipython3",
   "version": "3.9.7"
  }
 },
 "nbformat": 4,
 "nbformat_minor": 5
}
