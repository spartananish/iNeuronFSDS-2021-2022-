{
 "cells": [
  {
   "cell_type": "markdown",
   "id": "f1e0d496",
   "metadata": {},
   "source": [
    "Q-1. Write an SQL query to determine the 5th highest salary without using TOP or limit method."
   ]
  },
  {
   "cell_type": "markdown",
   "id": "5ec6432a",
   "metadata": {},
   "source": [
    "Answer ->SELECT * FROM (SELECT ROW_NUMBER() OVER (ORDER BY salary DESC) AS R_NUM, first_name, salary FROM employee) as HEllO WHERE R_NUM=5;"
   ]
  },
  {
   "cell_type": "markdown",
   "id": "a90a5f20",
   "metadata": {},
   "source": [
    "Q-2. Write an SQL query to fetch the list of employees with the same salary."
   ]
  },
  {
   "cell_type": "markdown",
   "id": "a40bc137",
   "metadata": {},
   "source": [
    "Answe->CREATE TABLE employee (\n",
    "    emp_id INT PRIMARY KEY AUTO_INCREMENT NOT NULL,\n",
    "    first_name VARCHAR(50),\n",
    "    last_name VARCHAR(50),\n",
    "    salary INT\n",
    ");\n",
    "\n",
    "INSERT INTO employee VALUES\n",
    "(1,'Luke','Skywalker',100),\n",
    "(2,'Anakin','Skywalker',200),\n",
    "(3,'Liea','Skywalker',50),\n",
    "(4,'Rey','Skywalker',150),\n",
    "(5,'Han','Solo',100),\n",
    "(6,'Darth','Vader',150);\n",
    "\n",
    "SELECT * FROM employee ORDER BY salary ASC;"
   ]
  },
  {
   "cell_type": "code",
   "execution_count": null,
   "id": "d3d8eeef",
   "metadata": {},
   "outputs": [],
   "source": []
  }
 ],
 "metadata": {
  "kernelspec": {
   "display_name": "Python 3 (ipykernel)",
   "language": "python",
   "name": "python3"
  },
  "language_info": {
   "codemirror_mode": {
    "name": "ipython",
    "version": 3
   },
   "file_extension": ".py",
   "mimetype": "text/x-python",
   "name": "python",
   "nbconvert_exporter": "python",
   "pygments_lexer": "ipython3",
   "version": "3.9.7"
  }
 },
 "nbformat": 4,
 "nbformat_minor": 5
}
