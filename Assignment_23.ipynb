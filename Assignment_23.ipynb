{
 "cells": [
  {
   "cell_type": "markdown",
   "id": "f29cbd97",
   "metadata": {},
   "source": [
    "1. What is the result of the code, and why?\n",
    ">>> def func(a, b=6, c=8):\n",
    "print(a, b, c)\n",
    ">>>func(1, 2)\n"
   ]
  },
  {
   "cell_type": "code",
   "execution_count": 1,
   "id": "e35b2495",
   "metadata": {},
   "outputs": [
    {
     "name": "stdout",
     "output_type": "stream",
     "text": [
      "1 2 8\n"
     ]
    }
   ],
   "source": [
    "def func(a,b=6,c=8):\n",
    "    print(a,b,c)\n",
    "func(1,2)"
   ]
  },
  {
   "cell_type": "markdown",
   "id": "0a4a04b4",
   "metadata": {},
   "source": [
    "The Value printed as 1,2,8 as value we passed from method called will override the value initlized.Also value passed is intilized in serial order."
   ]
  },
  {
   "cell_type": "markdown",
   "id": "4aac7483",
   "metadata": {},
   "source": [
    "2. What is the result of this code, and why?\n",
    ">>> def func(a, b, c=5):\n",
    "print(a, b, c)\n",
    ">>> func(1, c=3, b=2)\n"
   ]
  },
  {
   "cell_type": "code",
   "execution_count": 2,
   "id": "b39f88d9",
   "metadata": {},
   "outputs": [
    {
     "name": "stdout",
     "output_type": "stream",
     "text": [
      "1 2 3\n"
     ]
    }
   ],
   "source": [
    "def func(a,b,c=5):\n",
    "    print(a,b,c)\n",
    "func(1,c=3,b=2)"
   ]
  },
  {
   "cell_type": "markdown",
   "id": "27846cd3",
   "metadata": {},
   "source": [
    "As value is passed with intilizing variable explicitly in function call thats why t will print 1,2,3"
   ]
  },
  {
   "cell_type": "markdown",
   "id": "b99ce264",
   "metadata": {},
   "source": [
    "3. How about this code: what is its result, and why?\n",
    ">>> def func(a, *pargs):\n",
    "print(a, pargs)\n",
    ">>> func(1, 2, 3\n"
   ]
  },
  {
   "cell_type": "code",
   "execution_count": 3,
   "id": "a8934bb7",
   "metadata": {},
   "outputs": [
    {
     "name": "stdout",
     "output_type": "stream",
     "text": [
      "1 (2, 3)\n"
     ]
    }
   ],
   "source": [
    "def func(a, *pargs):\n",
    "    print(a,pargs)\n",
    "func(1,2,3)"
   ]
  },
  {
   "cell_type": "markdown",
   "id": "08e50053",
   "metadata": {},
   "source": [
    " Result of the code is 1 (2,3). *pargs stands for variable length arguments. this format is used when we are not sure about the number of arguments to be passed to a function. all the values under this argument will be stored in a tuple."
   ]
  },
  {
   "cell_type": "markdown",
   "id": "8b8a1786",
   "metadata": {},
   "source": [
    "4. What does this code print, and why?\n",
    ">>> def func(a, **kargs):\n",
    "print(a, kargs)\n",
    ">>> func(a=1, c=3, b=2)\n"
   ]
  },
  {
   "cell_type": "code",
   "execution_count": 4,
   "id": "96a5d1d1",
   "metadata": {},
   "outputs": [
    {
     "name": "stdout",
     "output_type": "stream",
     "text": [
      "1 {'c': 3, 'b': 2}\n"
     ]
    }
   ],
   "source": [
    "def func(a,**kargs):\n",
    "    print(a,kargs)\n",
    "func(a=1,c=3,b=2)"
   ]
  },
  {
   "cell_type": "markdown",
   "id": "3a4e06d5",
   "metadata": {},
   "source": [
    "The result of the above code is 1 {'c': 3, 'b': 2}. **args stands for variable length keyword arguments. this format is used when we want pass key value pairs as input to a function. All these key value pairs will be stored in a dictionary"
   ]
  },
  {
   "cell_type": "markdown",
   "id": "b1d472ee",
   "metadata": {},
   "source": [
    "5. What gets printed by this, and explain?\n",
    ">>> def func(a, b, c=8, d=5): print(a, b, c, d)\n",
    ">>> func(1, *(5, 6))\n"
   ]
  },
  {
   "cell_type": "markdown",
   "id": "ba6ec196",
   "metadata": {},
   "source": [
    "The output of the above is 1 5 6 5. This reason for this function not throwing an error is because, this function expects 4 arguments. the value for a is provided explicitly whereas for arguments b and c, the function will expand the *(5,6) and consider the value of b as 5 and value of c as 6. since the default value of d is provided in function declaration d value will be 5. However it is recommended to use the feature of positional arguments at the end."
   ]
  },
  {
   "cell_type": "markdown",
   "id": "49a63b7c",
   "metadata": {},
   "source": [
    "6. what is the result of this, and explain?\n",
    ">>> def func(a, b, c): a = 2; b[0] = 'x'; c['a'] = 'y'\n",
    ">>> l=1; m=[1]; n={'a':0}\n",
    ">>> func(l, m, n)\n",
    ">>> l, m, n\n"
   ]
  },
  {
   "cell_type": "code",
   "execution_count": 1,
   "id": "c8f4f649",
   "metadata": {},
   "outputs": [
    {
     "data": {
      "text/plain": [
       "(1, ['x'], {'a': 'y'})"
      ]
     },
     "execution_count": 1,
     "metadata": {},
     "output_type": "execute_result"
    }
   ],
   "source": [
    "def func(a, b, c): a = 2; b[0] = 'x'; c['a'] = 'y'\n",
    "l=1; m=[1]; n={'a':0}\n",
    "func(l, m, n)\n",
    "l,m,n"
   ]
  },
  {
   "cell_type": "markdown",
   "id": "261734cc",
   "metadata": {},
   "source": [
    "Eventhough Python gives importance to indentation. its provides a facility to declare an entire function in one single line. where statements in a function body are sepereated by ; When l,m,n are provided as inputs to the function. its modifies the values of l,m,n and sets the value of l=2 ,m=['x'] and n={'a':'y'}"
   ]
  },
  {
   "cell_type": "code",
   "execution_count": null,
   "id": "38a53442",
   "metadata": {},
   "outputs": [],
   "source": []
  }
 ],
 "metadata": {
  "kernelspec": {
   "display_name": "Python 3 (ipykernel)",
   "language": "python",
   "name": "python3"
  },
  "language_info": {
   "codemirror_mode": {
    "name": "ipython",
    "version": 3
   },
   "file_extension": ".py",
   "mimetype": "text/x-python",
   "name": "python",
   "nbconvert_exporter": "python",
   "pygments_lexer": "ipython3",
   "version": "3.9.7"
  }
 },
 "nbformat": 4,
 "nbformat_minor": 5
}
