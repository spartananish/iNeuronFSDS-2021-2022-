{
 "cells": [
  {
   "cell_type": "markdown",
   "id": "276f74ef",
   "metadata": {},
   "source": [
    "Q1. In Python 3.X, what are the names and functions of string object types?"
   ]
  },
  {
   "cell_type": "markdown",
   "id": "671af343",
   "metadata": {},
   "source": [
    "Answer - The following are built in function:-\n",
    "    (a)capitalize(),(b)casefold(),(c)center(),(d)count(),(e)find(),(f)isupper(),(g)lower(),(h)upper() etc there are so many included in the list"
   ]
  },
  {
   "cell_type": "markdown",
   "id": "efc98039",
   "metadata": {},
   "source": [
    "Q2. How do the string forms in Python 3.X vary in terms of operations?"
   ]
  },
  {
   "cell_type": "markdown",
   "id": "135f5143",
   "metadata": {},
   "source": [
    "Answer - (a) Python string is syntax is easy to understand\n",
    "         (b) Python 3 by default stores it as unicode \n",
    "         (c) Python 3 value of variable never change.\n",
    "         (d) Python 3 offers Range() function to perform iterations \n",
    "         (e)Python 3 exceptions should be enclosed in parenthesis."
   ]
  },
  {
   "cell_type": "markdown",
   "id": "b9647a99",
   "metadata": {},
   "source": [
    "Q3. In 3.X, how do you put non-ASCII Unicode characters in a string?\n"
   ]
  },
  {
   "cell_type": "markdown",
   "id": "670177f1",
   "metadata": {},
   "source": [
    "Answer- Python use unidecode library in order to translate non -ASCII.It provides an unidecode() method that takes Unicode data and tries to represent it in ASCII.  This method automatically determines scripting language and transliterates it accordingly. It accepts unicode string values and returns a transliteration in string format."
   ]
  },
  {
   "cell_type": "markdown",
   "id": "a7332025",
   "metadata": {},
   "source": [
    "Q4. In Python 3.X, what are the key differences between text-mode and binary-mode files?"
   ]
  },
  {
   "cell_type": "markdown",
   "id": "03395e81",
   "metadata": {},
   "source": [
    "Answer -Teaxt File  (1) Text files are special subset of binary files that are used to store human readable characters as a rich text document or plain text document. Text files also store data in sequential bytes but bits in text file represents characters.\n",
    "         (2)Text files are less prone to get corrupted as any undesired change may just show up once the file is opened and then can easily be removed.\n",
    "          Binary File (1)Binary file are those typical files that store data in the form of sequence of bytes grouped into eight bits or sometimes sixteen bits.\n",
    "           (2)These bits represent custom data and such files can store multiple types of data (images, audio, text, etc) under a single file.\n",
    "          \n",
    "          \n",
    "         "
   ]
  },
  {
   "cell_type": "markdown",
   "id": "d02c52cb",
   "metadata": {},
   "source": [
    "Q6. What is the best way to make a Unicode text file in a particular encoding format?"
   ]
  },
  {
   "cell_type": "markdown",
   "id": "e9b4e465",
   "metadata": {},
   "source": [
    "Answer - UTF-8 is the most common unicode character encoding.Writing unicode to a text file adds a line or multiple lines of unicode text to the file.\n",
    "Below is the example to do this :-\n",
    "    unicode_text = u'ʑʒʓʔʕʗʘʙʚʛʜʝʞ'\n",
    "encoded_unicode = unicode_text.encode(\"utf8\")\n",
    "\n",
    "a_file = open(\"textfile.txt\", \"wb\")\n",
    "a_file.write(encoded_unicode)\n",
    "\n",
    "a_file = open(\"textfile.txt\", \"r\")\n",
    "r reads contents of a file\n",
    "\n",
    "contents = a_file.read()\n",
    "\n",
    "print(contents"
   ]
  },
  {
   "cell_type": "markdown",
   "id": "380f427b",
   "metadata": {},
   "source": [
    "Q7. What qualifies ASCII text as a form of Unicode text"
   ]
  },
  {
   "cell_type": "markdown",
   "id": "e43a989d",
   "metadata": {},
   "source": [
    "Answer -The first 128 Unicode code points represent the ASCII characters, which means that any ASCII text is also a UTF-8 text. UCS-2 uses two bytes (16 bits) for each character but can only encode the first 65,536 code points, the so-called Basic Multilingual Plane (BMP)."
   ]
  },
  {
   "cell_type": "markdown",
   "id": "087b9a00",
   "metadata": {},
   "source": [
    "\n",
    "Q8. How much of an effect does the change in string types in Python 3.X have on your code?\n"
   ]
  },
  {
   "cell_type": "markdown",
   "id": "b848d0db",
   "metadata": {},
   "source": [
    "Question not Clearr"
   ]
  },
  {
   "cell_type": "code",
   "execution_count": null,
   "id": "c1caffd6",
   "metadata": {},
   "outputs": [],
   "source": []
  }
 ],
 "metadata": {
  "kernelspec": {
   "display_name": "Python 3 (ipykernel)",
   "language": "python",
   "name": "python3"
  },
  "language_info": {
   "codemirror_mode": {
    "name": "ipython",
    "version": 3
   },
   "file_extension": ".py",
   "mimetype": "text/x-python",
   "name": "python",
   "nbconvert_exporter": "python",
   "pygments_lexer": "ipython3",
   "version": "3.9.7"
  }
 },
 "nbformat": 4,
 "nbformat_minor": 5
}
