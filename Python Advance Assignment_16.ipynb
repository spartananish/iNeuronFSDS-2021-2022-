{
 "cells": [
  {
   "cell_type": "markdown",
   "id": "ec0daa0d",
   "metadata": {},
   "source": [
    "Q1. What is the benefit of regular expressions"
   ]
  },
  {
   "cell_type": "markdown",
   "id": "fd985071",
   "metadata": {},
   "source": [
    "Answer-Regular expressions are useful in search and replace operations. The typical use case is to look for a sub-string that matches a pattern and replace it with something else. Most APIs using regular expressions allow you to reference capture groups from the search pattern in the replacement string"
   ]
  },
  {
   "cell_type": "markdown",
   "id": "938462a9",
   "metadata": {},
   "source": [
    "Q2. Describe the difference between the effects of \"(ab)c+\" and \"a(bc)+.\" Which of these, if any, is the unqualified pattern \"abc+\"?"
   ]
  },
  {
   "cell_type": "markdown",
   "id": "bcb7d999",
   "metadata": {},
   "source": [
    "Answer -(ab)c+ -- > here first ab will evaluate output of it will be multiplied to c the icrement(+) will happen\n",
    "        a(bc)+ --> here first all multiplication operation will happen then increment by 1 will happen to the final outputof multiplication."
   ]
  },
  {
   "cell_type": "markdown",
   "id": "0113ef18",
   "metadata": {},
   "source": [
    "\n",
    "Q3. How much do you need to use the following sentence while using regular expressions?\n",
    "\n",
    "\n",
    "\n",
    "import re\n"
   ]
  },
  {
   "cell_type": "markdown",
   "id": "334f700a",
   "metadata": {},
   "source": [
    "Answer - (import re) It is used in order to perform regex operation, it is used where ever search and replace operation is done."
   ]
  },
  {
   "cell_type": "markdown",
   "id": "dee1d00d",
   "metadata": {},
   "source": [
    "\n",
    "Q4. Which characters have special significance in square brackets when expressing a range, and under what circumstances?\n"
   ]
  },
  {
   "cell_type": "markdown",
   "id": "4ab5f726",
   "metadata": {},
   "source": [
    "Answer- SemiColumn have the special significance as it helps in perform operation like skip value reverse indexing etc."
   ]
  },
  {
   "cell_type": "markdown",
   "id": "7b0f9f46",
   "metadata": {},
   "source": [
    "Q5. How does compiling a regular-expression object benefit you?"
   ]
  },
  {
   "cell_type": "markdown",
   "id": "40437c37",
   "metadata": {},
   "source": [
    "Answer- We can combine a regular expression pattern into pattern objects, which can be used for pattern matching. It also helps to search a pattern again without rewriting it."
   ]
  },
  {
   "cell_type": "markdown",
   "id": "d2d1a21e",
   "metadata": {},
   "source": [
    "Q6. What are some examples of how to use the match object returned by re.match and re.search?"
   ]
  },
  {
   "cell_type": "markdown",
   "id": "5aaecb07",
   "metadata": {},
   "source": [
    "Answer - Exaple is as follows:-"
   ]
  },
  {
   "cell_type": "code",
   "execution_count": 2,
   "id": "9ff8444d",
   "metadata": {},
   "outputs": [
    {
     "name": "stdout",
     "output_type": "stream",
     "text": [
      "None\n",
      "None\n",
      "None\n",
      "None\n"
     ]
    }
   ],
   "source": [
    "import re\n",
    " \n",
    "Substring ='string'\n",
    "String1 ='''Its all about regex with FSDS.'''\n",
    "String2 ='''Its all about implementing regex with FSDS'''\n",
    "print(re.search(Substring, String1, re.IGNORECASE))\n",
    "print(re.match(Substring, String1, re.IGNORECASE))\n",
    "print(re.search(Substring, String2, re.IGNORECASE))\n",
    "print(re.match(Substring, String2, re.IGNORECASE))"
   ]
  },
  {
   "cell_type": "markdown",
   "id": "5697c61a",
   "metadata": {},
   "source": [
    "Q7. What is the difference between using a vertical bar (|) as an alteration and using square brackets as a character set?"
   ]
  },
  {
   "cell_type": "markdown",
   "id": "4980302a",
   "metadata": {},
   "source": [
    "Answer - The vertical bar is a regex \"or\" means \"a or b\". Square brackets are a character class meaning \"any character "
   ]
  },
  {
   "cell_type": "markdown",
   "id": "ca50295f",
   "metadata": {},
   "source": [
    "Q8. In regular-expression search patterns, why is it necessary to use the raw-string indicator (r)? In   replacement strings?"
   ]
  },
  {
   "cell_type": "markdown",
   "id": "450d520c",
   "metadata": {},
   "source": [
    "Answer :-The solution is to use Python’s raw string notation for regular expression patterns; backslashes are not handled in any special way in a string literal prefixed with 'r'. So r\"\\n\" is a two-character string containing '\\' and 'n', while \"\\n\" is a one-character string containing a newline. Usually patterns will be expressed in Python code using this raw string notation.\n",
    "\n"
   ]
  },
  {
   "cell_type": "code",
   "execution_count": null,
   "id": "b936591e",
   "metadata": {},
   "outputs": [],
   "source": []
  }
 ],
 "metadata": {
  "kernelspec": {
   "display_name": "Python 3 (ipykernel)",
   "language": "python",
   "name": "python3"
  },
  "language_info": {
   "codemirror_mode": {
    "name": "ipython",
    "version": 3
   },
   "file_extension": ".py",
   "mimetype": "text/x-python",
   "name": "python",
   "nbconvert_exporter": "python",
   "pygments_lexer": "ipython3",
   "version": "3.9.7"
  }
 },
 "nbformat": 4,
 "nbformat_minor": 5
}
