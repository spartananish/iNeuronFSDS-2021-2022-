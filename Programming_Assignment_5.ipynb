{
 "cells": [
  {
   "cell_type": "markdown",
   "id": "bd3345ab",
   "metadata": {},
   "source": [
    "(1)\tWrite a Python Program to Find LCM?"
   ]
  },
  {
   "cell_type": "code",
   "execution_count": 3,
   "id": "08914729",
   "metadata": {},
   "outputs": [],
   "source": [
    "def compute_lcm(x,y):\n",
    "    if x>y:\n",
    "        gr = x\n",
    "    else:\n",
    "        gr=y\n",
    "    while(True):\n",
    "        if((gr % x == 0) and (gr % y == 0)):\n",
    "            lcm=gr\n",
    "            break\n",
    "        gr+=y\n",
    "    return lcm"
   ]
  },
  {
   "cell_type": "code",
   "execution_count": 4,
   "id": "e502a9be",
   "metadata": {},
   "outputs": [
    {
     "data": {
      "text/plain": [
       "12"
      ]
     },
     "execution_count": 4,
     "metadata": {},
     "output_type": "execute_result"
    }
   ],
   "source": [
    "compute_lcm(3,4)"
   ]
  },
  {
   "cell_type": "markdown",
   "id": "77a88ccc",
   "metadata": {},
   "source": [
    "(2) Write a Python Program to Find HCF?"
   ]
  },
  {
   "cell_type": "code",
   "execution_count": 9,
   "id": "268abc2d",
   "metadata": {},
   "outputs": [],
   "source": [
    "def compute_HCF(x,y):\n",
    "    if x>y:\n",
    "        sm=y\n",
    "    else:\n",
    "        sm=x\n",
    "    for i in range(1,sm+1):\n",
    "        if((x % i == 0) and (y % i == 0)): \n",
    "            hcf =i\n",
    "    return hcf"
   ]
  },
  {
   "cell_type": "code",
   "execution_count": 10,
   "id": "c4c9f5d1",
   "metadata": {},
   "outputs": [
    {
     "data": {
      "text/plain": [
       "2"
      ]
     },
     "execution_count": 10,
     "metadata": {},
     "output_type": "execute_result"
    }
   ],
   "source": [
    "compute_HCF(2,4)"
   ]
  },
  {
   "cell_type": "markdown",
   "id": "c96e5816",
   "metadata": {},
   "source": [
    "3.\tWrite a Python Program to Convert Decimal to Binary, Octal and Hexadecimal?"
   ]
  },
  {
   "cell_type": "code",
   "execution_count": 12,
   "id": "0d0d8cee",
   "metadata": {},
   "outputs": [
    {
     "name": "stdout",
     "output_type": "stream",
     "text": [
      "0b101011000\n",
      "0o530\n",
      "0x158\n"
     ]
    }
   ],
   "source": [
    "dec = 344\n",
    "print(bin(dec))\n",
    "print(oct(dec))\n",
    "print(hex(dec))"
   ]
  },
  {
   "cell_type": "markdown",
   "id": "17148caf",
   "metadata": {},
   "source": [
    "4.\tWrite a Python Program To Find ASCII value of a character?"
   ]
  },
  {
   "cell_type": "code",
   "execution_count": 18,
   "id": "de9c766b",
   "metadata": {},
   "outputs": [],
   "source": [
    "def printASCCI(ch):\n",
    "    print(ord(ch))"
   ]
  },
  {
   "cell_type": "code",
   "execution_count": 20,
   "id": "d0af1f9d",
   "metadata": {},
   "outputs": [
    {
     "name": "stdout",
     "output_type": "stream",
     "text": [
      "97\n"
     ]
    }
   ],
   "source": [
    "printASCCI('a')\n"
   ]
  },
  {
   "cell_type": "markdown",
   "id": "74a0d54c",
   "metadata": {},
   "source": [
    "5.\tWrite a Python Program to Make a Simple Calculator with 4 basic mathematical operations?"
   ]
  },
  {
   "cell_type": "code",
   "execution_count": 24,
   "id": "b72afa5b",
   "metadata": {},
   "outputs": [],
   "source": [
    "def simpleCal(str):\n",
    "    a=int(input())\n",
    "    b=int(input())\n",
    "    if(str == '+'):\n",
    "        print(a+b)\n",
    "    elif(str == '-'):\n",
    "        print(a-b)\n",
    "    elif(str =='*'):\n",
    "        print(a*b)\n",
    "    elif(str == '/'):\n",
    "        print(a/b)\n",
    "    \n",
    "   "
   ]
  },
  {
   "cell_type": "code",
   "execution_count": 25,
   "id": "b8571007",
   "metadata": {},
   "outputs": [
    {
     "name": "stdout",
     "output_type": "stream",
     "text": [
      "2\n",
      "3\n",
      "5\n"
     ]
    }
   ],
   "source": [
    "simpleCal('+')"
   ]
  },
  {
   "cell_type": "code",
   "execution_count": null,
   "id": "b124aa8f",
   "metadata": {},
   "outputs": [],
   "source": []
  }
 ],
 "metadata": {
  "kernelspec": {
   "display_name": "Python 3 (ipykernel)",
   "language": "python",
   "name": "python3"
  },
  "language_info": {
   "codemirror_mode": {
    "name": "ipython",
    "version": 3
   },
   "file_extension": ".py",
   "mimetype": "text/x-python",
   "name": "python",
   "nbconvert_exporter": "python",
   "pygments_lexer": "ipython3",
   "version": "3.9.7"
  }
 },
 "nbformat": 4,
 "nbformat_minor": 5
}
