{
 "cells": [
  {
   "cell_type": "markdown",
   "id": "fb5d0ad6",
   "metadata": {},
   "source": [
    "1. Write a function that takes a positive integer num and calculates how many dots exist in a pentagonal shape around the center dot on the Nth iteration.\n",
    "\n",
    "In the image below you can see the first iteration is only a single dot. On the second, there are 6 dots. On the third, there are 16 dots, and on the fourth there are 31 dots.\n",
    "\n",
    "\n",
    "\n",
    "\n",
    "\n",
    "\n",
    "\n",
    "\n",
    "Return the number of dots that exist in the whole pentagon on the Nth iteration.\n",
    "\n",
    "Examples\n",
    "\n",
    "pentagonal(1) ➞ 1\n",
    "\n",
    "pentagonal(2) ➞ 6\n",
    "\n",
    "pentagonal(3) ➞ 16\n",
    "\n",
    "pentagonal(8) ➞ 141\n"
   ]
  },
  {
   "cell_type": "code",
   "execution_count": 4,
   "id": "7c6e0f48",
   "metadata": {},
   "outputs": [
    {
     "name": "stdout",
     "output_type": "stream",
     "text": [
      "pentagonal(1) ➞ 1\n",
      "pentagonal(8) ➞ 141\n"
     ]
    }
   ],
   "source": [
    "def pentagon(dots):\n",
    "    output =1\n",
    "    if dots >=1:\n",
    "        for i in range(dots):\n",
    "            output= output+ (5*i)\n",
    "        print(f'pentagonal({dots}) ➞ {output}')\n",
    "    else:\n",
    "        print(\"Enter a Positive Number as Input\")\n",
    "        \n",
    "pentagon(1) \n",
    "pentagon(8) "
   ]
  },
  {
   "cell_type": "markdown",
   "id": "5374103a",
   "metadata": {},
   "source": [
    "2.  Make a function that encrypts a given input with these steps:\n",
    "\n",
    "Input: \"apple\"\n",
    "\n",
    "Step 1: Reverse the input: \"elppa\"\n",
    "\n",
    "Step 2: Replace all vowels using the following chart:\n",
    "\n",
    "a => 0\n",
    "e => 1\n",
    "i => 2\n",
    "o => 2\n",
    "u => 3\n",
    "\n",
    "# \"1lpp0\"\n",
    "\n",
    "Step 3: Add \"aca\" to the end of the word: \"1lpp0aca\"\n",
    "\n",
    "Output: \"1lpp0aca\"\n",
    "\n",
    "Examples\n",
    "\n",
    "encrypt(\"banana\") ➞ \"0n0n0baca\"\n",
    "\n",
    "encrypt(\"karaca\") ➞ \"0c0r0kaca\"\n",
    "\n",
    "encrypt(\"burak\") ➞ \"k0r3baca\"\n",
    "\n",
    "encrypt(\"alpaca\") ➞ \"0c0pl0aca\"\n"
   ]
  },
  {
   "cell_type": "code",
   "execution_count": 15,
   "id": "c758f054",
   "metadata": {},
   "outputs": [
    {
     "name": "stdout",
     "output_type": "stream",
     "text": [
      "encrypt(aeiou) ➞ 22210aca\n"
     ]
    }
   ],
   "source": [
    "def encrypation(in_string):\n",
    "    vowels = {'a':'0','e':'1','i':'2','o':'2','u':'2'}\n",
    "    out_string = ''\n",
    "    for ele in in_string[::-1]:\n",
    "        if ele in vowels.keys():\n",
    "            out_string += vowels[ele]\n",
    "        else:\n",
    "            out_string += ele\n",
    "    out_string += \"aca\"\n",
    "    print(f'encrypt({in_string}) ➞ {out_string}')\n",
    "\n",
    "encrypation(\"aeiou\")\n",
    "    \n"
   ]
  },
  {
   "cell_type": "markdown",
   "id": "b01fba95",
   "metadata": {},
   "source": [
    "3. Given the month and year as numbers, return whether that month contains a Friday 13th.(i.e You can check Python's datetime module)\n",
    "\n",
    "Examples\n",
    "\n",
    "has_friday_13(3, 2020) ➞ True\n",
    "\n",
    "has_friday_13(10, 2017) ➞ True\n",
    "\n",
    "has_friday_13(1, 1985) ➞ False\n"
   ]
  },
  {
   "cell_type": "code",
   "execution_count": 21,
   "id": "da1af6b2",
   "metadata": {},
   "outputs": [
    {
     "name": "stdout",
     "output_type": "stream",
     "text": [
      "has_friday_13(3, 2012) ➞ False\n"
     ]
    }
   ],
   "source": [
    "import datetime\n",
    "def has_firiday_13(month,year):\n",
    "    output= False\n",
    "    if datetime.datetime(year,month,13).strftime('%A') == 'Friday':\n",
    "        output= True\n",
    "    print(f'has_friday_13{month,year} ➞ {output}')\n",
    "\n",
    "has_firiday_13(3, 2012)    "
   ]
  },
  {
   "cell_type": "markdown",
   "id": "624f7f98",
   "metadata": {},
   "source": [
    "\n",
    "4. Write a regular expression that will help us count how many bad cookies are produced every day. You must use RegEx negative lookbehind.\n",
    "\n",
    "Example\n",
    "\n",
    "lst = [\"bad cookie\", \"good cookie\", \"bad cookie\", \"good cookie\", \"good cookie\"]\n",
    "pattern = \"yourregularexpressionhere\"\n",
    "\n",
    "len(re.findall(pattern, \", \".join(lst))) ➞ 2\n"
   ]
  },
  {
   "cell_type": "code",
   "execution_count": 22,
   "id": "729180ee",
   "metadata": {},
   "outputs": [
    {
     "name": "stdout",
     "output_type": "stream",
     "text": [
      "No of Bad cookies produced per day ➞ 2\n"
     ]
    }
   ],
   "source": [
    "import re\n",
    "lst = [\"bad cookie\", \"good cookie\", \"bad cookie\", \"good cookie\", \"good cookie\"]\n",
    "pattern = r'(?<!good)\\scookie'# Regex Negative lookbehind expression\n",
    "data = re.findall(pattern,' '.join(lst))\n",
    "print(f'No of Bad cookies produced per day ➞ {len(data)}')"
   ]
  },
  {
   "cell_type": "markdown",
   "id": "620edfc4",
   "metadata": {},
   "source": [
    "5. Given a list of words in the singular form, return a set of those words in the plural form if they appear more than once in the list.\n",
    "\n",
    "Examples\n",
    "\n",
    "pluralize([\"cow\", \"pig\", \"cow\", \"cow\"]) ➞ { \"cows\", \"pig\" }\n",
    "\n",
    "pluralize([\"table\", \"table\", \"table\"]) ➞ { \"tables\" }\n",
    "\n",
    "pluralize([\"chair\", \"pencil\", \"arm\"]) ➞ { \"chair\", \"pencil\", \"arm\" }\n"
   ]
  },
  {
   "cell_type": "code",
   "execution_count": 26,
   "id": "4b9373d1",
   "metadata": {},
   "outputs": [
    {
     "name": "stdout",
     "output_type": "stream",
     "text": [
      "{'pig', 'cows'}\n"
     ]
    }
   ],
   "source": [
    "def plural(in_list):\n",
    "    out_list= set()\n",
    "    for i in in_list:\n",
    "        if in_list.count(i)>1:\n",
    "            out_list.add(i+'s')\n",
    "        else:\n",
    "            out_list.add(i)\n",
    "    print(out_list)\n",
    "\n",
    "plural([\"cow\", \"pig\", \"cow\", \"cow\"])"
   ]
  },
  {
   "cell_type": "code",
   "execution_count": null,
   "id": "b8b5d260",
   "metadata": {},
   "outputs": [],
   "source": []
  }
 ],
 "metadata": {
  "kernelspec": {
   "display_name": "Python 3 (ipykernel)",
   "language": "python",
   "name": "python3"
  },
  "language_info": {
   "codemirror_mode": {
    "name": "ipython",
    "version": 3
   },
   "file_extension": ".py",
   "mimetype": "text/x-python",
   "name": "python",
   "nbconvert_exporter": "python",
   "pygments_lexer": "ipython3",
   "version": "3.9.7"
  }
 },
 "nbformat": 4,
 "nbformat_minor": 5
}
