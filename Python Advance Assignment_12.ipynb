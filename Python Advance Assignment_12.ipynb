{
 "cells": [
  {
   "cell_type": "markdown",
   "id": "4d4186c4",
   "metadata": {},
   "source": [
    "Q1. Does assigning a value to a string's indexed character violate Python's string immutability?"
   ]
  },
  {
   "cell_type": "markdown",
   "id": "54b41d0c",
   "metadata": {},
   "source": [
    "Answer-No we will not be able to change the value in the same string insted of that it will create a copy of the string with the new character,therfore string is going to be mutable."
   ]
  },
  {
   "cell_type": "markdown",
   "id": "7ad81a88",
   "metadata": {},
   "source": [
    "\n",
    "Q2. Does using the += operator to concatenate strings violate Python's string immutability? Why or why not?\n"
   ]
  },
  {
   "cell_type": "markdown",
   "id": "c3e63eb5",
   "metadata": {},
   "source": [
    "Answer - This optimization violates the normal rules for id and +=. Normally, += on immutable objects is supposed to create a new object before clearing the reference to the old object, so the new and old objects should have overlapping lifetimes, forbidding equal id values. With the optimization in place, the string after the += has the same ID as the string before the +=."
   ]
  },
  {
   "cell_type": "markdown",
   "id": "7c712e62",
   "metadata": {},
   "source": [
    "\n",
    "Q3. In Python, how many different ways are there to index a character?\n"
   ]
  },
  {
   "cell_type": "markdown",
   "id": "c153f8b7",
   "metadata": {},
   "source": [
    "Answer -Each of a string's characters corresponds to an index number and each character can be accessed using their index number. We can access characters in a String in Two ways : Accessing Characters by Positive Index Number. Accessing Characters by Negative Index Number."
   ]
  },
  {
   "cell_type": "markdown",
   "id": "a7fbfb61",
   "metadata": {},
   "source": [
    "\n",
    "\n",
    "Q4. What is the relationship between indexing and slicing?\n"
   ]
  },
  {
   "cell_type": "markdown",
   "id": "fec211cf",
   "metadata": {},
   "source": [
    "Answer-“Indexing” means referring to an element of an iterable by its position within the iterable. “Slicing” means getting a subset of elements from an iterable based on their indices"
   ]
  },
  {
   "cell_type": "markdown",
   "id": "e41b7a97",
   "metadata": {},
   "source": [
    "Q5. What is an indexed character's exact data type? What is the data form of a slicing-generated substring?"
   ]
  },
  {
   "cell_type": "markdown",
   "id": "d51107ad",
   "metadata": {},
   "source": [
    "Answer - It is going to be string, as in python we dont have anything called character every text is represented as string."
   ]
  },
  {
   "cell_type": "markdown",
   "id": "ea4f008c",
   "metadata": {},
   "source": [
    "Q6. What is the relationship between string and character \"types\" in Python?"
   ]
  },
  {
   "cell_type": "markdown",
   "id": "1cf1749a",
   "metadata": {},
   "source": [
    "Answer - In Python, Strings are arrays of bytes representing Unicode characters. However, Python does not have a character data type, a single character is simply a string with a length of 1. Square brackets can be used to access elements of the string."
   ]
  },
  {
   "cell_type": "markdown",
   "id": "4dd9cf80",
   "metadata": {},
   "source": [
    "\n",
    "Q7. Identify at least two operators and one method that allow you to combine one or more smaller strings to create a larger string.\n"
   ]
  },
  {
   "cell_type": "markdown",
   "id": "b5472464",
   "metadata": {},
   "source": [
    "Answer - Two Operator-> +,+=\n",
    "         Method ->join()"
   ]
  },
  {
   "cell_type": "markdown",
   "id": "12ef87a8",
   "metadata": {},
   "source": [
    "\n",
    "Q8. What is the benefit of first checking the target string with in or not in before using the index method to find a substring?\n"
   ]
  },
  {
   "cell_type": "raw",
   "id": "f3b6c73b",
   "metadata": {},
   "source": [
    "Answer - In order to check weather the character is defince or not."
   ]
  },
  {
   "cell_type": "markdown",
   "id": "eee8bc1d",
   "metadata": {},
   "source": [
    "Q9. Which operators and built-in string methods produce simple Boolean (true/false) results?"
   ]
  },
  {
   "cell_type": "markdown",
   "id": "6f30d0cd",
   "metadata": {},
   "source": [
    "Answer := Those methods are - isdecimal(),islower(),isupper() anu=y method starting with is returns boolean value.\n",
    "          Operator - !=,=="
   ]
  },
  {
   "cell_type": "code",
   "execution_count": null,
   "id": "2aa90d35",
   "metadata": {},
   "outputs": [],
   "source": []
  }
 ],
 "metadata": {
  "kernelspec": {
   "display_name": "Python 3 (ipykernel)",
   "language": "python",
   "name": "python3"
  },
  "language_info": {
   "codemirror_mode": {
    "name": "ipython",
    "version": 3
   },
   "file_extension": ".py",
   "mimetype": "text/x-python",
   "name": "python",
   "nbconvert_exporter": "python",
   "pygments_lexer": "ipython3",
   "version": "3.9.7"
  }
 },
 "nbformat": 4,
 "nbformat_minor": 5
}
