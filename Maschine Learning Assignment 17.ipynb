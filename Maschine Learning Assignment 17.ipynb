{
 "cells": [
  {
   "cell_type": "markdown",
   "id": "ec7f6d9d",
   "metadata": {},
   "source": [
    "1. Using a graph to illustrate slope and intercept, define basic linear regression."
   ]
  },
  {
   "cell_type": "code",
   "execution_count": 2,
   "id": "103a23c5",
   "metadata": {},
   "outputs": [
    {
     "data": {
      "image/png": "[encoded data removed]",
      "text/plain": [
       "<Figure size 432x288 with 1 Axes>"
      ]
     },
     "metadata": {
      "needs_background": "light"
     },
     "output_type": "display_data"
    },
    {
     "data": {
      "text/plain": [
       "None"
      ]
     },
     "metadata": {},
     "output_type": "display_data"
    }
   ],
   "source": [
    "import matplotlib.pyplot as plt\n",
    "import numpy as np\n",
    "x = np.linspace(-5,5,100)\n",
    "y = 9*x+8\n",
    "plt.plot(x, y, '-r', label='y=9x+8')\n",
    "plt.title('Graph of y=9x+8')\n",
    "plt.xlabel('x', color='#1C2833')\n",
    "plt.ylabel('y', color='#1C2833')\n",
    "plt.legend(loc='upper left')\n",
    "plt.grid()\n",
    "display(plt.show())"
   ]
  },
  {
   "cell_type": "markdown",
   "id": "3c355f25",
   "metadata": {},
   "source": [
    "2. In a graph, explain the terms rise, run, and slope."
   ]
  },
  {
   "cell_type": "markdown",
   "id": "af166665",
   "metadata": {},
   "source": [
    "Answer:-The slope of a line measures the steepness of the line. Most of you are probably familiar with associating slope with \"Rise Over Run\". Rise means how many units you move up or down from point to point. On the graph that would be a change in the y values. Run means how far left or right you move from point to point."
   ]
  },
  {
   "cell_type": "markdown",
   "id": "5a54ef77",
   "metadata": {},
   "source": [
    "3. Use a graph to demonstrate slope, linear positive slope, and linear negative slope, as well as the different conditions that contribute to the slope."
   ]
  },
  {
   "cell_type": "markdown",
   "id": "b428a0c9",
   "metadata": {},
   "source": [
    "Answer-The steepness of a hill is called a slope. The same goes for the steepness of a line. The slope is defined as the ratio of the vertical change between two points, the rise, to the horizontal change between the same two points, the run.\n",
    "\n",
    "Slope=Rise/Run=ChangeinY/changeinX\n",
    "\n",
    "The slope of a line is usually represented by the letter m. (x1, y1) represents the first point whereas (x2, y2) represents the second point.\n",
    "\n",
    "M=Y2−Y1/X2−X1\n",
    "\n",
    "It is important to keep the x-and y-coordinates in the same order in both the numerator and the denominator otherwise you will get the wrong slope. download.png"
   ]
  },
  {
   "cell_type": "markdown",
   "id": "89d8c5e4",
   "metadata": {},
   "source": [
    "4. Use a graph to demonstrate curve linear negative slope and curve linear positive slope."
   ]
  },
  {
   "cell_type": "markdown",
   "id": "e64f59a0",
   "metadata": {},
   "source": [
    "Answer:-Image result for a graph to demonstrate curve linear negative slope and curve linear positive slope.If the signs are different then the answer is negative! If the slope is negative you can plot your next point by going down and right OR up and left. f the slope is positive you can plot your next point by going up and right OR down and left."
   ]
  },
  {
   "cell_type": "markdown",
   "id": "d78f18ea",
   "metadata": {},
   "source": [
    "\n",
    "5. Use a graph to show the maximum and low points of curves.\n"
   ]
  },
  {
   "cell_type": "markdown",
   "id": "679e3934",
   "metadata": {},
   "source": [
    "Answer:-To find the maximum/minimum of a curve you must first differentiate the function and then equate it to zero. This gives you one coordinate. To find the other you must resubstitute the one already found into the original function."
   ]
  },
  {
   "cell_type": "markdown",
   "id": "a074ac85",
   "metadata": {},
   "source": [
    "\n",
    "6. Use the formulas for a and b to explain ordinary least squares.\n"
   ]
  },
  {
   "cell_type": "markdown",
   "id": "aeb2045d",
   "metadata": {},
   "source": [
    "Answer: This best line is the Least Squares Regression Line (abbreviated as LSRL). This is true where ˆy is the predicted y-value given x, a is the y intercept, b and is the slope. For every x-value, the Least Squares Regression Line makes a predicted y-value that is close to the observed y-value, but usually slightly off."
   ]
  },
  {
   "cell_type": "markdown",
   "id": "92f13c23",
   "metadata": {},
   "source": [
    "7. Provide a step-by-step explanation of the OLS algorithm."
   ]
  },
  {
   "cell_type": "markdown",
   "id": "5f5b24f5",
   "metadata": {},
   "source": [
    "Set a difference between dependent variable and its estimation:\n",
    "Square the difference:\n",
    "Take summation for all data.\n",
    "To get the parameters that make the sum of square difference become minimum, take partial derivative for each parameter and equate it with zero."
   ]
  },
  {
   "cell_type": "markdown",
   "id": "c1547ec4",
   "metadata": {},
   "source": [
    "8. What is the regression's standard error? To represent the same, make a graph."
   ]
  },
  {
   "cell_type": "markdown",
   "id": "71ffc069",
   "metadata": {},
   "source": [
    "Answer: The standard error of the regression (S), also known as the standard error of the estimate, represents the average distance that the observed values fall from the regression line. Conveniently, it tells you how wrong the regression model is on average using the units of the response variable."
   ]
  },
  {
   "cell_type": "markdown",
   "id": "cc310743",
   "metadata": {},
   "source": [
    "\n",
    "9. Provide an example of multiple linear regression.\n"
   ]
  },
  {
   "cell_type": "markdown",
   "id": "0a290d13",
   "metadata": {},
   "source": [
    "Answer: Multiple Linear Regression is one of the important regression algorithms which models the linear relationship between a single dependent continuous variable and more than one independent variable. Example: Prediction of CO2 emission based on engine size and number of cylinders in a car."
   ]
  },
  {
   "cell_type": "markdown",
   "id": "a20c1f2a",
   "metadata": {},
   "source": [
    "10. Describe the regression analysis assumptions and the BLUE principle."
   ]
  },
  {
   "cell_type": "markdown",
   "id": "6f0bd6aa",
   "metadata": {},
   "source": [
    "Answer: There are four assumptions associated with a linear regression model:\n",
    "\n",
    "Linearity: The relationship between X and the mean of Y is linear.\n",
    "Homoscedasticity: The variance of residual is the same for any value of X.\n",
    "Independence: Observations are independent of each other.\n",
    "BLUE: is an acronym for the following: Best Linear Unbiased Estimator. In this context, the definition of “best” refers to the minimum variance or the narrowest sampling distribution."
   ]
  },
  {
   "cell_type": "markdown",
   "id": "2de68164",
   "metadata": {},
   "source": [
    "11. Describe two major issues with regression analysis."
   ]
  },
  {
   "cell_type": "markdown",
   "id": "6e57ac67",
   "metadata": {},
   "source": [
    "Answer: It involves very lengthy and complicated procedure of calculations and analysis. It cannot be used in case of qualitative phenomenon viz. honesty, crime etc.\n",
    "\n",
    "The overall idea of regression is to examine two things:\n",
    "\n",
    "Does a set of predictor variables do a good job in predicting an outcome (dependent) variable?\n",
    "Which variables in particular are significant predictors of the outcome variable, and in what way do they–indicated by the magnitude and sign of the beta"
   ]
  },
  {
   "cell_type": "markdown",
   "id": "52b3ff36",
   "metadata": {},
   "source": [
    "\n",
    "12. How can the linear regression model's accuracy be improved?\n"
   ]
  },
  {
   "cell_type": "markdown",
   "id": "8f285f85",
   "metadata": {},
   "source": [
    "Ans: 8 Methods to Boost the Accuracy of a Model :\n",
    "\n",
    "Add more data. Having more data is always a good idea.\n",
    "Treat missing and Outlier values.\n",
    "Feature Engineering.\n",
    "Feature Selection.\n",
    "Multiple algorithms.\n",
    "Algorithm Tuning.\n",
    "Ensemble methods."
   ]
  },
  {
   "cell_type": "markdown",
   "id": "84d35e48",
   "metadata": {},
   "source": [
    "13. Using an example, describe the polynomial regression model in detail."
   ]
  },
  {
   "cell_type": "markdown",
   "id": "28c931d4",
   "metadata": {},
   "source": [
    "Ans: In statistics, polynomial regression is a form of regression analysis in which the relationship between the independent variable x and the dependent variable y is modelled as an nth degree polynomial in x.For this reason, polynomial regression is considered to be a special case of multiple linear regression.\n",
    "\n",
    "Polynomial regression is one of the machine learning algorithms used for making predictions. For example, it is widely applied to predict the spread rate of COVID-19 and other infectious diseases."
   ]
  },
  {
   "cell_type": "markdown",
   "id": "1e8acd59",
   "metadata": {},
   "source": [
    "14. Provide a detailed explanation of logistic regression."
   ]
  },
  {
   "cell_type": "markdown",
   "id": "21bddb03",
   "metadata": {},
   "source": [
    "Ans: Logistic regression is a statistical analysis method used to predict a data value based on prior observations of a data set.Based on historical data about earlier outcomes involving the same input criteria, it then scores new cases on their probability of falling into a particular outcome category."
   ]
  },
  {
   "cell_type": "markdown",
   "id": "1fb7de90",
   "metadata": {},
   "source": [
    "15. What are the logistic regression assumptions?"
   ]
  },
  {
   "cell_type": "markdown",
   "id": "5cc88789",
   "metadata": {},
   "source": [
    "Ans: Basic assumptions that must be met for logistic regression include independence of errors, linearity in the logit for continuous variables, absence of multicollinearity, and lack of strongly influential outliers."
   ]
  },
  {
   "cell_type": "markdown",
   "id": "9444d4ba",
   "metadata": {},
   "source": [
    "16. Go through the details of maximum likelihood estimation."
   ]
  },
  {
   "cell_type": "markdown",
   "id": "92491dea",
   "metadata": {},
   "source": [
    "Ans: Maximum likelihood estimation is a method that determines values for the parameters of a model. The parameter values\", are found such that they maximise the likelihood that the process described by the model produced the data that were\", actually observed.\""
   ]
  },
  {
   "cell_type": "code",
   "execution_count": null,
   "id": "74c92fd7",
   "metadata": {},
   "outputs": [],
   "source": []
  },
  {
   "cell_type": "code",
   "execution_count": null,
   "id": "178e8515",
   "metadata": {},
   "outputs": [],
   "source": []
  }
 ],
 "metadata": {
  "kernelspec": {
   "display_name": "Python 3 (ipykernel)",
   "language": "python",
   "name": "python3"
  },
  "language_info": {
   "codemirror_mode": {
    "name": "ipython",
    "version": 3
   },
   "file_extension": ".py",
   "mimetype": "text/x-python",
   "name": "python",
   "nbconvert_exporter": "python",
   "pygments_lexer": "ipython3",
   "version": "3.9.7"
  }
 },
 "nbformat": 4,
 "nbformat_minor": 5
}
