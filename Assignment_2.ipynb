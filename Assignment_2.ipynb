{
 "cells": [
  {
   "cell_type": "markdown",
   "id": "c95255b8",
   "metadata": {},
   "source": [
    "(1)What are the two values of the Boolean data type? How do you write them?"
   ]
  },
  {
   "cell_type": "markdown",
   "id": "3b5796d0",
   "metadata": {},
   "source": [
    "Answer--> The two value of boolean data type is True and False"
   ]
  },
  {
   "cell_type": "markdown",
   "id": "d47fe955",
   "metadata": {},
   "source": [
    "(2) What are the three different types of Boolean operators?"
   ]
  },
  {
   "cell_type": "markdown",
   "id": "3e162c42",
   "metadata": {},
   "source": [
    "Three types of boolean operator is :\n",
    "    (a)AND\n",
    "    (b)OR\n",
    "    (c)NOT\n",
    "    "
   ]
  },
  {
   "cell_type": "markdown",
   "id": "a747c2ab",
   "metadata": {},
   "source": [
    "(3)Make a list of each Boolean operator's truth tables (i.e. every possible combination of Boolean values for the operator and what it evaluate )."
   ]
  },
  {
   "cell_type": "markdown",
   "id": "703b8258",
   "metadata": {},
   "source": [
    "Answer-->\n",
    "condition1 condition 2 \n",
    "  (X)     (Y)\t NOT X( ~ X )\tX AND Y( X && Y )\tX OR Y( X || Y )\n",
    "false\tfalse\t   true\t               false\t       false\n",
    "false\ttrue\t   true\t               false\t       true\n",
    "true\tfalse\t  false\t               false\t       true\n",
    "true\ttrue\t  false\t               true\t           true\n",
    "(Please come in edit mode to see table properly)"
   ]
  },
  {
   "cell_type": "markdown",
   "id": "d89aeb93",
   "metadata": {},
   "source": [
    "(4)What are the values of the following expressions?"
   ]
  },
  {
   "cell_type": "markdown",
   "id": "ad981fbf",
   "metadata": {},
   "source": [
    "Answer-->\n",
    "(a)(5 > 4) and (3 == 5) -- False\n",
    "(b)not (5 > 4)-->False\n",
    "(c)(5 > 4) or (3 == 5) --> True\n",
    "(d)not ((5 > 4) or (3 == 5)) -->False\n",
    "(e)(True and True) and (True == False) -->False\n",
    "(f)(not False) or (not True) --> True"
   ]
  },
  {
   "cell_type": "markdown",
   "id": "baead782",
   "metadata": {},
   "source": [
    "(5)What are the six comparison operators?"
   ]
  },
  {
   "cell_type": "markdown",
   "id": "c234de20",
   "metadata": {},
   "source": [
    "Answer-->Those are\n",
    "(a)<\n",
    "(b)>\n",
    "(c)<=\n",
    "(d)>=\n",
    "(e)!=\n",
    "(f)=="
   ]
  },
  {
   "cell_type": "markdown",
   "id": "5e39c06f",
   "metadata": {},
   "source": [
    "(6) How do you tell the difference between the equal to and assignment operators?Describe a condition and when you would use one."
   ]
  },
  {
   "cell_type": "markdown",
   "id": "b8b04b44",
   "metadata": {},
   "source": [
    "Answer--> The “=” is an assignment operator is used to assign the value on the right to the variable on the left. The '==' operator checks whether the two given operands are equal or not. If so, it returns true. Otherwise it returns false."
   ]
  },
  {
   "cell_type": "markdown",
   "id": "537621e5",
   "metadata": {},
   "source": [
    "7. Identify the three blocks in this code:\n",
    "spam = 0\n",
    "if spam == 10:\n",
    "print('eggs')\n",
    "if spam > 5:\n",
    "print('bacon')\n",
    "else:\n",
    "print('ham')\n",
    "print('spam')\n",
    "print('spam')\n"
   ]
  },
  {
   "cell_type": "code",
   "execution_count": 9,
   "id": "9596617e",
   "metadata": {},
   "outputs": [
    {
     "name": "stdout",
     "output_type": "stream",
     "text": [
      "ham\n",
      "spam\n",
      "spam\n"
     ]
    }
   ],
   "source": [
    "spam = 0\n",
    "if spam == 10:\n",
    "    print('eggs')\n",
    "if spam > 5:\n",
    "    print('bacon')\n",
    "else:\n",
    "    print('ham')\n",
    "    print('spam')\n",
    "    print('spam')\n"
   ]
  },
  {
   "cell_type": "markdown",
   "id": "746fea87",
   "metadata": {},
   "source": [
    "(8)Write code that prints Hello if 1 is stored in spam, prints Howdy if 2 is stored in spam, and prints Greetings! if anything else is stored in spam."
   ]
  },
  {
   "cell_type": "code",
   "execution_count": 10,
   "id": "53dd89f0",
   "metadata": {},
   "outputs": [],
   "source": [
    "def spamCheck(spam):\n",
    "    if spam==1:\n",
    "        print('Hello')\n",
    "    elif spam==2:\n",
    "        print('Howdy')\n",
    "    else:\n",
    "        Print('Greetings')"
   ]
  },
  {
   "cell_type": "code",
   "execution_count": 11,
   "id": "665c0074",
   "metadata": {},
   "outputs": [
    {
     "name": "stdout",
     "output_type": "stream",
     "text": [
      "Howdy\n"
     ]
    }
   ],
   "source": [
    "spamCheck(2)"
   ]
  },
  {
   "cell_type": "markdown",
   "id": "517d9ff4",
   "metadata": {},
   "source": [
    "(9)If your programme is stuck in an endless loop, what keys you’ll press?"
   ]
  },
  {
   "cell_type": "markdown",
   "id": "19ae95a1",
   "metadata": {},
   "source": [
    "Answer-->CTRL+C"
   ]
  },
  {
   "cell_type": "markdown",
   "id": "1c97fcdb",
   "metadata": {},
   "source": [
    "(10) How can you tell the difference between break and continue?"
   ]
  },
  {
   "cell_type": "markdown",
   "id": "ca205cac",
   "metadata": {},
   "source": [
    "Answer-->(a)Break -- > This statement terminates the smallest enclosing loop (i.e., while, do-while, for loop, or switch statement).\n",
    "(b)-->This statement skips the rest of the loop statement and starts the next iteration of the loop to take place"
   ]
  },
  {
   "cell_type": "markdown",
   "id": "4d45ad73",
   "metadata": {},
   "source": [
    "(11)In a for loop, what is the difference between range(10), range(0, 10), and range(0, 10, 1)?"
   ]
  },
  {
   "cell_type": "markdown",
   "id": "0db899ca",
   "metadata": {},
   "source": [
    "Answer--> All three range(10),range(0,10),range(0,10,1) are same."
   ]
  },
  {
   "cell_type": "markdown",
   "id": "28bab4bd",
   "metadata": {},
   "source": [
    "(12)Write a short program that prints the numbers 1 to 10 using a for loop. Then write an equivalent program that prints the numbers 1 to 10 using a while loop."
   ]
  },
  {
   "cell_type": "code",
   "execution_count": 14,
   "id": "8988f108",
   "metadata": {},
   "outputs": [
    {
     "name": "stdout",
     "output_type": "stream",
     "text": [
      "1\n",
      "2\n",
      "3\n",
      "4\n",
      "5\n",
      "6\n",
      "7\n",
      "8\n",
      "9\n",
      "10\n"
     ]
    }
   ],
   "source": [
    "# Answer-->\n",
    "for i in range(1,11):\n",
    "    print(i)"
   ]
  },
  {
   "cell_type": "code",
   "execution_count": 19,
   "id": "cd6db103",
   "metadata": {},
   "outputs": [],
   "source": [
    "i=1\n",
    "while(i>11):\n",
    "    print(i)\n",
    "    i+=1"
   ]
  },
  {
   "cell_type": "markdown",
   "id": "1b047d59",
   "metadata": {},
   "source": [
    "(13)If you had a function named bacon() inside a module named spam, how would you call it after importing spam?"
   ]
  },
  {
   "cell_type": "markdown",
   "id": "0819517c",
   "metadata": {},
   "source": [
    "Answer-->This function can be called with spam. bacon()."
   ]
  },
  {
   "cell_type": "code",
   "execution_count": null,
   "id": "900add25",
   "metadata": {},
   "outputs": [],
   "source": []
  }
 ],
 "metadata": {
  "kernelspec": {
   "display_name": "Python 3 (ipykernel)",
   "language": "python",
   "name": "python3"
  },
  "language_info": {
   "codemirror_mode": {
    "name": "ipython",
    "version": 3
   },
   "file_extension": ".py",
   "mimetype": "text/x-python",
   "name": "python",
   "nbconvert_exporter": "python",
   "pygments_lexer": "ipython3",
   "version": "3.9.7"
  }
 },
 "nbformat": 4,
 "nbformat_minor": 5
}
