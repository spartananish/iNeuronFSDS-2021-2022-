{
 "cells": [
  {
   "cell_type": "markdown",
   "id": "018f314e",
   "metadata": {},
   "source": [
    "Q1. What is the meaning of multiple inheritance?"
   ]
  },
  {
   "cell_type": "markdown",
   "id": "d3608eea",
   "metadata": {},
   "source": [
    "Answer - Multiple Inheritance is done in order to inherit property of multiple parent classes, basically it helps to define eacg property seperatley and the combine all in child with the help of inheritance."
   ]
  },
  {
   "cell_type": "markdown",
   "id": "479f3250",
   "metadata": {},
   "source": [
    "\n",
    "\n",
    "Q2. What is the concept of delegation?\n"
   ]
  },
  {
   "cell_type": "markdown",
   "id": "833f7dfa",
   "metadata": {},
   "source": [
    "Answer - Deligation is an object oriented techniqie, where it is very much similiar to the inheritance.\n",
    " for example :-\n",
    "        class Parent:\n",
    "            def __init__(self):\n",
    "                self.child = Child\n",
    "        class child:\n",
    "            def test():\n",
    "                print('This is an example of deligation')\n",
    "            \n",
    "to call this method we will use \n",
    "        parent = Parent()\n",
    "        parent.child.test()"
   ]
  },
  {
   "cell_type": "markdown",
   "id": "df0a85ed",
   "metadata": {},
   "source": [
    "Q-3 What is the concept of composition?"
   ]
  },
  {
   "cell_type": "markdown",
   "id": "9c410750",
   "metadata": {},
   "source": [
    "Answer - Composition is a concept that models a has a relationship. It enables creating complex types by combining objects of other types. This means that a class Composite can contain an object of another class Component . This relationship means that a Composite has a Componen"
   ]
  },
  {
   "cell_type": "markdown",
   "id": "18bb35fa",
   "metadata": {},
   "source": [
    "Q4. What are bound methods and how do we use them?"
   ]
  },
  {
   "cell_type": "markdown",
   "id": "48cc329b",
   "metadata": {},
   "source": [
    "Answer - A bound method is the one which is dependent on the instance of the class as the first argument. It passes the instance as the first argument which is used to access the variables and functions"
   ]
  },
  {
   "cell_type": "markdown",
   "id": "57166e89",
   "metadata": {},
   "source": [
    "Q5. What is the purpose of pseudoprivate attributes?"
   ]
  },
  {
   "cell_type": "markdown",
   "id": "15e68330",
   "metadata": {},
   "source": [
    "Answer - it's a way to localize a name to the class that created it, and does not prevent access by code outside the class. That is, this feature is mostly intended to avoid namespace collisions in instances, not to restrict access to names in general."
   ]
  }
 ],
 "metadata": {
  "kernelspec": {
   "display_name": "Python 3 (ipykernel)",
   "language": "python",
   "name": "python3"
  },
  "language_info": {
   "codemirror_mode": {
    "name": "ipython",
    "version": 3
   },
   "file_extension": ".py",
   "mimetype": "text/x-python",
   "name": "python",
   "nbconvert_exporter": "python",
   "pygments_lexer": "ipython3",
   "version": "3.9.7"
  }
 },
 "nbformat": 4,
 "nbformat_minor": 5
}
