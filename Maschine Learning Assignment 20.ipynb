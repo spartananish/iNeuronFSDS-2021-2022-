{
 "cells": [
  {
   "cell_type": "markdown",
   "id": "d2be1e38",
   "metadata": {},
   "source": [
    "1. What is the underlying concept of Support Vector Machines?"
   ]
  },
  {
   "cell_type": "markdown",
   "id": "c8ff50a9",
   "metadata": {},
   "source": [
    "Answer:- SVM or Support Vector Machine is a linear model for classification and regression problems. It can solve linear and non-linear problems and work well for many practical problems. The idea of SVM is simple: The algorithm creates a line or a hyperplane which separates the data into classes."
   ]
  },
  {
   "cell_type": "markdown",
   "id": "f637b376",
   "metadata": {},
   "source": [
    "2. What is the concept of a support vector?"
   ]
  },
  {
   "cell_type": "markdown",
   "id": "658aded0",
   "metadata": {},
   "source": [
    "Answer:-The data points or vectors that are the closest to the hyperplane and which affect the position of the hyperplane are termed as Support Vector. Since these vectors support the hyperplane, hence called a Support vector."
   ]
  },
  {
   "cell_type": "markdown",
   "id": "6a8fbc7c",
   "metadata": {},
   "source": [
    "3. When using SVMs, why is it necessary to scale the inputs?"
   ]
  },
  {
   "cell_type": "markdown",
   "id": "668a79d4",
   "metadata": {},
   "source": [
    "Answer:- Because Support Vector Machine (SVM) optimization occurs by minimizing the decision vector w, the optimal hyperplane is influenced by the scale of the input features and it's therefore recommended that data be standardized (mean 0, var 1) prior to SVM model training"
   ]
  },
  {
   "cell_type": "markdown",
   "id": "7deb8716",
   "metadata": {},
   "source": [
    "\n",
    "4. When an SVM classifier classifies a case, can it output a confidence score? What about a percentage chance?\n"
   ]
  },
  {
   "cell_type": "markdown",
   "id": "91c3cd0f",
   "metadata": {},
   "source": [
    "Answer:- An SVM classifier can give the distance between the test instance and the decision boundary as output, so we can use that as a confidence score, but we cannot use this score to directly converted it into class probabilities."
   ]
  },
  {
   "cell_type": "markdown",
   "id": "6c066310",
   "metadata": {},
   "source": [
    "\n",
    "5. Should you train a model on a training set with millions of instances and hundreds of features using the primal or dual form of the SVM problem?\n"
   ]
  },
  {
   "cell_type": "markdown",
   "id": "e6597b59",
   "metadata": {},
   "source": [
    "Answer:- So if there are millions of instances, you should definitely use the primal form, because the dual form will be much too slow. Say you trained an SVM classifier with an RBF kernel."
   ]
  },
  {
   "cell_type": "markdown",
   "id": "6dcc5354",
   "metadata": {},
   "source": [
    "\n",
    "6. Let's say you've used an RBF kernel to train an SVM classifier, but it appears to underfit the training collection. Is it better to raise or lower (gamma)? What about the letter C?\n"
   ]
  },
  {
   "cell_type": "markdown",
   "id": "728d9464",
   "metadata": {},
   "source": [
    "Answer:- A hard margin means that an SVM is very rigid in classification and tries to work extremely well in the training set, causing overfitting"
   ]
  },
  {
   "cell_type": "markdown",
   "id": "012ceaad",
   "metadata": {},
   "source": [
    "\n",
    "7. To solve the soft margin linear SVM classifier problem with an off-the-shelf QP solver, how should the QP parameters (H, f, A, and b) be set?\n",
    "\n"
   ]
  },
  {
   "cell_type": "markdown",
   "id": "5759d3f7",
   "metadata": {},
   "source": [
    "Answer:- SVM possesses sparsity: can have parameters set to zero in the solution. This enables potentially faster training and faster prediction than RLS."
   ]
  },
  {
   "cell_type": "markdown",
   "id": "91c79140",
   "metadata": {},
   "source": [
    "8. On the MNIST dataset, train an SVM classifier. You'll need to use one-versus-the-rest to assign all 10 digits because SVM classifiers are binary classifiers. To accelerate up the process, you might want to tune the hyperparameters using small validation sets. What level of precision can you achieve?"
   ]
  },
  {
   "cell_type": "markdown",
   "id": "29f98986",
   "metadata": {},
   "source": [
    "Answer:- Since SVM classifiers are binary classifiers, you will need to use one-versus-all to classify all 10 digits. You may want to tune the hyperparameters using."
   ]
  },
  {
   "cell_type": "markdown",
   "id": "35d0faf0",
   "metadata": {},
   "source": [
    "\n",
    "\n"
   ]
  },
  {
   "cell_type": "code",
   "execution_count": null,
   "id": "556e03ca",
   "metadata": {},
   "outputs": [],
   "source": []
  },
  {
   "cell_type": "markdown",
   "id": "7905d5c0",
   "metadata": {},
   "source": []
  },
  {
   "cell_type": "code",
   "execution_count": null,
   "id": "62dc574d",
   "metadata": {},
   "outputs": [],
   "source": []
  },
  {
   "cell_type": "code",
   "execution_count": null,
   "id": "a69bd67a",
   "metadata": {},
   "outputs": [],
   "source": []
  }
 ],
 "metadata": {
  "kernelspec": {
   "display_name": "Python 3 (ipykernel)",
   "language": "python",
   "name": "python3"
  },
  "language_info": {
   "codemirror_mode": {
    "name": "ipython",
    "version": 3
   },
   "file_extension": ".py",
   "mimetype": "text/x-python",
   "name": "python",
   "nbconvert_exporter": "python",
   "pygments_lexer": "ipython3",
   "version": "3.9.7"
  }
 },
 "nbformat": 4,
 "nbformat_minor": 5
}
