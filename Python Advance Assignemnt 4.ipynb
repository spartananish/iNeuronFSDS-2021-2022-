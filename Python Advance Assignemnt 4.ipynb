{
 "cells": [
  {
   "cell_type": "markdown",
   "id": "a5eebd95",
   "metadata": {},
   "source": [
    "Q1. Which two operator overloading methods can you use in your classes to support iteration?"
   ]
  },
  {
   "cell_type": "markdown",
   "id": "e1078eae",
   "metadata": {},
   "source": [
    "Answer- Two operator overloading is as fowllows \n",
    "(1) 2*2 = 4\n",
    "(2) 'hello'*2 = 'hellohello'"
   ]
  },
  {
   "cell_type": "markdown",
   "id": "75f8d88a",
   "metadata": {},
   "source": [
    "\n",
    "Q2. In what contexts do the two operator overloading methods manage printing?\n"
   ]
  },
  {
   "cell_type": "markdown",
   "id": "9eb896cb",
   "metadata": {},
   "source": [
    "Answer - Pyhton manages operator overloading with their special method defined which is also called magic methods. For example add '+' operator is\n",
    "able to do both concatenation and addition because special method involve with + is __add__()."
   ]
  },
  {
   "cell_type": "markdown",
   "id": "24423136",
   "metadata": {},
   "source": [
    "Q3. In a class, how do you intercept slice operations?"
   ]
  },
  {
   "cell_type": "markdown",
   "id": "545a767c",
   "metadata": {},
   "source": [
    "Answer - The slice() method return a portion of iterable as an object of slice class based on the specified range,. It can be used with string, list, tuple, set, bytes, or range objects or custom class object that implements sequence methods like __getitem__ and __len__."
   ]
  },
  {
   "cell_type": "markdown",
   "id": "40a22008",
   "metadata": {},
   "source": [
    "\n",
    "Q4. In a class, how do you capture in-place addition?\n"
   ]
  },
  {
   "cell_type": "markdown",
   "id": "6a11b8ea",
   "metadata": {},
   "source": [
    "Answer --> For in plcae we use operator module. Where we can us operator.iadd(a,b)"
   ]
  },
  {
   "cell_type": "markdown",
   "id": "4e67fad0",
   "metadata": {},
   "source": [
    "Q.5 When is it appropriate to use operator overloading?"
   ]
  },
  {
   "cell_type": "markdown",
   "id": "bc3fb16c",
   "metadata": {},
   "source": [
    "Answer -->Operator overloading is useful when we are using a class which is falling inside the existing Abstract class."
   ]
  },
  {
   "cell_type": "code",
   "execution_count": null,
   "id": "55df2ce6",
   "metadata": {},
   "outputs": [],
   "source": []
  }
 ],
 "metadata": {
  "kernelspec": {
   "display_name": "Python 3 (ipykernel)",
   "language": "python",
   "name": "python3"
  },
  "language_info": {
   "codemirror_mode": {
    "name": "ipython",
    "version": 3
   },
   "file_extension": ".py",
   "mimetype": "text/x-python",
   "name": "python",
   "nbconvert_exporter": "python",
   "pygments_lexer": "ipython3",
   "version": "3.9.7"
  }
 },
 "nbformat": 4,
 "nbformat_minor": 5
}
