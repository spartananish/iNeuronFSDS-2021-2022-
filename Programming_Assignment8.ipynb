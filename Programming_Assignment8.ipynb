{
 "cells": [
  {
   "cell_type": "markdown",
   "id": "5b703d84",
   "metadata": {},
   "source": [
    "1.\tWrite a Python Program to Add Two Matrices?"
   ]
  },
  {
   "cell_type": "code",
   "execution_count": 14,
   "id": "dc307aa3",
   "metadata": {},
   "outputs": [],
   "source": [
    "def additionOfMatrix():\n",
    "    a=[[1,2,3],[4,5,6],[7,8,9]]\n",
    "    b=[[1,2,3],[4,5,6],[7,8,9]]\n",
    "    sum = [a[i][j]+b[i][j] for j in range(len(a[i])) for i in range(len(a))]\n",
    "    for r in sum:\n",
    "        print(r)"
   ]
  },
  {
   "cell_type": "code",
   "execution_count": 15,
   "id": "6c2e3af2",
   "metadata": {},
   "outputs": [
    {
     "name": "stdout",
     "output_type": "stream",
     "text": [
      "2\n",
      "8\n",
      "14\n",
      "4\n",
      "10\n",
      "16\n",
      "6\n",
      "12\n",
      "18\n"
     ]
    }
   ],
   "source": [
    "additionOfMatrix()"
   ]
  },
  {
   "cell_type": "markdown",
   "id": "98d9f1b1",
   "metadata": {},
   "source": [
    "2.\tWrite a Python Program to Multiply Two Matrices?\n",
    "    "
   ]
  },
  {
   "cell_type": "code",
   "execution_count": 17,
   "id": "f3e3940c",
   "metadata": {},
   "outputs": [],
   "source": [
    "def multiplication():\n",
    "    a=[[1,2,3],[4,5,6],[7,8,9]]\n",
    "    b=[[1,2,3],[4,5,6],[7,8,9]]\n",
    "    for i in range(len(A)):\n",
    "        for j in range(len(B[0])):\n",
    "            for k in range(len(B)):\n",
    "                result[i][j] += A[i][k] * B[k][j]\n",
    "    for i in result:\n",
    "        print(i)\n",
    "    "
   ]
  },
  {
   "cell_type": "markdown",
   "id": "096bc811",
   "metadata": {},
   "source": [
    "3.\tWrite a Python Program to Transpose a Matrix?"
   ]
  },
  {
   "cell_type": "code",
   "execution_count": 19,
   "id": "c8efcf57",
   "metadata": {},
   "outputs": [],
   "source": [
    "def transpose():\n",
    "    a=[[1,2,3],[4,5,6],[7,8,9]]\n",
    "    result=[[0,0,0],[0,0,0],[0,0,0]]\n",
    "    for i in range(len(a)):\n",
    "        for j in range(len(a[i])):\n",
    "            result[j][i] = a[i][j]\n",
    "            \n",
    "    for i in result:\n",
    "        print(i)\n",
    "    "
   ]
  },
  {
   "cell_type": "markdown",
   "id": "ee26b53b",
   "metadata": {},
   "source": [
    "4.\tWrite a Python Program to Sort Words in Alphabetic Order?"
   ]
  },
  {
   "cell_type": "code",
   "execution_count": 24,
   "id": "59f9557d",
   "metadata": {},
   "outputs": [],
   "source": [
    "def sort():\n",
    "    words = input('Enter string')\n",
    "    list =[for word in words.split()]\n",
    "    list.sort()\n",
    "    for p in list:\n",
    "        print(p)"
   ]
  },
  {
   "cell_type": "markdown",
   "id": "cd52cfd5",
   "metadata": {},
   "source": [
    "5.\tWrite a Python Program to Remove Punctuation From a String?"
   ]
  },
  {
   "cell_type": "code",
   "execution_count": null,
   "id": "5eacbe0c",
   "metadata": {},
   "outputs": [],
   "source": [
    "def punchutation():\n",
    "    punctuations = '''!()-[]{};:'\"\\,<>./?@#$%^&*_~'''\n",
    "    strin = input('Enter input string')\n",
    "    no_punctuation=''\n",
    "    for ch in strinf:\n",
    "        if ch not in punchutations:\n",
    "            no_punctuation + ch\n",
    "    return no_punctuation"
   ]
  },
  {
   "cell_type": "code",
   "execution_count": null,
   "id": "cc64f33f",
   "metadata": {},
   "outputs": [],
   "source": []
  }
 ],
 "metadata": {
  "kernelspec": {
   "display_name": "Python 3 (ipykernel)",
   "language": "python",
   "name": "python3"
  },
  "language_info": {
   "codemirror_mode": {
    "name": "ipython",
    "version": 3
   },
   "file_extension": ".py",
   "mimetype": "text/x-python",
   "name": "python",
   "nbconvert_exporter": "python",
   "pygments_lexer": "ipython3",
   "version": "3.9.7"
  }
 },
 "nbformat": 4,
 "nbformat_minor": 5
}
