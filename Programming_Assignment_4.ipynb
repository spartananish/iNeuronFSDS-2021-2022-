{
 "cells": [
  {
   "cell_type": "markdown",
   "id": "2de8069d",
   "metadata": {},
   "source": [
    "(1.)\tWrite a Python Program to Find the Factorial of a Number?"
   ]
  },
  {
   "cell_type": "code",
   "execution_count": 1,
   "id": "6ab84e72",
   "metadata": {},
   "outputs": [],
   "source": [
    "def factorial(a):\n",
    "    if(a == 1):\n",
    "        return 1\n",
    "    fact = a*factorial(a-1)\n",
    "    return fact\n",
    "    "
   ]
  },
  {
   "cell_type": "code",
   "execution_count": 3,
   "id": "7dd948a6",
   "metadata": {},
   "outputs": [
    {
     "data": {
      "text/plain": [
       "24"
      ]
     },
     "execution_count": 3,
     "metadata": {},
     "output_type": "execute_result"
    }
   ],
   "source": [
    "factorial(4)"
   ]
  },
  {
   "cell_type": "markdown",
   "id": "8a692d98",
   "metadata": {},
   "source": [
    "(2.)Write a Python Program to Display the multiplication Table?"
   ]
  },
  {
   "cell_type": "code",
   "execution_count": 4,
   "id": "1f78d065",
   "metadata": {},
   "outputs": [],
   "source": [
    "def table(a):\n",
    "    for i in range(1, 11):\n",
    "           print(a, 'x', i, '=', a*i)"
   ]
  },
  {
   "cell_type": "code",
   "execution_count": 5,
   "id": "ae80268b",
   "metadata": {},
   "outputs": [
    {
     "name": "stdout",
     "output_type": "stream",
     "text": [
      "2 x 1 = 2\n",
      "2 x 2 = 4\n",
      "2 x 3 = 6\n",
      "2 x 4 = 8\n",
      "2 x 5 = 10\n",
      "2 x 6 = 12\n",
      "2 x 7 = 14\n",
      "2 x 8 = 16\n",
      "2 x 9 = 18\n",
      "2 x 10 = 20\n"
     ]
    }
   ],
   "source": [
    "table(2)"
   ]
  },
  {
   "cell_type": "markdown",
   "id": "5c859ca7",
   "metadata": {},
   "source": [
    "(3.)Write a Python Program to Print the Fibonacci sequence?"
   ]
  },
  {
   "cell_type": "code",
   "execution_count": 16,
   "id": "4d2be9aa",
   "metadata": {},
   "outputs": [],
   "source": [
    "def fibb(a):\n",
    "    if a<= 0:\n",
    "        return 0\n",
    "    if a==1 or a==2:\n",
    "        return 1\n",
    "    fib = fibb(a-1)+fibb(a-2)\n",
    "    return fib\n",
    "    "
   ]
  },
  {
   "cell_type": "code",
   "execution_count": 17,
   "id": "d54e9635",
   "metadata": {},
   "outputs": [
    {
     "data": {
      "text/plain": [
       "8"
      ]
     },
     "execution_count": 17,
     "metadata": {},
     "output_type": "execute_result"
    }
   ],
   "source": [
    "fibb(6)"
   ]
  },
  {
   "cell_type": "markdown",
   "id": "a15c7391",
   "metadata": {},
   "source": [
    "(4.)\tWrite a Python Program to Check Armstrong Number?"
   ]
  },
  {
   "cell_type": "code",
   "execution_count": 21,
   "id": "15ed538b",
   "metadata": {},
   "outputs": [],
   "source": [
    "def armstrong():\n",
    "    n = int(input(\"Enter a number: \"))\n",
    "    s = 0\n",
    "    t = n\n",
    "    while t > 0:\n",
    "        digit = t % 10\n",
    "        s += digit ** 3\n",
    "        t //= 10\n",
    "    if n == s:\n",
    "        print(n,\"is an Armstrong number\")\n",
    "    else:\n",
    "        print(n,\"is not an Armstrong number\")\n"
   ]
  },
  {
   "cell_type": "code",
   "execution_count": 22,
   "id": "c4fda53f",
   "metadata": {},
   "outputs": [
    {
     "name": "stdout",
     "output_type": "stream",
     "text": [
      "Enter a number: 23\n",
      "23 is not an Armstrong number\n"
     ]
    }
   ],
   "source": [
    "armstrong()"
   ]
  },
  {
   "cell_type": "markdown",
   "id": "dab094cb",
   "metadata": {},
   "source": [
    "(5.)\tWrite a Python Program to Find Armstrong Number in an Interval?\n"
   ]
  },
  {
   "cell_type": "code",
   "execution_count": 26,
   "id": "fd02c5b3",
   "metadata": {},
   "outputs": [],
   "source": [
    "def armstrongInterval():\n",
    "    lr = int(input(\"Enter lower range: \"))  \n",
    "    ur = int(input(\"Enter upper range: \"))  \n",
    "    for num in range(lr,ur+1):\n",
    "        sum=0\n",
    "        temp = num\n",
    "        while temp>0:\n",
    "            t1 = temp%10\n",
    "            sum+=t1**3\n",
    "            temp//=10\n",
    "            if num == sum:\n",
    "                print(num)\n",
    "  \n"
   ]
  },
  {
   "cell_type": "code",
   "execution_count": 27,
   "id": "04ab0d86",
   "metadata": {},
   "outputs": [
    {
     "name": "stdout",
     "output_type": "stream",
     "text": [
      "Enter lower range: 200\n",
      "Enter upper range: 500\n",
      "216\n",
      "370\n",
      "371\n",
      "407\n"
     ]
    }
   ],
   "source": [
    "armstrongInterval()"
   ]
  },
  {
   "cell_type": "markdown",
   "id": "639bec05",
   "metadata": {},
   "source": [
    "(6.)\tWrite a Python Program to Find the Sum of Natural Numbers?"
   ]
  },
  {
   "cell_type": "code",
   "execution_count": 28,
   "id": "be8433ac",
   "metadata": {},
   "outputs": [],
   "source": [
    "def sumNaturalNumber(num):\n",
    "    # Sum of natural numbers up to num\n",
    "    if num<0:\n",
    "        print('Enter a positive Number')\n",
    "    else:\n",
    "        sum =0\n",
    "        while(num>0):\n",
    "            sum+=num\n",
    "            num-=1\n",
    "            print('Natural number sum is',sum)\n",
    "\n"
   ]
  },
  {
   "cell_type": "code",
   "execution_count": 29,
   "id": "4b71314a",
   "metadata": {},
   "outputs": [
    {
     "name": "stdout",
     "output_type": "stream",
     "text": [
      "Natural number sum is 45\n",
      "Natural number sum is 89\n",
      "Natural number sum is 132\n",
      "Natural number sum is 174\n",
      "Natural number sum is 215\n",
      "Natural number sum is 255\n",
      "Natural number sum is 294\n",
      "Natural number sum is 332\n",
      "Natural number sum is 369\n",
      "Natural number sum is 405\n",
      "Natural number sum is 440\n",
      "Natural number sum is 474\n",
      "Natural number sum is 507\n",
      "Natural number sum is 539\n",
      "Natural number sum is 570\n",
      "Natural number sum is 600\n",
      "Natural number sum is 629\n",
      "Natural number sum is 657\n",
      "Natural number sum is 684\n",
      "Natural number sum is 710\n",
      "Natural number sum is 735\n",
      "Natural number sum is 759\n",
      "Natural number sum is 782\n",
      "Natural number sum is 804\n",
      "Natural number sum is 825\n",
      "Natural number sum is 845\n",
      "Natural number sum is 864\n",
      "Natural number sum is 882\n",
      "Natural number sum is 899\n",
      "Natural number sum is 915\n",
      "Natural number sum is 930\n",
      "Natural number sum is 944\n",
      "Natural number sum is 957\n",
      "Natural number sum is 969\n",
      "Natural number sum is 980\n",
      "Natural number sum is 990\n",
      "Natural number sum is 999\n",
      "Natural number sum is 1007\n",
      "Natural number sum is 1014\n",
      "Natural number sum is 1020\n",
      "Natural number sum is 1025\n",
      "Natural number sum is 1029\n",
      "Natural number sum is 1032\n",
      "Natural number sum is 1034\n",
      "Natural number sum is 1035\n"
     ]
    }
   ],
   "source": [
    "sumNaturalNumber(45)"
   ]
  },
  {
   "cell_type": "code",
   "execution_count": null,
   "id": "73ddfa4c",
   "metadata": {},
   "outputs": [],
   "source": []
  }
 ],
 "metadata": {
  "kernelspec": {
   "display_name": "Python 3 (ipykernel)",
   "language": "python",
   "name": "python3"
  },
  "language_info": {
   "codemirror_mode": {
    "name": "ipython",
    "version": 3
   },
   "file_extension": ".py",
   "mimetype": "text/x-python",
   "name": "python",
   "nbconvert_exporter": "python",
   "pygments_lexer": "ipython3",
   "version": "3.9.7"
  }
 },
 "nbformat": 4,
 "nbformat_minor": 5
}
