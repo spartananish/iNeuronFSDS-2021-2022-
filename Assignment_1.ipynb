{
 "cells": [
  {
   "cell_type": "markdown",
   "id": "5eb3ce30",
   "metadata": {},
   "source": [
    "(1) In the below elements which of them are values or an expression? eg:- values can be integer or string and expressions will be mathematical operators."
   ]
  },
  {
   "cell_type": "markdown",
   "id": "3d261aba",
   "metadata": {},
   "source": [
    "Answer-->\n",
    "* -->Multiplication Operator\n",
    "'hello' --> String\n",
    "'-87.8' --> Float\n",
    "'-' --> Subtract Operator\n",
    "'/' --> Division Operator\n",
    "'+' --> Addition operator\n",
    "6 --> Integer\n",
    "\n",
    "\n",
    "\n",
    "\n",
    "\n"
   ]
  },
  {
   "cell_type": "markdown",
   "id": "9eee459c",
   "metadata": {},
   "source": [
    "(2) What is the difference between string and variable?\n"
   ]
  },
  {
   "cell_type": "markdown",
   "id": "0f2ef65b",
   "metadata": {},
   "source": [
    "Answer--> A variable basically the name of the location in aprimary memory which acan hold some data, where as string data type which can be store inside a variable."
   ]
  },
  {
   "cell_type": "markdown",
   "id": "a5637f1a",
   "metadata": {},
   "source": [
    "(3)Describe three different data types?"
   ]
  },
  {
   "cell_type": "markdown",
   "id": "ae452f6c",
   "metadata": {},
   "source": [
    "Answer --> There different data types can be the following:-\n",
    "                 (1) Integer -> Holds Numerical Value\n",
    "                 (2) String -> Holdes string data\n",
    "                 (3) Float -> Hold decimal point value"
   ]
  },
  {
   "cell_type": "markdown",
   "id": "85a507df",
   "metadata": {},
   "source": [
    "(4)What is an expression made up of? What do all expressions do?"
   ]
  },
  {
   "cell_type": "markdown",
   "id": "bf56a9a9",
   "metadata": {},
   "source": [
    "Answer -> Expresson are gorup of syntax datatypes which are intended to solve a propble or expression."
   ]
  },
  {
   "cell_type": "markdown",
   "id": "e3d0cfb8",
   "metadata": {},
   "source": [
    "(5)This assignment statements, like spam = 10. What is the difference between an expression and a statement?"
   ]
  },
  {
   "cell_type": "markdown",
   "id": "65484e2f",
   "metadata": {},
   "source": [
    "Answer->Statement i intended to perform any task,lke we have print() statement which is intended to do print task, where as an expression is intended to perform an operation which is combination of operator ,variable etc."
   ]
  },
  {
   "cell_type": "markdown",
   "id": "65594e8a",
   "metadata": {},
   "source": [
    "(6) After running the following code, what does the variable bacon contain?\n",
    "bacon = 22\n",
    "bacon + 1\n"
   ]
  },
  {
   "cell_type": "markdown",
   "id": "fd05cb03",
   "metadata": {},
   "source": [
    "Answer --> Even after doing bacon + 1 the value of bacon is going to be same as 22 because we are updating the value by +1 but not storing again in bacon, but if want to update the value of bacon we can do something like this bacon=bacon+1 "
   ]
  },
  {
   "cell_type": "markdown",
   "id": "72e165b1",
   "metadata": {},
   "source": [
    "(7) What should the values of the following two terms be?\n",
    "'spam' + 'spamspam'\n",
    "'spam' * 3\n"
   ]
  },
  {
   "cell_type": "markdown",
   "id": "5aceef9c",
   "metadata": {},
   "source": [
    "Answer--> The value of the following are as follows:-\n",
    "(1) 'spam'+'spamspam' --> 'spamspamspam'\n",
    "(2) 'spam'*3 --> 'spamspammspam'"
   ]
  },
  {
   "cell_type": "markdown",
   "id": "69fd3df3",
   "metadata": {},
   "source": [
    "(8) Why is eggs a valid variable name while 100 is invalid?"
   ]
  },
  {
   "cell_type": "markdown",
   "id": "91882085",
   "metadata": {},
   "source": [
    "Answer --> As per python varibale name cannot be start with number."
   ]
  },
  {
   "cell_type": "markdown",
   "id": "d023fd9a",
   "metadata": {},
   "source": [
    "(9) What three functions can be used to get the integer, floating-point number, or string version of a value?"
   ]
  },
  {
   "cell_type": "markdown",
   "id": "26737f46",
   "metadata": {},
   "source": [
    "Answer--> The following function can be used\n",
    "        (1)int()\n",
    "        (2)float()\n",
    "        (3)str()"
   ]
  },
  {
   "cell_type": "markdown",
   "id": "49aa2ef6",
   "metadata": {},
   "source": [
    "(10) Why does this expression cause an error? How can you fix it? 'I have eaten ' + 99 + ' burritos.'"
   ]
  },
  {
   "cell_type": "markdown",
   "id": "08094edc",
   "metadata": {},
   "source": [
    "Answer--> The ('I have eaten ' + 99 + ' burritos.') expression is trying to perfor  concatination operation but 99 present in the expression is integer value we can remove the error by using the following below statement \n",
    "('I have eaten ' + '99' + ' burritos.')"
   ]
  },
  {
   "cell_type": "code",
   "execution_count": null,
   "id": "3f0b9b95",
   "metadata": {},
   "outputs": [],
   "source": []
  }
 ],
 "metadata": {
  "kernelspec": {
   "display_name": "Python 3 (ipykernel)",
   "language": "python",
   "name": "python3"
  },
  "language_info": {
   "codemirror_mode": {
    "name": "ipython",
    "version": 3
   },
   "file_extension": ".py",
   "mimetype": "text/x-python",
   "name": "python",
   "nbconvert_exporter": "python",
   "pygments_lexer": "ipython3",
   "version": "3.9.7"
  }
 },
 "nbformat": 4,
 "nbformat_minor": 5
}
