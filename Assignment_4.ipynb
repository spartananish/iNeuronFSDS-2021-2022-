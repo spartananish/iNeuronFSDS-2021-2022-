{
 "cells": [
  {
   "cell_type": "markdown",
   "id": "50c36bb3",
   "metadata": {},
   "source": [
    "(1) What exactly is []?"
   ]
  },
  {
   "cell_type": "markdown",
   "id": "13b9c876",
   "metadata": {},
   "source": [
    "Answer-->Empty List"
   ]
  },
  {
   "cell_type": "markdown",
   "id": "7f637543",
   "metadata": {},
   "source": [
    " (2) In a list of values stored in a variable called spam, how would you assign the value 'hello' as the third value? (Assume [2, 4, 6, 8, 10] are in spam.)"
   ]
  },
  {
   "cell_type": "code",
   "execution_count": 5,
   "id": "84b39e82",
   "metadata": {},
   "outputs": [
    {
     "name": "stdout",
     "output_type": "stream",
     "text": [
      "[2, 4, 'hello', 6, 8, 10]\n"
     ]
    }
   ],
   "source": [
    "a =  [2, 4, 6, 8, 10]\n",
    "a.insert(2,'hello')\n",
    "print(a)"
   ]
  },
  {
   "cell_type": "markdown",
   "id": "757740d8",
   "metadata": {},
   "source": [
    "(3)Let's pretend the spam includes the list ['a', 'b', 'c', 'd'] for the next three queries."
   ]
  },
  {
   "cell_type": "markdown",
   "id": "a9d3dd22",
   "metadata": {},
   "source": [
    "(a)What is the value of spam[int(int('3' * 2) / 11)]?"
   ]
  },
  {
   "cell_type": "markdown",
   "id": "875fadfd",
   "metadata": {},
   "source": [
    "Answer --> 'd'"
   ]
  },
  {
   "cell_type": "markdown",
   "id": "28424514",
   "metadata": {},
   "source": [
    "(b)What is the value of spam[-1]?"
   ]
  },
  {
   "cell_type": "markdown",
   "id": "641d709e",
   "metadata": {},
   "source": [
    "Answer-->'d'"
   ]
  },
  {
   "cell_type": "markdown",
   "id": "082f7036",
   "metadata": {},
   "source": [
    "(c)What is the value of spam[:2]?"
   ]
  },
  {
   "cell_type": "markdown",
   "id": "7f696353",
   "metadata": {},
   "source": [
    "Answer-->'a' 'b' 'c'"
   ]
  },
  {
   "cell_type": "markdown",
   "id": "1761fbba",
   "metadata": {},
   "source": [
    "(4) Let's pretend bacon has the list [3.14, 'cat,' 11, 'cat,' True] for the next three questions."
   ]
  },
  {
   "cell_type": "markdown",
   "id": "034a5f90",
   "metadata": {},
   "source": [
    "(a)What is the value of bacon.index('cat')?"
   ]
  },
  {
   "cell_type": "markdown",
   "id": "1bc99def",
   "metadata": {},
   "source": [
    "Answer-->1"
   ]
  },
  {
   "cell_type": "markdown",
   "id": "cc8a2837",
   "metadata": {},
   "source": [
    "(b)How does bacon.append(99) change the look of the list value in bacon?"
   ]
  },
  {
   "cell_type": "markdown",
   "id": "f182a4ca",
   "metadata": {},
   "source": [
    "Answer-->It will append 99 at the end"
   ]
  },
  {
   "cell_type": "markdown",
   "id": "85db3e3b",
   "metadata": {},
   "source": [
    "(c)How does bacon.remove('cat') change the look of the list in bacon?"
   ]
  },
  {
   "cell_type": "markdown",
   "id": "08393ca3",
   "metadata": {},
   "source": [
    "Answer--> [3.14,11, 'cat,' True]"
   ]
  },
  {
   "cell_type": "markdown",
   "id": "6f859090",
   "metadata": {},
   "source": [
    "(5)What are the list concatenation and list replication operators?"
   ]
  },
  {
   "cell_type": "markdown",
   "id": "087486eb",
   "metadata": {},
   "source": [
    "ANswer-->concatenation -->+\n",
    "         replication -->*"
   ]
  },
  {
   "cell_type": "markdown",
   "id": "3b3b7b77",
   "metadata": {},
   "source": [
    "(6)What is difference between the list methods append() and insert()?"
   ]
  },
  {
   "cell_type": "markdown",
   "id": "d0e048b5",
   "metadata": {},
   "source": [
    "Answer--> Append add element at the end and insert() at any specified position"
   ]
  },
  {
   "cell_type": "markdown",
   "id": "b1c05649",
   "metadata": {},
   "source": [
    "(7)What are the two methods for removing items from a list?"
   ]
  },
  {
   "cell_type": "markdown",
   "id": "437211f5",
   "metadata": {},
   "source": [
    "Answer-->The method are remove(),clear(),pop()"
   ]
  },
  {
   "cell_type": "markdown",
   "id": "3ad9a8c0",
   "metadata": {},
   "source": [
    "(8)Describe how list values and string values are identical."
   ]
  },
  {
   "cell_type": "markdown",
   "id": "fc62cd89",
   "metadata": {},
   "source": [
    "Answer--> Both store value in indexing form"
   ]
  },
  {
   "cell_type": "markdown",
   "id": "a9c3972b",
   "metadata": {},
   "source": [
    "(9)What's the difference between tuples and lists?"
   ]
  },
  {
   "cell_type": "markdown",
   "id": "7480c3f4",
   "metadata": {},
   "source": [
    "Answer.-->Tupples are immutable object where as list are mutable."
   ]
  },
  {
   "cell_type": "markdown",
   "id": "b8c3c918",
   "metadata": {},
   "source": [
    "(10)How do you type a tuple value that only contains the integer 42?"
   ]
  },
  {
   "cell_type": "markdown",
   "id": "8792f024",
   "metadata": {},
   "source": [
    "Answer--> With the traling comma (42,)"
   ]
  },
  {
   "cell_type": "markdown",
   "id": "18e7650a",
   "metadata": {},
   "source": [
    "(11)How do you get a list value's tuple form? How do you get a tuple value's list form?"
   ]
  },
  {
   "cell_type": "markdown",
   "id": "e27a4a2a",
   "metadata": {},
   "source": [
    "Answer--> It can be like this --> [(1,2,3),('S','P','Q')](Point -- Qiestion Not clear)"
   ]
  },
  {
   "cell_type": "markdown",
   "id": "3116de89",
   "metadata": {},
   "source": [
    "(12)Variables that \"contain\" list values are not necessarily lists themselves. Instead, what do they contain?"
   ]
  },
  {
   "cell_type": "markdown",
   "id": "2603b2c3",
   "metadata": {},
   "source": [
    "Answer-->Variables will contain references to list values rather than list values themselve"
   ]
  },
  {
   "cell_type": "markdown",
   "id": "9c9113bf",
   "metadata": {},
   "source": [
    "(13)How do you distinguish between copy.copy() and copy.deepcopy()?"
   ]
  },
  {
   "cell_type": "markdown",
   "id": "cddb2538",
   "metadata": {},
   "source": [
    "Answer-->A deep copy constructs a new compound object and then, recursively, inserts copies into it of the objects found in the original."
   ]
  },
  {
   "cell_type": "code",
   "execution_count": null,
   "id": "2deddb9d",
   "metadata": {},
   "outputs": [],
   "source": []
  }
 ],
 "metadata": {
  "kernelspec": {
   "display_name": "Python 3 (ipykernel)",
   "language": "python",
   "name": "python3"
  },
  "language_info": {
   "codemirror_mode": {
    "name": "ipython",
    "version": 3
   },
   "file_extension": ".py",
   "mimetype": "text/x-python",
   "name": "python",
   "nbconvert_exporter": "python",
   "pygments_lexer": "ipython3",
   "version": "3.9.7"
  }
 },
 "nbformat": 4,
 "nbformat_minor": 5
}
