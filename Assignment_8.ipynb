{
 "cells": [
  {
   "cell_type": "markdown",
   "id": "f20567be",
   "metadata": {},
   "source": [
    "1. Is the Python Standard Library included with PyInputPlus?"
   ]
  },
  {
   "cell_type": "markdown",
   "id": "1adf1d0d",
   "metadata": {},
   "source": [
    "Answer-> PyInputPlus is not a part of  Python Standard library."
   ]
  },
  {
   "cell_type": "markdown",
   "id": "7017e201",
   "metadata": {},
   "source": [
    "2. Why is PyInputPlus commonly imported with import pyinputplus as pypi?"
   ]
  },
  {
   "cell_type": "markdown",
   "id": "b536950a",
   "metadata": {},
   "source": [
    "Answer - As pypi will make name shorter and it will be easy to use it anywhere"
   ]
  },
  {
   "cell_type": "markdown",
   "id": "041594c0",
   "metadata": {},
   "source": [
    "3. How do you distinguish between inputInt() and inputFloat()?3. "
   ]
  },
  {
   "cell_type": "markdown",
   "id": "dead0162",
   "metadata": {},
   "source": [
    "Answer- We can use type() method to find the difference"
   ]
  },
  {
   "cell_type": "markdown",
   "id": "f377d8f4",
   "metadata": {},
   "source": [
    "4. Using PyInputPlus, how do you ensure that the user enters a whole number between 0 and 99?"
   ]
  },
  {
   "cell_type": "markdown",
   "id": "5622fcdb",
   "metadata": {},
   "source": [
    "pip install PyInputPlus/\n",
    "import pyinputplus as pypi/\n",
    "Answer - pypi.inputInt('Enter Number',min=0,lessThan=100)"
   ]
  },
  {
   "cell_type": "markdown",
   "id": "67254687",
   "metadata": {},
   "source": [
    "5.What is transferred to the keyword arguments allowRegexes and blockRegexes?"
   ]
  },
  {
   "cell_type": "markdown",
   "id": "e23d0199",
   "metadata": {},
   "source": [
    "Answer-The allowRegexes and blockRegexes keyword arguments take a list of regular expression strings"
   ]
  },
  {
   "cell_type": "markdown",
   "id": "ee2d4e17",
   "metadata": {},
   "source": [
    "6.If a blank input is entered three times, what does inputStr(limit=3) do?"
   ]
  },
  {
   "cell_type": "markdown",
   "id": "39f9009b",
   "metadata": {},
   "source": [
    "import pyinputplus as pypi\n",
    "a = pypi.inputStr(limit=3)\n",
    "Answer - It will limit the number of time user is providing input."
   ]
  },
  {
   "cell_type": "markdown",
   "id": "7c75e0c8",
   "metadata": {},
   "source": [
    "7. If blank input is entered three times, what does inputStr(limit=3, default='hello') do?"
   ]
  },
  {
   "cell_type": "markdown",
   "id": "23fdd837",
   "metadata": {},
   "source": [
    "Answer-It will take default value which is hello in our scenario."
   ]
  },
  {
   "cell_type": "code",
   "execution_count": null,
   "id": "36838073",
   "metadata": {},
   "outputs": [],
   "source": []
  }
 ],
 "metadata": {
  "kernelspec": {
   "display_name": "Python 3 (ipykernel)",
   "language": "python",
   "name": "python3"
  },
  "language_info": {
   "codemirror_mode": {
    "name": "ipython",
    "version": 3
   },
   "file_extension": ".py",
   "mimetype": "text/x-python",
   "name": "python",
   "nbconvert_exporter": "python",
   "pygments_lexer": "ipython3",
   "version": "3.9.7"
  }
 },
 "nbformat": 4,
 "nbformat_minor": 5
}
