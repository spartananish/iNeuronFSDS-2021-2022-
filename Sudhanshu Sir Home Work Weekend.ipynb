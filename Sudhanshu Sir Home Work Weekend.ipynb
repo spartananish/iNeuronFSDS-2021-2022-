{
 "cells": [
  {
   "cell_type": "markdown",
   "id": "755f712f",
   "metadata": {},
   "source": [
    "(1)You have to write a fun which will take string and return a len of it without using a inbuilt fun len?\n"
   ]
  },
  {
   "cell_type": "code",
   "execution_count": 1,
   "id": "fd6b7f94",
   "metadata": {},
   "outputs": [],
   "source": [
    "def lencount(val):\n",
    "    count =0\n",
    "    for i in val:\n",
    "        count=count+1\n",
    "    return count;\n",
    "        \n",
    "    "
   ]
  },
  {
   "cell_type": "code",
   "execution_count": 2,
   "id": "7434db67",
   "metadata": {},
   "outputs": [
    {
     "data": {
      "text/plain": [
       "8"
      ]
     },
     "execution_count": 2,
     "metadata": {},
     "output_type": "execute_result"
    }
   ],
   "source": [
    "lencount('djkflkjd')"
   ]
  },
  {
   "cell_type": "markdown",
   "id": "2626226e",
   "metadata": {},
   "source": [
    "(2) Write a fun which will be able to print an index of all premitive element which you will pass?\n"
   ]
  },
  {
   "cell_type": "code",
   "execution_count": 6,
   "id": "1b9fc57d",
   "metadata": {},
   "outputs": [],
   "source": [
    "def indexpremetive(*args):\n",
    "    len = 0\n",
    "    for i in args:\n",
    "        print(len)\n",
    "        len = len+1\n",
    "    \n",
    "    "
   ]
  },
  {
   "cell_type": "code",
   "execution_count": 7,
   "id": "f31ba06f",
   "metadata": {},
   "outputs": [
    {
     "name": "stdout",
     "output_type": "stream",
     "text": [
      "0\n",
      "1\n"
     ]
    }
   ],
   "source": [
    "indexpremetive(2,'zfd')"
   ]
  },
  {
   "cell_type": "markdown",
   "id": "421231da",
   "metadata": {},
   "source": [
    "(3) Write a fun which will take input as a dict and give me out as a list of all the values \n",
    "even in case of 2 level nesting it should work . "
   ]
  },
  {
   "cell_type": "code",
   "execution_count": 78,
   "id": "57139c40",
   "metadata": {},
   "outputs": [],
   "source": [
    "# items key word return two thing one is key another is value\n",
    "def valueforkey(dictionary):\n",
    "    for k,v in dictionary.items():\n",
    "        if type(v) is dict :\n",
    "                valueforkey(v)\n",
    "        else:\n",
    "            print(v)"
   ]
  },
  {
   "cell_type": "code",
   "execution_count": 79,
   "id": "b65e74ec",
   "metadata": {},
   "outputs": [
    {
     "name": "stdout",
     "output_type": "stream",
     "text": [
      "1\n",
      "2\n"
     ]
    }
   ],
   "source": [
    "nested_dictionary = {\"dict1\": {\"a\": 1},\"dict2\": {\"b\": 2}}\n",
    "valueforkey(nested_dictionary)"
   ]
  },
  {
   "cell_type": "markdown",
   "id": "e78ee835",
   "metadata": {},
   "source": [
    "4 . write a fun which will take another function as an input and return me an output "
   ]
  },
  {
   "cell_type": "code",
   "execution_count": 92,
   "id": "ad5e1b35",
   "metadata": {},
   "outputs": [],
   "source": [
    "def parent(func):\n",
    "    value = func(2,4)\n",
    "    return value\n",
    "\n"
   ]
  },
  {
   "cell_type": "code",
   "execution_count": 93,
   "id": "755a8c56",
   "metadata": {},
   "outputs": [
    {
     "name": "stdout",
     "output_type": "stream",
     "text": [
      "6\n"
     ]
    }
   ],
   "source": [
    "def sum(a,b):\n",
    "    return a+b\n",
    "\n",
    "def sub(a,b):\n",
    "    return a-b\n",
    "\n",
    "a = parent(sum)\n",
    "print(a)"
   ]
  },
  {
   "cell_type": "markdown",
   "id": "5beea743",
   "metadata": {},
   "source": [
    "(5) Write a function whihc will take multiple list as a input and give me concatnation of all the element as \n",
    "and output "
   ]
  },
  {
   "cell_type": "code",
   "execution_count": 95,
   "id": "caa54ac2",
   "metadata": {},
   "outputs": [],
   "source": [
    "def multiplelist(*args):\n",
    "    total = []\n",
    "    for i in args:\n",
    "        total = total +i\n",
    "    return total        "
   ]
  },
  {
   "cell_type": "code",
   "execution_count": 97,
   "id": "23641f7e",
   "metadata": {},
   "outputs": [
    {
     "data": {
      "text/plain": [
       "[1, 2, 3, 4, 5, 6, 7, 8, 9]"
      ]
     },
     "execution_count": 97,
     "metadata": {},
     "output_type": "execute_result"
    }
   ],
   "source": [
    "a=[1,2,3,4]\n",
    "b=[5,6,7]\n",
    "c=[8,9]\n",
    "multiplelist(a,b,c) "
   ]
  },
  {
   "cell_type": "markdown",
   "id": "86fd4236",
   "metadata": {},
   "source": [
    "(6) Write a function which will be able to take a list as an input return an index of each element \n",
    "like a inbuilt index function but even if we have repetative element it should return index "
   ]
  },
  {
   "cell_type": "code",
   "execution_count": 6,
   "id": "3787526b",
   "metadata": {},
   "outputs": [],
   "source": [
    "def indexList(lists):\n",
    "    index =0\n",
    "    for i in lists:\n",
    "        print(index)\n",
    "        index=index+1\n",
    "        "
   ]
  },
  {
   "cell_type": "code",
   "execution_count": 8,
   "id": "3a4e9b5f",
   "metadata": {},
   "outputs": [
    {
     "name": "stdout",
     "output_type": "stream",
     "text": [
      "0\n",
      "1\n",
      "2\n",
      "3\n",
      "4\n"
     ]
    }
   ],
   "source": [
    "a=[4,2,3,5,3]\n",
    "indexList(a)"
   ]
  },
  {
   "cell_type": "markdown",
   "id": "3a79b97e",
   "metadata": {},
   "source": [
    "7 Write a function which will whould return list of all the file name from a directory ."
   ]
  },
  {
   "cell_type": "code",
   "execution_count": 20,
   "id": "188d8bc2",
   "metadata": {},
   "outputs": [],
   "source": [
    "import os\n",
    "def printdir(dir):\n",
    "    list = os.listdir(dir)\n",
    "    print(list)"
   ]
  },
  {
   "cell_type": "code",
   "execution_count": 21,
   "id": "d8586fc0",
   "metadata": {},
   "outputs": [
    {
     "name": "stdout",
     "output_type": "stream",
     "text": [
      "['.ipynb_checkpoints', 'Function and holiday task.ipynb', 'practice problem python basic.ipynb', 'Sudhanshu Sir Home Work Weekend.ipynb']\n"
     ]
    }
   ],
   "source": [
    "dir=\"D:\\\\Ineuron Homework\"\n",
    "printdir(dir)"
   ]
  },
  {
   "cell_type": "markdown",
   "id": "625cc69a",
   "metadata": {},
   "source": [
    "(8)Write a function which will be able to show your system configuration . "
   ]
  },
  {
   "cell_type": "code",
   "execution_count": 25,
   "id": "bc476caa",
   "metadata": {},
   "outputs": [],
   "source": [
    "import platform\n",
    "def systemconfig():\n",
    "    systemdata = platform.uname()\n",
    "    print(systemdata)"
   ]
  },
  {
   "cell_type": "code",
   "execution_count": 26,
   "id": "4d9b5338",
   "metadata": {},
   "outputs": [
    {
     "name": "stdout",
     "output_type": "stream",
     "text": [
      "uname_result(system='Windows', node='BINGO', release='10', version='10.0.19044', machine='AMD64')\n"
     ]
    }
   ],
   "source": [
    "systemconfig()"
   ]
  },
  {
   "cell_type": "markdown",
   "id": "3f69231a",
   "metadata": {},
   "source": [
    "(9) Write a function which will be able to show date and time . "
   ]
  },
  {
   "cell_type": "code",
   "execution_count": 36,
   "id": "4b7b902d",
   "metadata": {},
   "outputs": [
    {
     "name": "stdout",
     "output_type": "stream",
     "text": [
      "2022-01-08\n",
      "2022-01-08 01:04:11.268130\n"
     ]
    }
   ],
   "source": [
    "from datetime import date\n",
    "import datetime\n",
    "print(date.today())\n",
    "print(datetime.datetime.now())\n"
   ]
  },
  {
   "cell_type": "markdown",
   "id": "06417736",
   "metadata": {},
   "source": [
    "(10) Write a function whihc will be able to read a image file and show it to you ."
   ]
  },
  {
   "cell_type": "code",
   "execution_count": null,
   "id": "0ead84b0",
   "metadata": {},
   "outputs": [],
   "source": [
    "import matplotlib.image as img\n",
    "import matplotlib.pyplot as plt\n",
    "\n",
    "image = img.imread('testimage.jpg')\n",
    "plt.imshow(image)"
   ]
  },
  {
   "cell_type": "markdown",
   "id": "2700cb2e",
   "metadata": {},
   "source": [
    "(13) Write a function which will be able to shutdonw your system . "
   ]
  },
  {
   "cell_type": "code",
   "execution_count": 2,
   "id": "e224a397",
   "metadata": {},
   "outputs": [
    {
     "ename": "IndentationError",
     "evalue": "unexpected indent (Temp/ipykernel_10364/1260616319.py, line 2)",
     "output_type": "error",
     "traceback": [
      "\u001b[1;36m  File \u001b[1;32m\"C:\\Users\\DELL\\AppData\\Local\\Temp/ipykernel_10364/1260616319.py\"\u001b[1;36m, line \u001b[1;32m2\u001b[0m\n\u001b[1;33m    def shutdown():\u001b[0m\n\u001b[1;37m    ^\u001b[0m\n\u001b[1;31mIndentationError\u001b[0m\u001b[1;31m:\u001b[0m unexpected indent\n"
     ]
    }
   ],
   "source": [
    "import os\n",
    " def shutdown():\n",
    "        os.system(\"shutdown /s /t 1\")\n"
   ]
  },
  {
   "cell_type": "markdown",
   "id": "c2db00fd",
   "metadata": {},
   "source": [
    "(16)Write a func to read a complete PDf file . "
   ]
  },
  {
   "cell_type": "code",
   "execution_count": 4,
   "id": "88f6ca43",
   "metadata": {},
   "outputs": [],
   "source": [
    "import pandas as pd"
   ]
  },
  {
   "cell_type": "code",
   "execution_count": 5,
   "id": "f2e39b7e",
   "metadata": {},
   "outputs": [],
   "source": [
    "def readpdf(filename):\n",
    "    data = pd.readpdf(filename)\n",
    "    print(data)\n",
    "    "
   ]
  },
  {
   "cell_type": "markdown",
   "id": "e3c33d2d",
   "metadata": {},
   "source": [
    "(17) Write a function to read a word file."
   ]
  },
  {
   "cell_type": "code",
   "execution_count": 6,
   "id": "77b88ba6",
   "metadata": {},
   "outputs": [],
   "source": [
    "def readword(filename):\n",
    "    data = pd.readword(filename)\n",
    "    print(data)"
   ]
  },
  {
   "cell_type": "markdown",
   "id": "37e3f9a2",
   "metadata": {},
   "source": [
    "(19) Write a function by which you can print an ip address of your system . "
   ]
  },
  {
   "cell_type": "code",
   "execution_count": 1,
   "id": "db5d5ed2",
   "metadata": {},
   "outputs": [],
   "source": [
    "import socket as skt\n",
    "    "
   ]
  },
  {
   "cell_type": "code",
   "execution_count": 2,
   "id": "58044813",
   "metadata": {},
   "outputs": [],
   "source": [
    "def ipaddress():\n",
    "    hostname = skt.gethostname()\n",
    "    ipaddress = skt.gethostbyname(hostname)\n",
    "    print(ipaddress)"
   ]
  },
  {
   "cell_type": "code",
   "execution_count": 3,
   "id": "c5c2ecbb",
   "metadata": {},
   "outputs": [
    {
     "name": "stdout",
     "output_type": "stream",
     "text": [
      "192.168.0.110\n"
     ]
    }
   ],
   "source": [
    "ipaddress()"
   ]
  },
  {
   "cell_type": "markdown",
   "id": "e37da593",
   "metadata": {},
   "source": [
    "(18)Write a function which can help you to filter only word file from a directory . |"
   ]
  },
  {
   "cell_type": "code",
   "execution_count": 1,
   "id": "c97f1806",
   "metadata": {},
   "outputs": [],
   "source": [
    "import os"
   ]
  },
  {
   "cell_type": "code",
   "execution_count": 27,
   "id": "ead660bd",
   "metadata": {},
   "outputs": [],
   "source": [
    "def fileterWord():\n",
    "    for root,dir,filenames in os.walk(\".\"):\n",
    "        for file in filenames:\n",
    "            if file.endswith(\".word\"):\n",
    "                print(file)"
   ]
  },
  {
   "cell_type": "markdown",
   "id": "29f0c0b9",
   "metadata": {},
   "source": [
    "(20) Write a function by which you will be able to append two PDF files."
   ]
  },
  {
   "cell_type": "code",
   "execution_count": 29,
   "id": "4d8f819c",
   "metadata": {},
   "outputs": [
    {
     "ename": "ModuleNotFoundError",
     "evalue": "No module named 'PyPDF2'",
     "output_type": "error",
     "traceback": [
      "\u001b[1;31m---------------------------------------------------------------------------\u001b[0m",
      "\u001b[1;31mModuleNotFoundError\u001b[0m                       Traceback (most recent call last)",
      "\u001b[1;32m~\\AppData\\Local\\Temp/ipykernel_7944/1136148643.py\u001b[0m in \u001b[0;36m<module>\u001b[1;34m\u001b[0m\n\u001b[1;32m----> 1\u001b[1;33m \u001b[1;32mfrom\u001b[0m \u001b[0mPyPDF2\u001b[0m \u001b[1;32mimport\u001b[0m \u001b[0mPdfFileMerger\u001b[0m\u001b[1;33m\u001b[0m\u001b[1;33m\u001b[0m\u001b[0m\n\u001b[0m",
      "\u001b[1;31mModuleNotFoundError\u001b[0m: No module named 'PyPDF2'"
     ]
    }
   ],
   "source": [
    "from PyPDF2 import PdfFileMerger"
   ]
  },
  {
   "cell_type": "code",
   "execution_count": 30,
   "id": "a87d81d8",
   "metadata": {},
   "outputs": [
    {
     "name": "stdout",
     "output_type": "stream",
     "text": [
      "Collecting PyPDF2\n",
      "  Downloading PyPDF2-1.26.0.tar.gz (77 kB)\n",
      "Building wheels for collected packages: PyPDF2\n",
      "  Building wheel for PyPDF2 (setup.py): started\n",
      "  Building wheel for PyPDF2 (setup.py): finished with status 'done'\n",
      "  Created wheel for PyPDF2: filename=PyPDF2-1.26.0-py3-none-any.whl size=61101 sha256=0d69776636b71e967d52cf72e77c29bc8094c81acba2c5baed38e0e1e84327e9\n",
      "  Stored in directory: c:\\users\\dell\\appdata\\local\\pip\\cache\\wheels\\d9\\dc\\ec\\72da68331f30074b9950c1737c23cb8a67484e61498bc9713d\n",
      "Successfully built PyPDF2\n",
      "Installing collected packages: PyPDF2\n",
      "Successfully installed PyPDF2-1.26.0\n",
      "Note: you may need to restart the kernel to use updated packages.\n"
     ]
    }
   ],
   "source": [
    "pip install PyPDF2"
   ]
  },
  {
   "cell_type": "code",
   "execution_count": 31,
   "id": "38379b78",
   "metadata": {},
   "outputs": [],
   "source": [
    "from PyPDF2 import PdfFileMerger"
   ]
  },
  {
   "cell_type": "code",
   "execution_count": 34,
   "id": "52229360",
   "metadata": {},
   "outputs": [],
   "source": [
    "def pdfmerger():\n",
    "    pdffile = [\"sample1.pdf\",\"sample2.pdf\"]\n",
    "    merger = PdfFileMerger()\n",
    "    for pdf in pdffile:\n",
    "        merger.append(pdf)\n",
    "    merger.write('result.pdf')\n",
    "    merger.close()"
   ]
  },
  {
   "cell_type": "markdown",
   "id": "525b3d00",
   "metadata": {},
   "source": [
    "Question Compleated :-\n",
    "1 . you have to write a fun which will take string and return a len of \n",
    "it without using a inbuilt fun len\n",
    "2 . write a fun which will be able to print an index of all premitive element which you will pass \n",
    "3 . Write a fun which will take input as a dict and give me out as a list of all the values \n",
    "even in case of 2 level nesting it should work . \n",
    "4 . write a fun which will take another function as an input and return me an output \n",
    "5. write a function whihc will take multiple list as a input and give me concatnation of all the element as \n",
    "and output \n",
    "6 . write a function which will be able to take a list as an input return an index of each element \n",
    "like a inbuilt index function but even if we have repetative element it should return index \n",
    "7 . Write a function which will whould return list of all the file name from a directory . \n",
    "8  . write a function which will be able to show your system configuration . \n",
    "9 . write a function which will be able to show date and time  . \n",
    "10 . write a function whihc will be able to read a image file and show it to you .\n",
    "13 . write a function which will be able to shutdonw your system .\n",
    "16. write a func to read a complete PDf file . \n",
    "17. write a function to read a word file . \n",
    "18 . write a function which can help you to filter only word file from a directory . \n",
    "19 . write a function by which you can print an ip address of your system . \n",
    "20 . write a function by which you will be able to append two PDF files . "
   ]
  },
  {
   "cell_type": "code",
   "execution_count": null,
   "id": "801188c5",
   "metadata": {},
   "outputs": [],
   "source": []
  }
 ],
 "metadata": {
  "kernelspec": {
   "display_name": "Python 3 (ipykernel)",
   "language": "python",
   "name": "python3"
  },
  "language_info": {
   "codemirror_mode": {
    "name": "ipython",
    "version": 3
   },
   "file_extension": ".py",
   "mimetype": "text/x-python",
   "name": "python",
   "nbconvert_exporter": "python",
   "pygments_lexer": "ipython3",
   "version": "3.9.7"
  }
 },
 "nbformat": 4,
 "nbformat_minor": 5
}
