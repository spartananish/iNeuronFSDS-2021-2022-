{
 "cells": [
  {
   "cell_type": "markdown",
   "id": "cecff22f",
   "metadata": {},
   "source": [
    "(1)What does an empty dictionary's code look like?"
   ]
  },
  {
   "cell_type": "markdown",
   "id": "98e3ee51",
   "metadata": {},
   "source": [
    "Answer --> emptyDictionary = dict()"
   ]
  },
  {
   "cell_type": "markdown",
   "id": "a8a30a38",
   "metadata": {},
   "source": [
    "\n",
    "(2) What is the value of a dictionary value with the key 'foo' and the value 42?"
   ]
  },
  {
   "cell_type": "markdown",
   "id": "aac84897",
   "metadata": {},
   "source": [
    "Answer --> The value of dictionary will  be one , and the value stored for key word 'foo' will be 42."
   ]
  },
  {
   "cell_type": "markdown",
   "id": "cf99ed20",
   "metadata": {},
   "source": [
    "(3)What is the most significant distinction between a dictionary and a list?"
   ]
  },
  {
   "cell_type": "markdown",
   "id": "fa2ecea6",
   "metadata": {},
   "source": [
    "Answer-->A list is an ordered sequence of objects, whereas dictionaries are unordered sets."
   ]
  },
  {
   "cell_type": "markdown",
   "id": "2dc8c195",
   "metadata": {},
   "source": [
    "(4)What happens if you try to access spam['foo'] if spam is {'bar': 100}?"
   ]
  },
  {
   "cell_type": "markdown",
   "id": "cebff470",
   "metadata": {},
   "source": [
    "Answer--> There is no difference. The operator check weather value exist as a key in a dictionary."
   ]
  },
  {
   "cell_type": "markdown",
   "id": "21563594",
   "metadata": {},
   "source": [
    "(5) If a dictionary is stored in spam, what is the difference between the expressions 'cat' in spam and 'cat' in spam.keys()?"
   ]
  },
  {
   "cell_type": "markdown",
   "id": "4e1f1f6d",
   "metadata": {},
   "source": [
    "ANswer--> There is no difference. The in operator checks whether a value exists as a key in the dictionary."
   ]
  },
  {
   "cell_type": "markdown",
   "id": "e9ed44a1",
   "metadata": {},
   "source": [
    "(6)If a dictionary is stored in spam, what is the difference between the expressions 'cat' in spam and 'cat' in spam.values()?"
   ]
  },
  {
   "cell_type": "markdown",
   "id": "56b4af7a",
   "metadata": {},
   "source": [
    "Answer--> spam.values() willl return the value stored corresponding to that key."
   ]
  },
  {
   "cell_type": "markdown",
   "id": "fc872205",
   "metadata": {},
   "source": [
    "(7) What is a shortcut for the following code?\n",
    "if 'color' not in spam:\n",
    "spam['color'] = 'black'\n"
   ]
  },
  {
   "cell_type": "markdown",
   "id": "6252196b",
   "metadata": {},
   "source": [
    "Answer--> if !spam['color']='black'"
   ]
  },
  {
   "cell_type": "markdown",
   "id": "37f2cfff",
   "metadata": {},
   "source": [
    "(8)How do you \"pretty print\" dictionary values using which module and function?"
   ]
  },
  {
   "cell_type": "markdown",
   "id": "a3827936",
   "metadata": {},
   "source": [
    "Answer--> we can use pprint() method fro this purpose."
   ]
  },
  {
   "cell_type": "code",
   "execution_count": null,
   "id": "3c02ccf4",
   "metadata": {},
   "outputs": [],
   "source": []
  }
 ],
 "metadata": {
  "kernelspec": {
   "display_name": "Python 3 (ipykernel)",
   "language": "python",
   "name": "python3"
  },
  "language_info": {
   "codemirror_mode": {
    "name": "ipython",
    "version": 3
   },
   "file_extension": ".py",
   "mimetype": "text/x-python",
   "name": "python",
   "nbconvert_exporter": "python",
   "pygments_lexer": "ipython3",
   "version": "3.9.7"
  }
 },
 "nbformat": 4,
 "nbformat_minor": 5
}
