{
 "cells": [
  {
   "cell_type": "markdown",
   "id": "3560a767",
   "metadata": {},
   "source": [
    " 1. Is there any way to combine five different models that have all been trained on the same training data and have all achieved 95 percent precision? If so, how can you go about doing it? If not, what is the reason?"
   ]
  },
  {
   "cell_type": "markdown",
   "id": "1ad2b814",
   "metadata": {},
   "source": [
    "Answer: Hybrid Model: A technique that combines two or more different machine learning models in some way. But we can't get 95 percent precision as all other models give different precision rate accuracy is differed."
   ]
  },
  {
   "cell_type": "markdown",
   "id": "35af6488",
   "metadata": {},
   "source": [
    "2. What's the difference between hard voting classifiers and soft voting classifiers?"
   ]
  },
  {
   "cell_type": "markdown",
   "id": "ff063365",
   "metadata": {},
   "source": [
    "Answer: In hard voting (also known as majority voting), every individual classifier votes for a class, and the majority wins. In statistical terms, the predicted target label of the ensemble is the mode of the distribution of individually predicted labels.\n",
    "\n",
    "In soft voting, every individual classifier provides a probability value that a specific data point belongs to a particular target class. The predictions are weighted by the classifier's importance and summed up. Then the target label with the greatest sum of weighted probabilities wins the vote."
   ]
  },
  {
   "cell_type": "markdown",
   "id": "e27e72d2",
   "metadata": {},
   "source": [
    "3. Is it possible to distribute a bagging ensemble's training through several servers to speed up the process? Pasting ensembles, boosting ensembles, Random Forests, and stacking ensembles are all options."
   ]
  },
  {
   "cell_type": "markdown",
   "id": "89c04e5c",
   "metadata": {},
   "source": [
    "Answer: When sampling is performed without replacement, it is called pasting. In other words, both approaches are similar.In both cases you are sampling the training data to build multiple instances of a classifier.\n",
    "\n",
    "Boosting is a general ensemble method that creates a strong classifier from a number of weak classifiers. This is done by building a model from the training data, then creating a second model that attempts to correct the errors from the first model. It is the best starting point for understanding boosting."
   ]
  },
  {
   "cell_type": "markdown",
   "id": "b3cae5c2",
   "metadata": {},
   "source": [
    "\n",
    "4. What is the advantage of evaluating out of the bag?\n"
   ]
  },
  {
   "cell_type": "markdown",
   "id": "a9e7b3b6",
   "metadata": {},
   "source": [
    "Ans: The advantage of the OOB method is that it requires less computation and allows one to test the model as it is being trained."
   ]
  },
  {
   "cell_type": "markdown",
   "id": "d069acee",
   "metadata": {},
   "source": [
    "\n",
    "5. What distinguishes Extra-Trees from ordinary Random Forests? What good would this extra randomness do? Is it true that Extra-Tree Random Forests are slower or faster than normal Random Forests?"
   ]
  },
  {
   "cell_type": "markdown",
   "id": "0319cec9",
   "metadata": {},
   "source": [
    "Answer: Random forest uses bootstrap replicas, that is to say, it subsamples the input data with replacement, whereas Extra Trees use the whole original sample. This may increase variance because bootstrapping makes it more diversified.\n",
    "\n",
    "Random forest adds additional randomness to the model, while growing the trees. Instead of searching for the most important feature while splitting a node, it searches for the best feature among a random subset of features. This results in a wide diversity that generally results in a better model. Extra Trees is much faster.\n",
    "\n",
    "This is because instead of looking for the optimal split at each node it does it randomly."
   ]
  },
  {
   "cell_type": "markdown",
   "id": "100380fd",
   "metadata": {},
   "source": [
    "6. Which hyperparameters and how do you tweak if your AdaBoost ensemble underfits the training data?"
   ]
  },
  {
   "cell_type": "markdown",
   "id": "4a68c93a",
   "metadata": {},
   "source": [
    "Answer: If your AdaBoost ensemble underfits the training data, you can try increasing the number of estimators or reducing the regularization hyperparameters of the base estimator. You may also try slightly increasing the learning rate."
   ]
  },
  {
   "cell_type": "markdown",
   "id": "564e3aee",
   "metadata": {},
   "source": [
    "\n",
    "7. Should you raise or decrease the learning rate if your Gradient Boosting ensemble overfits the training set?\n"
   ]
  },
  {
   "cell_type": "markdown",
   "id": "2c55b1c5",
   "metadata": {},
   "source": [
    "Answer: If your Gradient Boosting ensemble overfits the training set, you should try decreasing the learning rate. You could also use early stopping to find the right number of predictors (you probably have too many)"
   ]
  },
  {
   "cell_type": "code",
   "execution_count": null,
   "id": "a1b5b7cb",
   "metadata": {},
   "outputs": [],
   "source": []
  }
 ],
 "metadata": {
  "kernelspec": {
   "display_name": "Python 3 (ipykernel)",
   "language": "python",
   "name": "python3"
  },
  "language_info": {
   "codemirror_mode": {
    "name": "ipython",
    "version": 3
   },
   "file_extension": ".py",
   "mimetype": "text/x-python",
   "name": "python",
   "nbconvert_exporter": "python",
   "pygments_lexer": "ipython3",
   "version": "3.9.7"
  }
 },
 "nbformat": 4,
 "nbformat_minor": 5
}
