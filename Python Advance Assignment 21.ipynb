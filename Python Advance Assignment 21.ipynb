{
 "cells": [
  {
   "cell_type": "markdown",
   "id": "93c0e3e8",
   "metadata": {},
   "source": [
    "Q1. What is a probability distribution, exactly? If the values are meant to be random, how can you predict them at all?"
   ]
  },
  {
   "cell_type": "markdown",
   "id": "ddb56068",
   "metadata": {},
   "source": [
    "A probability distribution describes how a random variable is distributed.\n",
    "\n",
    "It tells us which values a random variable is most likely to take on and which values are less likely. Based on the previous data and the occurences of the random event, we can predict the outcome in terms of probabilities"
   ]
  },
  {
   "cell_type": "markdown",
   "id": "4a5fb4e5",
   "metadata": {},
   "source": [
    "Q2. Is there a distinction between true random numbers and pseudo-random numbers, if there is one? Why are the latter considered “good enough”?"
   ]
  },
  {
   "cell_type": "markdown",
   "id": "2212c15b",
   "metadata": {},
   "source": [
    "True Random Numbers are true physical values while pseudo-random numbers are generated internally by a program. Both utilization depends upon the the requirement of utilization and problem statement."
   ]
  },
  {
   "cell_type": "markdown",
   "id": "21cac329",
   "metadata": {},
   "source": [
    "Q3. What are the two main factors that influence the behaviour of a \"normal\" probability distribution?"
   ]
  },
  {
   "cell_type": "markdown",
   "id": "b362a426",
   "metadata": {},
   "source": [
    "The factor are basically means and variance which influence normal probability distribution ."
   ]
  },
  {
   "cell_type": "markdown",
   "id": "88d31bd8",
   "metadata": {},
   "source": [
    "Q4. Provide a real-life example of a normal distribution."
   ]
  },
  {
   "cell_type": "markdown",
   "id": "f1f91ab8",
   "metadata": {},
   "source": [
    "Height ,weight and Blooed are one of the prime  example of nor mal distribution."
   ]
  },
  {
   "cell_type": "markdown",
   "id": "939c5424",
   "metadata": {},
   "source": [
    "\n",
    "Q5. In the short term, how can you expect a probability distribution to behave? What do you think will happen as the number of trials grows?\n"
   ]
  },
  {
   "cell_type": "markdown",
   "id": "5197bd1e",
   "metadata": {},
   "source": [
    "Variance will decrease with number of trials."
   ]
  },
  {
   "cell_type": "markdown",
   "id": "331a5679",
   "metadata": {},
   "source": [
    "\n",
    "Q6. What kind of object can be shuffled by using random.shuffle?\n"
   ]
  },
  {
   "cell_type": "markdown",
   "id": "95f246d3",
   "metadata": {},
   "source": [
    "The object used by it are as follows list(),String(),tuple()"
   ]
  },
  {
   "cell_type": "markdown",
   "id": "093c85c7",
   "metadata": {},
   "source": [
    "\n",
    "\n",
    "Q7. Describe the math package's general categories of functions.\n"
   ]
  },
  {
   "cell_type": "markdown",
   "id": "a10d2cac",
   "metadata": {},
   "source": [
    "The math pacakage general categories function are as follows:-Trigonometric functions\n",
    "Quadratic functions\n",
    "Exponential functions\n",
    "Hyperbolic functions\n",
    "Periodic functions\n",
    "Arithmetic functions\n",
    "Logarithimic functions\n",
    "Conversions to Integer"
   ]
  },
  {
   "cell_type": "markdown",
   "id": "cc54886b",
   "metadata": {},
   "source": [
    "Q8. What is the relationship between exponentiation and logarithms?"
   ]
  },
  {
   "cell_type": "markdown",
   "id": "4df83505",
   "metadata": {},
   "source": [
    " Exponentiation and logarithms are inverse of each other."
   ]
  },
  {
   "cell_type": "markdown",
   "id": "9a6c4d80",
   "metadata": {},
   "source": [
    "\n",
    "Q9. What are the three logarithmic functions that Python supports?\n"
   ]
  },
  {
   "cell_type": "markdown",
   "id": "06cc1505",
   "metadata": {},
   "source": [
    "The Three Logarithmic Functions that Python supports are:\n",
    "\n",
    "log2(x) - logarithmic value of x to base 2\n",
    "log10(x) - logarithmic value of x to base 10\n",
    "log1p(a) - This function is used to compute logarithm(1+a) ."
   ]
  },
  {
   "cell_type": "code",
   "execution_count": null,
   "id": "9badb8cc",
   "metadata": {},
   "outputs": [],
   "source": []
  }
 ],
 "metadata": {
  "kernelspec": {
   "display_name": "Python 3 (ipykernel)",
   "language": "python",
   "name": "python3"
  },
  "language_info": {
   "codemirror_mode": {
    "name": "ipython",
    "version": 3
   },
   "file_extension": ".py",
   "mimetype": "text/x-python",
   "name": "python",
   "nbconvert_exporter": "python",
   "pygments_lexer": "ipython3",
   "version": "3.9.7"
  }
 },
 "nbformat": 4,
 "nbformat_minor": 5
}
