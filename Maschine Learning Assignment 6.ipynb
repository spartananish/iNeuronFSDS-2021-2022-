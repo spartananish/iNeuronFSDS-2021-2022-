{
 "cells": [
  {
   "cell_type": "markdown",
   "id": "09013a3a",
   "metadata": {},
   "source": [
    "1. In the sense of machine learning, what is a model? What is the best way to train a model?"
   ]
  },
  {
   "cell_type": "markdown",
   "id": "2392b6bb",
   "metadata": {},
   "source": [
    "Answer: A Machine Learning Model is a file that has been trained to recognize certain types of patterns. You train a model over a set of data, providing it an algorithm that it can use to reason over and learn from those data.\n",
    "\n",
    "1.Model Naming — Give Your Model a Name, Let’s start with giving your model a name, describe your model and attach tags to your model. Tags are to make your model searchable.\n",
    "\n",
    "2.Data Type Selection — Choose data type(Images/Text/CSV), It’s time to tell us about the type of data you want to train your model. ML Models support Images, Text and *.CSV (categorical data) data types.\n",
    "\n",
    "3.Data Upload — Upload your data or choose from Public Data Sets: Choose from public datasets like Jewellery Data set (Images), Gender Data Set (Images), Question or Sentence Data Set (Text), Numerai Data Set (CSV) or upload your data.\n",
    "\n",
    "4.Type category(label) for the files (images/text file) that you have uploaded and click on submit to begin upload. Wait for some time till our web app uploads all the files. You can upload images for as many categories as possible.\n",
    "\n",
    "5.Start Training - Push the button, to start the training. Now Mateverse’s intelligent backend will start with processing the data that you have uploaded and preparing it for the training."
   ]
  },
  {
   "cell_type": "markdown",
   "id": "82be61c4",
   "metadata": {},
   "source": [
    "2. In the sense of machine learning, explain the \"No Free Lunch\" theorem."
   ]
  },
  {
   "cell_type": "markdown",
   "id": "d6ef597f",
   "metadata": {},
   "source": [
    "Answer: The No Free Lunch Theorem, often abbreviated as NFL or NFLT, is a theoretical finding that suggests all optimization algorithms perform equally well when their performance is averaged over all possible objective functions. In computational complexity and optimization the no free lunch theorem is a result that states that for certain types of mathematical problems, the computational cost of finding a solution, averaged over all problems in the class, is the same for any solution method."
   ]
  },
  {
   "cell_type": "markdown",
   "id": "0bb2b3ac",
   "metadata": {},
   "source": [
    "3. Describe the K-fold cross-validation mechanism in detail."
   ]
  },
  {
   "cell_type": "markdown",
   "id": "fedceb29",
   "metadata": {},
   "source": [
    "Answer: In K-fold cross validation, data D is subset into k subsets randomly. Let us assume S1...Sk are the subsets where Sk is the kth randomly split subset of data D. In the first iteration, D-S1 is used for training and S1 for testing the model. When the model has been trained and tested, evaluation can be done, score is noted elsewhere and the trained model is discarded."
   ]
  },
  {
   "cell_type": "markdown",
   "id": "c2e46c87",
   "metadata": {},
   "source": [
    "4. Describe the bootstrap sampling method. What is the aim of it?"
   ]
  },
  {
   "cell_type": "markdown",
   "id": "ea869699",
   "metadata": {},
   "source": [
    "Answer: The bootstrap method is a statistical technique for estimating quantities about a population by averaging estimates from multiple small data samples.\n",
    "\n",
    "Importantly, samples are constructed by drawing observations from a large data sample one at a time and returning them to the data sample after they have been chosen. This allows a given observation to be included in a given small sample more than once. This approach to sampling is called sampling with replacement."
   ]
  },
  {
   "cell_type": "markdown",
   "id": "27b637ec",
   "metadata": {},
   "source": [
    "\n",
    "5. What is the significance of calculating the Kappa value for a classification model? Demonstrate how to measure the Kappa value of a classification model using a sample collection of results.\n"
   ]
  },
  {
   "cell_type": "markdown",
   "id": "ea117040",
   "metadata": {},
   "source": [
    "Answer: Kappa value or Cohen's Kappa coefficient is an evaluation metric for classification models. Its significance as an evaluation metric is that it can be used to evaluate multi class classification models and also works on models trained on imbalanced datasets(scores like accuracy scores fail for imbalanced datasets).\n",
    "\n",
    "In simpler words It basically tells you how much better your classifier is performing over the performance of a classifier that simply guesses at random according to the frequency of each class. Cohen's kappa is always less than or equal to 1. Values of 0 or less, indicate that the classifier is useless Cohen suggested the Kappa result be interpreted as follows: values ≤ 0 as indicating no agreement and 0.01–0.20 as none to slight, 0.21–0.40 as fair, 0.41– 0.60 as moderate, 0.61–0.80 as substantial, and 0.81–1.00 as almost perfect agreement."
   ]
  },
  {
   "cell_type": "markdown",
   "id": "55946df6",
   "metadata": {},
   "source": [
    "6. Describe the model ensemble method. In machine learning, what part does it play?"
   ]
  },
  {
   "cell_type": "markdown",
   "id": "50a87a1f",
   "metadata": {},
   "source": [
    "Answer: Ensemble methods or ensemble machine learning models are models where more than one models are being used spontaneously to produce better results than individually trained models."
   ]
  },
  {
   "cell_type": "markdown",
   "id": "a06f7d76",
   "metadata": {},
   "source": [
    "7. What is a descriptive model's main purpose? Give examples of real-world problems that descriptive models were used to solve."
   ]
  },
  {
   "cell_type": "markdown",
   "id": "f79590b5",
   "metadata": {},
   "source": [
    "Answer: A descriptive model is used for tasks that would benefit from the insight gained from summarizing data in new and interesting ways. As opposed to predictive models that predict a target of interest, in a descriptive model, no single feature is more important than any other. In fact, because there is no target to learn, the process of training a descriptive model is called unsupervised learning."
   ]
  },
  {
   "cell_type": "markdown",
   "id": "e7d89295",
   "metadata": {},
   "source": [
    "8. Describe how to evaluate a linear regression model."
   ]
  },
  {
   "cell_type": "markdown",
   "id": "bd4beaed",
   "metadata": {},
   "source": [
    "Answer: Evaluation of a linear regression model can be done using R-square. R square is calculated as the sum of squared errors in predictions made, divided by summation of all sum of squares. R square measures how much of the change in target variable can be explained by the linear regressor"
   ]
  },
  {
   "cell_type": "markdown",
   "id": "4858e877",
   "metadata": {},
   "source": [
    "9. Distinguish :\n",
    "\n",
    "1. Descriptive vs. predictive models\n",
    "\n",
    "2. Underfitting vs. overfitting the model\n",
    "\n",
    "3. Bootstrapping vs. cross-validation\n"
   ]
  },
  {
   "cell_type": "markdown",
   "id": "c0e662ff",
   "metadata": {},
   "source": [
    "Answer: The differences between above 3 are as follows:\n",
    "\n",
    "Descriptive vs. predictive models:- \n",
    "\n",
    "Descriptive models are built to identify trends and underlying patterns.\n",
    "\n",
    "Predictive models are built to predict a dependent variable value.\n",
    "\n",
    "Most of descriptive models are built using unsupervised machine learning.\n",
    "\n",
    "Most of predictive models are built using classification and regression models.\n",
    "\n",
    "Underfitting vs. overfitting the model\n",
    "\n",
    "Underfitting is a situation arising when the hypothesis is way too simple, or when the machine learning model is way too simple to produce good results.\n",
    "\n",
    "Overfitting is a situation arising when the hypothesis is way too complex, or when the machine learning model is way too complex to produce good results.\n",
    "\n",
    "Underfitting causes a model to produce poor results due to heavily simplified algorithm reacting lightly to changes in the unseen data for independent variables from the training data.\n",
    "\n",
    "Overfitting makes a model produce poor results due to slightest variations in the unseen data for independent variables from the training data\n",
    "\n",
    "Bootstrapping vs cross-validation\n",
    "\n",
    "Boostrap sampling is a method of sampling in which the repeated sampling is done with replacement using a data D in random draws over which machine learning models are trained for better performance.\n",
    "\n",
    "Cross validation is a method used to check the efficacy of the machine learning model on test data.\n",
    "\n",
    "End goal of bootstrapping is to reduce overfitting and increase performance.\n",
    "\n",
    "End goal of cross validation is only to produce test scores to check efficacy of model"
   ]
  },
  {
   "cell_type": "markdown",
   "id": "7400e72a",
   "metadata": {},
   "source": [
    "10. Make quick notes on:\n",
    "\n",
    "            1. LOOCV.\n",
    "\n",
    "            2. F-measurement\n",
    "\n",
    "            3. The width of the silhouette\n",
    "\n",
    "             4. Receiver operating characteristic curve\n"
   ]
  },
  {
   "cell_type": "markdown",
   "id": "82dbd9bb",
   "metadata": {},
   "source": [
    "Answer: The Quick notes on: LOOCV or Leave One Out Cross Validation is a form of K-fold cross validation where only one observation is left out for validation purpose while the rest of the data is used for model training each iteration. It is computationally taxing and should only be used for data with low dimensionality.\n",
    "\n",
    "Harmonic mean of Precision score and recall score is called F-measurement or F-score. It is formulated as 2 (pr re)/pr +re where pr is precision score and re is recall score.\n",
    "\n",
    "Estimate of average inter cluster distance to give efficacy/performance of cluster algorithms is called width of the silhouette. It can also be defined as how identical/similar a data point 'x' is to the data points inside the cluster to which x is assigned. Its value ranges from -1 to 1 where 1 means good and -1 means bad.\n",
    "\n",
    "Curve plotted between True Positive Rate and False Positive Rate is Receiver Operating Characteristics curve and is used to find the area under the curve for ROC-AUC score for binary classification evaluation. True Positive Rate and False Positive Rate are calculated for different thresholds values where thresholds take values starting from the highest probability scores assigned to data points and goes up to the lowest probability score. The curve is impacted by presence of outliers, and simple models. Extensions can be made to this curve to suit multiclass classification evaluation requirements."
   ]
  },
  {
   "cell_type": "code",
   "execution_count": null,
   "id": "e2bddbcb",
   "metadata": {},
   "outputs": [],
   "source": []
  }
 ],
 "metadata": {
  "kernelspec": {
   "display_name": "Python 3 (ipykernel)",
   "language": "python",
   "name": "python3"
  },
  "language_info": {
   "codemirror_mode": {
    "name": "ipython",
    "version": 3
   },
   "file_extension": ".py",
   "mimetype": "text/x-python",
   "name": "python",
   "nbconvert_exporter": "python",
   "pygments_lexer": "ipython3",
   "version": "3.9.7"
  }
 },
 "nbformat": 4,
 "nbformat_minor": 5
}
