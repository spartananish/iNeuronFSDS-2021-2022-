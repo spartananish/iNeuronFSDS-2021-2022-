{
 "cells": [
  {
   "cell_type": "markdown",
   "id": "935a9bb5",
   "metadata": {},
   "source": [
    "Q-1. Write an SQL query to fetch intersecting records of two tables."
   ]
  },
  {
   "cell_type": "markdown",
   "id": "b263bea0",
   "metadata": {},
   "source": [
    "Answer:- SELECT <Column_names> FROM table_1 INTERSECT SELECT <Column_names> FROM table_2;"
   ]
  },
  {
   "cell_type": "markdown",
   "id": "591a2c09",
   "metadata": {},
   "source": [
    "Q-2. Write an SQL query to show records from one table that another table does not have."
   ]
  },
  {
   "cell_type": "markdown",
   "id": "445ecce6",
   "metadata": {},
   "source": [
    "Answer:- SELECT * FROM table_1 EXCEPT SELECT * FROM table_2;"
   ]
  },
  {
   "cell_type": "code",
   "execution_count": null,
   "id": "3d16b462",
   "metadata": {},
   "outputs": [],
   "source": []
  },
  {
   "cell_type": "code",
   "execution_count": null,
   "id": "08ededee",
   "metadata": {},
   "outputs": [],
   "source": []
  }
 ],
 "metadata": {
  "kernelspec": {
   "display_name": "Python 3 (ipykernel)",
   "language": "python",
   "name": "python3"
  },
  "language_info": {
   "codemirror_mode": {
    "name": "ipython",
    "version": 3
   },
   "file_extension": ".py",
   "mimetype": "text/x-python",
   "name": "python",
   "nbconvert_exporter": "python",
   "pygments_lexer": "ipython3",
   "version": "3.9.7"
  }
 },
 "nbformat": 4,
 "nbformat_minor": 5
}
