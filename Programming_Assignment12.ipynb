{
 "cells": [
  {
   "cell_type": "markdown",
   "id": "18135b59",
   "metadata": {},
   "source": [
    "1.\tWrite a Python program to Extract Unique values dictionary values?"
   ]
  },
  {
   "cell_type": "code",
   "execution_count": 3,
   "id": "eeedb177",
   "metadata": {},
   "outputs": [],
   "source": [
    "def uniqueDic(dic):\n",
    "    my_dict = {'hi' : [5,3,8, 0],\n",
    "   'there' : [22, 51, 63, 77],\n",
    "   'how' : [7, 0, 22],\n",
    "   'are' : [12, 11, 45],\n",
    "   'you' : [56, 31, 89, 90]}\n",
    "    uniqueValue = list(sorted({elem for val in my_dict.values() for elem in val}))\n",
    "    print(uniqueValue)\n",
    "    "
   ]
  },
  {
   "cell_type": "markdown",
   "id": "816b67a4",
   "metadata": {},
   "source": [
    "2.\tWrite a Python program to find the sum of all items in a dictionary?"
   ]
  },
  {
   "cell_type": "code",
   "execution_count": 11,
   "id": "23c125cb",
   "metadata": {},
   "outputs": [],
   "source": [
    "def dictionarysum():\n",
    "    sum=0\n",
    "    my_dict = {'hi' : 4,\n",
    "   'there' : 5,\n",
    "   'how' : 4,\n",
    "   'are' : 34,\n",
    "   'you' : 36}\n",
    "    for values in my_dict.values():\n",
    "        sum = sum + values\n",
    "    print(sum)\n",
    "    \n",
    "   "
   ]
  },
  {
   "cell_type": "code",
   "execution_count": 9,
   "id": "6e0a247e",
   "metadata": {},
   "outputs": [
    {
     "name": "stdout",
     "output_type": "stream",
     "text": [
      "83\n"
     ]
    }
   ],
   "source": [
    "dictionarysum()"
   ]
  },
  {
   "cell_type": "markdown",
   "id": "11b9fcec",
   "metadata": {},
   "source": [
    "3.\tWrite a Python program to Merging two Dictionaries?"
   ]
  },
  {
   "cell_type": "code",
   "execution_count": 15,
   "id": "bb0a3a07",
   "metadata": {},
   "outputs": [],
   "source": [
    "def dictionarysum(dict1,dict2):\n",
    "    return dict1.update(dict2)\n",
    "    "
   ]
  },
  {
   "cell_type": "markdown",
   "id": "4edae895",
   "metadata": {},
   "source": [
    "4.\tWrite a Python program to convert key-values list to flat dictionary?"
   ]
  },
  {
   "cell_type": "code",
   "execution_count": 18,
   "id": "31ef0ffa",
   "metadata": {},
   "outputs": [],
   "source": [
    "def flatDictionary():\n",
    "    my_dict = {'month_num' : [1, 2, 3, 4, 5, 6], 'name_of_month' : ['Jan', 'Feb', 'March', 'Apr', 'May', 'June']}\n",
    "    my_result = dict(zip(my_dict['month_num'], my_dict['name_of_month']))\n",
    "    print(my_result)\n"
   ]
  },
  {
   "cell_type": "markdown",
   "id": "85e13199",
   "metadata": {},
   "source": [
    "5.\tWrite a Python program to insertion at the beginning in OrderedDict?"
   ]
  },
  {
   "cell_type": "code",
   "execution_count": 20,
   "id": "dfed5d78",
   "metadata": {},
   "outputs": [],
   "source": [
    "from collections import OrderedDict\n",
    "def ordereddict():\n",
    "    iniordered_dict = OrderedDict([('akshat', '1'), ('nikhil', '2')])\n",
    "    iniordered_dict.update({'manjeet':'3'})\n",
    "    iniordered_dict.move_to_end('manjeet', last = False)\n",
    "    print (\"Resultant Dictionary : \"+str(iniordered_dict))"
   ]
  },
  {
   "cell_type": "markdown",
   "id": "4a2ce65f",
   "metadata": {},
   "source": [
    "6.\tWrite a Python program to check order of character in string using OrderedDict()?"
   ]
  },
  {
   "cell_type": "code",
   "execution_count": 21,
   "id": "156b2ce6",
   "metadata": {},
   "outputs": [],
   "source": [
    "def dictionairy():     \n",
    "    key_value ={}   \n",
    "    key_value[2] = 56      \n",
    "    key_value[1] = 2\n",
    "    key_value[5] = 12\n",
    "    key_value[4] = 24\n",
    "    key_value[6] = 18     \n",
    "    key_value[3] = 323\n",
    "    print (\"Task 1:-\\n\")\n",
    "    print (\"Keys are\")\n",
    "    for i in sorted (key_value.keys()) :\n",
    "        print(i, end = \" \")\n",
    " "
   ]
  },
  {
   "cell_type": "code",
   "execution_count": null,
   "id": "ea4581eb",
   "metadata": {},
   "outputs": [],
   "source": []
  }
 ],
 "metadata": {
  "kernelspec": {
   "display_name": "Python 3 (ipykernel)",
   "language": "python",
   "name": "python3"
  },
  "language_info": {
   "codemirror_mode": {
    "name": "ipython",
    "version": 3
   },
   "file_extension": ".py",
   "mimetype": "text/x-python",
   "name": "python",
   "nbconvert_exporter": "python",
   "pygments_lexer": "ipython3",
   "version": "3.9.7"
  }
 },
 "nbformat": 4,
 "nbformat_minor": 5
}
