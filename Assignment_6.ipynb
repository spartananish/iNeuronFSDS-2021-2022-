{
 "cells": [
  {
   "cell_type": "markdown",
   "id": "220f4ef2",
   "metadata": {},
   "source": [
    "(1)-->What are escape characters, and how do you use them?"
   ]
  },
  {
   "cell_type": "markdown",
   "id": "b6bcef3d",
   "metadata": {},
   "source": [
    "Answer--> An escape character is a backslash \\ followed by the character you want to insert. It is basically use to give space or jump to next line etc."
   ]
  },
  {
   "cell_type": "markdown",
   "id": "6fe3c221",
   "metadata": {},
   "source": [
    "(2)-->What do the escape characters n and t stand for?"
   ]
  },
  {
   "cell_type": "markdown",
   "id": "0870e35e",
   "metadata": {},
   "source": [
    "Answer-->\\n - New Line,  \\t- tab"
   ]
  },
  {
   "cell_type": "markdown",
   "id": "ed3d9029",
   "metadata": {},
   "source": [
    "(3) What is the way to include backslash characters in a string?"
   ]
  },
  {
   "cell_type": "markdown",
   "id": "68c6ed1f",
   "metadata": {},
   "source": [
    "Answer--> We can use '\\\\' within the string literal."
   ]
  },
  {
   "cell_type": "markdown",
   "id": "faa2707f",
   "metadata": {},
   "source": [
    "(4)The string \"Howl's Moving Castle\" is a correct value. Why isn't the single quote character in the word Howl's not escaped a problem?"
   ]
  },
  {
   "cell_type": "markdown",
   "id": "2fed1a35",
   "metadata": {},
   "source": [
    "Answer--> Because we used double quote to mark string strat and end and withing the every thing will be consider as string. "
   ]
  },
  {
   "cell_type": "markdown",
   "id": "64a15456",
   "metadata": {},
   "source": [
    "(5) How do you write a string of newlines if you don't want to use the n character?"
   ]
  },
  {
   "cell_type": "markdown",
   "id": "0f3c550b",
   "metadata": {},
   "source": [
    "Answer--> By Default print() right in very next Line"
   ]
  },
  {
   "cell_type": "markdown",
   "id": "44b5c443",
   "metadata": {},
   "source": [
    "What are the values of the given expressions?\n",
    "'Hello, world!'[1]\n",
    "'Hello, world!'[0:5]\n",
    "'Hello, world!'[:5]\n",
    "'Hello, world!'[3:]\n"
   ]
  },
  {
   "cell_type": "markdown",
   "id": "3188e26f",
   "metadata": {},
   "source": [
    "Answer--> (a) 'e' (b) 'Hello' (c) 'Hello' (d) 'lo, World!'"
   ]
  },
  {
   "cell_type": "markdown",
   "id": "02e0d1ab",
   "metadata": {},
   "source": [
    "(7) What are the values of the following expressions?\n",
    "'Hello'.upper()\n",
    "'Hello'.upper().isupper()\n",
    "'Hello'.upper().lower()\n"
   ]
  },
  {
   "cell_type": "markdown",
   "id": "57b6d911",
   "metadata": {},
   "source": [
    "Answer--> (a) HELLO\n",
    "(b)TRUE\n",
    "(c)hello"
   ]
  },
  {
   "cell_type": "markdown",
   "id": "67a8e5f1",
   "metadata": {},
   "source": [
    "(8) What are the values of the following expressions?\n",
    "'Remember, remember, the fifth of July.'.split()\n",
    "'-'.join('There can only one.'.split())\n"
   ]
  },
  {
   "cell_type": "markdown",
   "id": "99dd450e",
   "metadata": {},
   "source": [
    "Answer--> ['Remember,', 'remember,', 'the', 'fifth', 'of', 'July.']\n",
    "There-can-only-one."
   ]
  },
  {
   "cell_type": "markdown",
   "id": "63ea9c02",
   "metadata": {},
   "source": [
    "(9)What are the methods for right-justifying, left-justifying, and centering a string?"
   ]
  },
  {
   "cell_type": "markdown",
   "id": "d81052f7",
   "metadata": {},
   "source": [
    "Answer--> It is Basiclly used for String Allignment"
   ]
  },
  {
   "cell_type": "markdown",
   "id": "52d17cbd",
   "metadata": {},
   "source": [
    "(10)What is the best way to remove whitespace characters from the start or end?"
   ]
  },
  {
   "cell_type": "markdown",
   "id": "5daaf3ed",
   "metadata": {},
   "source": [
    "Answer--> we can use method trimEnd()"
   ]
  },
  {
   "cell_type": "markdown",
   "id": "d6e31fd5",
   "metadata": {},
   "source": []
  }
 ],
 "metadata": {
  "kernelspec": {
   "display_name": "Python 3 (ipykernel)",
   "language": "python",
   "name": "python3"
  },
  "language_info": {
   "codemirror_mode": {
    "name": "ipython",
    "version": 3
   },
   "file_extension": ".py",
   "mimetype": "text/x-python",
   "name": "python",
   "nbconvert_exporter": "python",
   "pygments_lexer": "ipython3",
   "version": "3.9.7"
  }
 },
 "nbformat": 4,
 "nbformat_minor": 5
}
